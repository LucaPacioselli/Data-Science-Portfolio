{
 "cells": [
  {
   "cell_type": "markdown",
   "id": "aeef0b0c",
   "metadata": {},
   "source": [
    "# 911 Calls: Progetto Portfolio"
   ]
  },
  {
   "cell_type": "markdown",
   "id": "97a15921",
   "metadata": {},
   "source": [
    "In questo progetto portfolio verrà analizzato un dataset di chiamate al 911 preso da [Kaggle](https://www.kaggle.com/mchirico/montcoalert). Lo scopo principale del progetto è compiere un po' di **Exploratory Data Analysis (EDA)**: **Data Analysis** e **Data Visualization** basilari su un set di dati del mondo reale.\n",
    "\n",
    "I dati contengono i seguenti campi di informazione:\n",
    "\n",
    "* lat : String variable, Latitude\n",
    "* lng: String variable, Longitude\n",
    "* desc: String variable, Description of the Emergency Call\n",
    "* zip: String variable, Zipcode\n",
    "* title: String variable, Title\n",
    "* timeStamp: String variable, YYYY-MM-DD HH:MM:SS\n",
    "* twp: String variable, Township\n",
    "* addr: String variable, Address\n",
    "* e: String variable, Dummy variable (always 1)"
   ]
  },
  {
   "cell_type": "markdown",
   "id": "794c8676",
   "metadata": {},
   "source": [
    "## Importare librerie "
   ]
  },
  {
   "cell_type": "code",
   "execution_count": 1,
   "id": "bb29dba7",
   "metadata": {},
   "outputs": [],
   "source": [
    "# Importo le librerie per la data analysis\n",
    "import numpy as np\n",
    "import pandas as pd\n",
    "\n",
    "# Importo le librerie per la data visualization\n",
    "import matplotlib.pyplot as plt\n",
    "import seaborn as sns\n",
    "\n",
    "sns.set_style('whitegrid') # imposto uno stile dei grafici che sia ben leggibile \n",
    "# Faccio in modo che i plot siano visibili nel corso del notebook\n",
    "%matplotlib inline "
   ]
  },
  {
   "cell_type": "markdown",
   "id": "25d7ed67",
   "metadata": {},
   "source": [
    "## Ottenere i dati"
   ]
  },
  {
   "cell_type": "code",
   "execution_count": 2,
   "id": "15ef9772",
   "metadata": {},
   "outputs": [],
   "source": [
    "calls_911 = pd.read_csv('911.csv') # prendo il dataset sotto forma di Pandas DataFrame"
   ]
  },
  {
   "cell_type": "markdown",
   "id": "f885aaff",
   "metadata": {},
   "source": [
    "Controllo le informazioni di base del dataset."
   ]
  },
  {
   "cell_type": "code",
   "execution_count": 3,
   "id": "a1be894b",
   "metadata": {},
   "outputs": [
    {
     "data": {
      "text/html": [
       "<div>\n",
       "<style scoped>\n",
       "    .dataframe tbody tr th:only-of-type {\n",
       "        vertical-align: middle;\n",
       "    }\n",
       "\n",
       "    .dataframe tbody tr th {\n",
       "        vertical-align: top;\n",
       "    }\n",
       "\n",
       "    .dataframe thead th {\n",
       "        text-align: right;\n",
       "    }\n",
       "</style>\n",
       "<table border=\"1\" class=\"dataframe\">\n",
       "  <thead>\n",
       "    <tr style=\"text-align: right;\">\n",
       "      <th></th>\n",
       "      <th>lat</th>\n",
       "      <th>lng</th>\n",
       "      <th>desc</th>\n",
       "      <th>zip</th>\n",
       "      <th>title</th>\n",
       "      <th>timeStamp</th>\n",
       "      <th>twp</th>\n",
       "      <th>addr</th>\n",
       "      <th>e</th>\n",
       "    </tr>\n",
       "  </thead>\n",
       "  <tbody>\n",
       "    <tr>\n",
       "      <th>0</th>\n",
       "      <td>40.297876</td>\n",
       "      <td>-75.581294</td>\n",
       "      <td>REINDEER CT &amp; DEAD END;  NEW HANOVER; Station ...</td>\n",
       "      <td>19525.0</td>\n",
       "      <td>EMS: BACK PAINS/INJURY</td>\n",
       "      <td>2015-12-10 17:40:00</td>\n",
       "      <td>NEW HANOVER</td>\n",
       "      <td>REINDEER CT &amp; DEAD END</td>\n",
       "      <td>1</td>\n",
       "    </tr>\n",
       "    <tr>\n",
       "      <th>1</th>\n",
       "      <td>40.258061</td>\n",
       "      <td>-75.264680</td>\n",
       "      <td>BRIAR PATH &amp; WHITEMARSH LN;  HATFIELD TOWNSHIP...</td>\n",
       "      <td>19446.0</td>\n",
       "      <td>EMS: DIABETIC EMERGENCY</td>\n",
       "      <td>2015-12-10 17:40:00</td>\n",
       "      <td>HATFIELD TOWNSHIP</td>\n",
       "      <td>BRIAR PATH &amp; WHITEMARSH LN</td>\n",
       "      <td>1</td>\n",
       "    </tr>\n",
       "    <tr>\n",
       "      <th>2</th>\n",
       "      <td>40.121182</td>\n",
       "      <td>-75.351975</td>\n",
       "      <td>HAWS AVE; NORRISTOWN; 2015-12-10 @ 14:39:21-St...</td>\n",
       "      <td>19401.0</td>\n",
       "      <td>Fire: GAS-ODOR/LEAK</td>\n",
       "      <td>2015-12-10 17:40:00</td>\n",
       "      <td>NORRISTOWN</td>\n",
       "      <td>HAWS AVE</td>\n",
       "      <td>1</td>\n",
       "    </tr>\n",
       "    <tr>\n",
       "      <th>3</th>\n",
       "      <td>40.116153</td>\n",
       "      <td>-75.343513</td>\n",
       "      <td>AIRY ST &amp; SWEDE ST;  NORRISTOWN; Station 308A;...</td>\n",
       "      <td>19401.0</td>\n",
       "      <td>EMS: CARDIAC EMERGENCY</td>\n",
       "      <td>2015-12-10 17:40:01</td>\n",
       "      <td>NORRISTOWN</td>\n",
       "      <td>AIRY ST &amp; SWEDE ST</td>\n",
       "      <td>1</td>\n",
       "    </tr>\n",
       "    <tr>\n",
       "      <th>4</th>\n",
       "      <td>40.251492</td>\n",
       "      <td>-75.603350</td>\n",
       "      <td>CHERRYWOOD CT &amp; DEAD END;  LOWER POTTSGROVE; S...</td>\n",
       "      <td>NaN</td>\n",
       "      <td>EMS: DIZZINESS</td>\n",
       "      <td>2015-12-10 17:40:01</td>\n",
       "      <td>LOWER POTTSGROVE</td>\n",
       "      <td>CHERRYWOOD CT &amp; DEAD END</td>\n",
       "      <td>1</td>\n",
       "    </tr>\n",
       "  </tbody>\n",
       "</table>\n",
       "</div>"
      ],
      "text/plain": [
       "         lat        lng                                               desc  \\\n",
       "0  40.297876 -75.581294  REINDEER CT & DEAD END;  NEW HANOVER; Station ...   \n",
       "1  40.258061 -75.264680  BRIAR PATH & WHITEMARSH LN;  HATFIELD TOWNSHIP...   \n",
       "2  40.121182 -75.351975  HAWS AVE; NORRISTOWN; 2015-12-10 @ 14:39:21-St...   \n",
       "3  40.116153 -75.343513  AIRY ST & SWEDE ST;  NORRISTOWN; Station 308A;...   \n",
       "4  40.251492 -75.603350  CHERRYWOOD CT & DEAD END;  LOWER POTTSGROVE; S...   \n",
       "\n",
       "       zip                    title            timeStamp                twp  \\\n",
       "0  19525.0   EMS: BACK PAINS/INJURY  2015-12-10 17:40:00        NEW HANOVER   \n",
       "1  19446.0  EMS: DIABETIC EMERGENCY  2015-12-10 17:40:00  HATFIELD TOWNSHIP   \n",
       "2  19401.0      Fire: GAS-ODOR/LEAK  2015-12-10 17:40:00         NORRISTOWN   \n",
       "3  19401.0   EMS: CARDIAC EMERGENCY  2015-12-10 17:40:01         NORRISTOWN   \n",
       "4      NaN           EMS: DIZZINESS  2015-12-10 17:40:01   LOWER POTTSGROVE   \n",
       "\n",
       "                         addr  e  \n",
       "0      REINDEER CT & DEAD END  1  \n",
       "1  BRIAR PATH & WHITEMARSH LN  1  \n",
       "2                    HAWS AVE  1  \n",
       "3          AIRY ST & SWEDE ST  1  \n",
       "4    CHERRYWOOD CT & DEAD END  1  "
      ]
     },
     "execution_count": 3,
     "metadata": {},
     "output_type": "execute_result"
    }
   ],
   "source": [
    "calls_911.head()"
   ]
  },
  {
   "cell_type": "code",
   "execution_count": 4,
   "id": "ade054cd",
   "metadata": {},
   "outputs": [
    {
     "name": "stdout",
     "output_type": "stream",
     "text": [
      "<class 'pandas.core.frame.DataFrame'>\n",
      "RangeIndex: 99492 entries, 0 to 99491\n",
      "Data columns (total 9 columns):\n",
      " #   Column     Non-Null Count  Dtype  \n",
      "---  ------     --------------  -----  \n",
      " 0   lat        99492 non-null  float64\n",
      " 1   lng        99492 non-null  float64\n",
      " 2   desc       99492 non-null  object \n",
      " 3   zip        86637 non-null  float64\n",
      " 4   title      99492 non-null  object \n",
      " 5   timeStamp  99492 non-null  object \n",
      " 6   twp        99449 non-null  object \n",
      " 7   addr       98973 non-null  object \n",
      " 8   e          99492 non-null  int64  \n",
      "dtypes: float64(3), int64(1), object(5)\n",
      "memory usage: 6.8+ MB\n"
     ]
    }
   ],
   "source": [
    "calls_911.info() "
   ]
  },
  {
   "cell_type": "code",
   "execution_count": 5,
   "id": "dc6504dc",
   "metadata": {},
   "outputs": [
    {
     "data": {
      "text/plain": [
       "lat              0\n",
       "lng              0\n",
       "desc             0\n",
       "zip          12855\n",
       "title            0\n",
       "timeStamp        0\n",
       "twp             43\n",
       "addr           519\n",
       "e                0\n",
       "dtype: int64"
      ]
     },
     "execution_count": 5,
     "metadata": {},
     "output_type": "execute_result"
    }
   ],
   "source": [
    "calls_911.isnull().sum() # ci sono dei Missing Data"
   ]
  },
  {
   "cell_type": "code",
   "execution_count": 6,
   "id": "eee3ddee",
   "metadata": {},
   "outputs": [
    {
     "data": {
      "text/plain": [
       "lat           0.000000\n",
       "lng           0.000000\n",
       "desc          0.000000\n",
       "zip          12.920637\n",
       "title         0.000000\n",
       "timeStamp     0.000000\n",
       "twp           0.043220\n",
       "addr          0.521650\n",
       "e             0.000000\n",
       "dtype: float64"
      ]
     },
     "execution_count": 6,
     "metadata": {},
     "output_type": "execute_result"
    }
   ],
   "source": [
    "(calls_911.isnull().sum()/len(calls_911))*100 # percentuale di Missing Data nel dataset"
   ]
  },
  {
   "cell_type": "markdown",
   "id": "08f899db",
   "metadata": {},
   "source": [
    "Si potrebbero usare le feature 'lat' e 'lng' per inferire tutti i Missing Data, dato che zipcode, township e address sono tutte feature relative alla località da cui parte la chiamata al 911. Ma non è lo scopo di questo progetto."
   ]
  },
  {
   "cell_type": "code",
   "execution_count": 7,
   "id": "3a5c7d20",
   "metadata": {},
   "outputs": [],
   "source": [
    "calls_911 = calls_911.drop('e',axis=1) # scarto l'inutile colonna 'e'"
   ]
  },
  {
   "cell_type": "markdown",
   "id": "bb825031",
   "metadata": {},
   "source": [
    "## Analisi basilare"
   ]
  },
  {
   "cell_type": "markdown",
   "id": "ba103521",
   "metadata": {},
   "source": [
    "Quali sono le prime 20 township/giurisdizioni per numero di chiamate al 911?"
   ]
  },
  {
   "cell_type": "code",
   "execution_count": 8,
   "id": "c6a2f96e",
   "metadata": {},
   "outputs": [
    {
     "data": {
      "text/plain": [
       "LOWER MERION         8443\n",
       "ABINGTON             5977\n",
       "NORRISTOWN           5890\n",
       "UPPER MERION         5227\n",
       "CHELTENHAM           4575\n",
       "POTTSTOWN            4146\n",
       "UPPER MORELAND       3434\n",
       "LOWER PROVIDENCE     3225\n",
       "PLYMOUTH             3158\n",
       "HORSHAM              3003\n",
       "MONTGOMERY           2698\n",
       "UPPER DUBLIN         2638\n",
       "WHITEMARSH           2526\n",
       "UPPER PROVIDENCE     2313\n",
       "LIMERICK             2272\n",
       "SPRINGFIELD          2202\n",
       "WHITPAIN             2135\n",
       "EAST NORRITON        2038\n",
       "LANSDALE             1743\n",
       "HATFIELD TOWNSHIP    1732\n",
       "Name: twp, dtype: int64"
      ]
     },
     "execution_count": 8,
     "metadata": {},
     "output_type": "execute_result"
    }
   ],
   "source": [
    "calls_911['twp'].value_counts().head(20)"
   ]
  },
  {
   "cell_type": "markdown",
   "id": "d0071a7f",
   "metadata": {},
   "source": [
    "Quali sono i primi 10 zipcode per numero di chiamate al 911?"
   ]
  },
  {
   "cell_type": "code",
   "execution_count": 9,
   "id": "793c56a1",
   "metadata": {},
   "outputs": [
    {
     "data": {
      "text/plain": [
       "19401.0    6979\n",
       "19464.0    6643\n",
       "19403.0    4854\n",
       "19446.0    4748\n",
       "19406.0    3174\n",
       "19002.0    3050\n",
       "19468.0    2990\n",
       "19454.0    2781\n",
       "19090.0    2635\n",
       "19038.0    2578\n",
       "Name: zip, dtype: int64"
      ]
     },
     "execution_count": 9,
     "metadata": {},
     "output_type": "execute_result"
    }
   ],
   "source": [
    "calls_911['zip'].value_counts().head(10)"
   ]
  },
  {
   "cell_type": "markdown",
   "id": "99e5d8be",
   "metadata": {},
   "source": [
    "Su 99492 chiamate quante di queste sono state fatte per motivi differenti?"
   ]
  },
  {
   "cell_type": "code",
   "execution_count": 10,
   "id": "89494052",
   "metadata": {},
   "outputs": [
    {
     "data": {
      "text/plain": [
       "110"
      ]
     },
     "execution_count": 10,
     "metadata": {},
     "output_type": "execute_result"
    }
   ],
   "source": [
    "calls_911['title'].nunique()"
   ]
  },
  {
   "cell_type": "markdown",
   "id": "96516f1d",
   "metadata": {},
   "source": [
    "## Feature Engineering di base"
   ]
  },
  {
   "cell_type": "markdown",
   "id": "1931a423",
   "metadata": {},
   "source": [
    "Dal nostro dataset è possibile estrarre altre informazioni utilizzando le feature già presenti.\n",
    "\n",
    "Dalla colonna 'title' si può inferire la ragione per cui è stata fatta la chiamata: servizio di medicina d'urgenza (EMS), vigili del fuoco (Fire) o incidenti stradali (Traffic). Si riporta questa informazione in una nuova colonna 'Reason'.\n",
    "\n",
    "La colonna 'timeStamp', invece, sintetizza in sé l'anno , il mese, il giorno e l'orario della chimata al 911. Queste informazioni possono essere utili per indagare una possibile correlazione fra le chiamate e il periodo dell'anno o il giorno della settimana o l'orario della giornata."
   ]
  },
  {
   "cell_type": "code",
   "execution_count": 11,
   "id": "5f822f8a",
   "metadata": {},
   "outputs": [
    {
     "data": {
      "text/plain": [
       "0            EMS\n",
       "1            EMS\n",
       "2           Fire\n",
       "3            EMS\n",
       "4            EMS\n",
       "          ...   \n",
       "99487    Traffic\n",
       "99488    Traffic\n",
       "99489        EMS\n",
       "99490        EMS\n",
       "99491    Traffic\n",
       "Name: Reason, Length: 99492, dtype: object"
      ]
     },
     "execution_count": 11,
     "metadata": {},
     "output_type": "execute_result"
    }
   ],
   "source": [
    "calls_911['Reason'] = calls_911['title'].apply(lambda s: s.split(':')[0])\n",
    "calls_911['Reason']"
   ]
  },
  {
   "cell_type": "markdown",
   "id": "e29c8d89",
   "metadata": {},
   "source": [
    "A questo punto è possibile verificare e visualizzare quale ragione porta al maggior numero di chiamate al 911 nel nostro dataset."
   ]
  },
  {
   "cell_type": "code",
   "execution_count": 12,
   "id": "8510cd4e",
   "metadata": {},
   "outputs": [
    {
     "data": {
      "text/plain": [
       "EMS        48877\n",
       "Traffic    35695\n",
       "Fire       14920\n",
       "Name: Reason, dtype: int64"
      ]
     },
     "execution_count": 12,
     "metadata": {},
     "output_type": "execute_result"
    }
   ],
   "source": [
    "calls_911['Reason'].value_counts()"
   ]
  },
  {
   "cell_type": "code",
   "execution_count": 13,
   "id": "18e93301",
   "metadata": {},
   "outputs": [
    {
     "data": {
      "text/plain": [
       "<AxesSubplot:xlabel='Reason', ylabel='count'>"
      ]
     },
     "execution_count": 13,
     "metadata": {},
     "output_type": "execute_result"
    },
    {
     "data": {
      "image/png": "[encoded data removed]",
      "text/plain": [
       "<Figure size 432x288 with 1 Axes>"
      ]
     },
     "metadata": {
      "needs_background": "light"
     },
     "output_type": "display_data"
    }
   ],
   "source": [
    "sns.countplot(data=calls_911,x='Reason',palette={'EMS':'blue','Fire':'red','Traffic':'gray'},\n",
    "              saturation=0.6)"
   ]
  },
  {
   "cell_type": "markdown",
   "id": "ba65ead0",
   "metadata": {},
   "source": [
    "Come spesso accade con le informazioni relative al 'tempo', bisogna capire di che tipo siano riportate nei dataset."
   ]
  },
  {
   "cell_type": "code",
   "execution_count": 14,
   "id": "eea13ce6",
   "metadata": {},
   "outputs": [
    {
     "data": {
      "text/plain": [
       "str"
      ]
     },
     "execution_count": 14,
     "metadata": {},
     "output_type": "execute_result"
    }
   ],
   "source": [
    "type(calls_911['timeStamp'][0]) # in questo caso sono stringhe"
   ]
  },
  {
   "cell_type": "markdown",
   "id": "aded45c0",
   "metadata": {},
   "source": [
    "Vanno manipolate per ottenere degli oggetti più facilmente lavorabili."
   ]
  },
  {
   "cell_type": "code",
   "execution_count": 15,
   "id": "bd46dd1b",
   "metadata": {},
   "outputs": [
    {
     "data": {
      "text/plain": [
       "pandas._libs.tslibs.timestamps.Timestamp"
      ]
     },
     "execution_count": 15,
     "metadata": {},
     "output_type": "execute_result"
    }
   ],
   "source": [
    "# Converto le stringhe in oggetti DateTime\n",
    "calls_911['timeStamp'] = pd.to_datetime(calls_911['timeStamp']) \n",
    "type(calls_911['timeStamp'][0])"
   ]
  },
  {
   "cell_type": "markdown",
   "id": "8dea5460",
   "metadata": {},
   "source": [
    "Da questo oggetto è possibile estrarre le tipiche informazioni del tempo tramite una gran varietà di metodi che Python mette a disposizione."
   ]
  },
  {
   "cell_type": "code",
   "execution_count": 16,
   "id": "a11ab8fd",
   "metadata": {},
   "outputs": [],
   "source": [
    "calls_911['Hour'] = calls_911['timeStamp'].apply(lambda hour: hour.hour)\n",
    "calls_911['Month'] = calls_911['timeStamp'].apply(lambda month: month.month)\n",
    "calls_911['Day of Week'] = calls_911['timeStamp'].apply(lambda day: day.day_of_week)"
   ]
  },
  {
   "cell_type": "code",
   "execution_count": 17,
   "id": "d8df74b3",
   "metadata": {},
   "outputs": [
    {
     "data": {
      "text/plain": [
       "0    3\n",
       "1    3\n",
       "2    3\n",
       "3    3\n",
       "4    3\n",
       "Name: Day of Week, dtype: int64"
      ]
     },
     "execution_count": 17,
     "metadata": {},
     "output_type": "execute_result"
    }
   ],
   "source": [
    "calls_911['Day of Week'].head() # i giorni sono degli interi, vanno rimappati per leggibilità"
   ]
  },
  {
   "cell_type": "code",
   "execution_count": 18,
   "id": "f8d8e62b",
   "metadata": {},
   "outputs": [],
   "source": [
    "day_map = {0:'Mon',1:'Tue',2:'Wed',3:'Thu',4:'Fri',5:'Sat',6:'Sun'}"
   ]
  },
  {
   "cell_type": "code",
   "execution_count": 19,
   "id": "9b350476",
   "metadata": {},
   "outputs": [],
   "source": [
    "calls_911['Day of Week'] = calls_911['Day of Week'].map(day_map)"
   ]
  },
  {
   "cell_type": "code",
   "execution_count": 20,
   "id": "0161ade9",
   "metadata": {},
   "outputs": [
    {
     "data": {
      "text/plain": [
       "0    Thu\n",
       "1    Thu\n",
       "2    Thu\n",
       "3    Thu\n",
       "4    Thu\n",
       "Name: Day of Week, dtype: object"
      ]
     },
     "execution_count": 20,
     "metadata": {},
     "output_type": "execute_result"
    }
   ],
   "source": [
    "calls_911['Day of Week'].head()"
   ]
  },
  {
   "cell_type": "markdown",
   "id": "187b5ee0",
   "metadata": {},
   "source": [
    "## Data Analysis & Data Visualization"
   ]
  },
  {
   "cell_type": "markdown",
   "id": "b956708a",
   "metadata": {},
   "source": [
    "Si utilizzano le nuove feature per analizzare il dataset più approfonditamente."
   ]
  },
  {
   "cell_type": "code",
   "execution_count": 25,
   "id": "9741b23b",
   "metadata": {},
   "outputs": [
    {
     "data": {
      "text/plain": [
       "<matplotlib.legend.Legend at 0x7fb3bccd62e0>"
      ]
     },
     "execution_count": 25,
     "metadata": {},
     "output_type": "execute_result"
    },
    {
     "data": {
      "image/png": "[encoded data removed]",
      "text/plain": [
       "<Figure size 432x288 with 1 Axes>"
      ]
     },
     "metadata": {
      "needs_background": "light"
     },
     "output_type": "display_data"
    }
   ],
   "source": [
    "sns.countplot(x='Day of Week',data=calls_911,hue='Reason',\n",
    "              order=['Mon','Tue','Wed','Thu','Fri','Sat','Sun'],\n",
    "              palette={'EMS':'blue','Fire':'red','Traffic':'gray'},saturation=0.6)\n",
    "plt.legend(bbox_to_anchor=(1.05, 1), loc=2, borderaxespad=0.) # sposto la legenda fuori dal plot"
   ]
  },
  {
   "cell_type": "markdown",
   "id": "e3d9775c",
   "metadata": {},
   "source": [
    "**Si può notare che durante il fine settimana le chiamate al 911 per incidenti stradali diminuiscono, come è intuitivo che sia. Più sorprendentemente anche le chiamate per il servizio di medicina d'urgenza hanno una leggera flessione nel weekend, al contrario di quelle per i vigili del fuoco.**"
   ]
  },
  {
   "cell_type": "markdown",
   "id": "0497d68c",
   "metadata": {},
   "source": [
    "Si prova la stessa analisi per i mesi."
   ]
  },
  {
   "cell_type": "code",
   "execution_count": 27,
   "id": "d99337a8",
   "metadata": {},
   "outputs": [
    {
     "data": {
      "text/plain": [
       "<matplotlib.legend.Legend at 0x7fb3bcd62220>"
      ]
     },
     "execution_count": 27,
     "metadata": {},
     "output_type": "execute_result"
    },
    {
     "data": {
      "image/png": "[encoded data removed]",
      "text/plain": [
       "<Figure size 432x288 with 1 Axes>"
      ]
     },
     "metadata": {
      "needs_background": "light"
     },
     "output_type": "display_data"
    }
   ],
   "source": [
    "sns.countplot(x='Month',data=calls_911,hue='Reason',\n",
    "              palette={'EMS':'blue','Fire':'red','Traffic':'gray'},saturation=0.6)\n",
    "plt.legend(bbox_to_anchor=(1.05, 1), loc=2, borderaxespad=0.) # sposto la legenda fuori dal plot"
   ]
  },
  {
   "cell_type": "markdown",
   "id": "a66a2212",
   "metadata": {},
   "source": [
    "**Si noti che mancano alcuni mesi dell'anno: settembre, ottobre e novembre.**"
   ]
  },
  {
   "cell_type": "markdown",
   "id": "15345129",
   "metadata": {},
   "source": [
    "Questa volta si prova un'analisi più dettagliata e meno visiva. Si indaga la correlazione tra il numero delle chiamate e il mese dell'anno."
   ]
  },
  {
   "cell_type": "code",
   "execution_count": 31,
   "id": "e08cb41b",
   "metadata": {},
   "outputs": [
    {
     "data": {
      "text/html": [
       "<div>\n",
       "<style scoped>\n",
       "    .dataframe tbody tr th:only-of-type {\n",
       "        vertical-align: middle;\n",
       "    }\n",
       "\n",
       "    .dataframe tbody tr th {\n",
       "        vertical-align: top;\n",
       "    }\n",
       "\n",
       "    .dataframe thead th {\n",
       "        text-align: right;\n",
       "    }\n",
       "</style>\n",
       "<table border=\"1\" class=\"dataframe\">\n",
       "  <thead>\n",
       "    <tr style=\"text-align: right;\">\n",
       "      <th></th>\n",
       "      <th>lat</th>\n",
       "      <th>lng</th>\n",
       "      <th>desc</th>\n",
       "      <th>zip</th>\n",
       "      <th>title</th>\n",
       "      <th>timeStamp</th>\n",
       "      <th>twp</th>\n",
       "      <th>addr</th>\n",
       "      <th>Reason</th>\n",
       "      <th>Hour</th>\n",
       "      <th>Day of Week</th>\n",
       "    </tr>\n",
       "    <tr>\n",
       "      <th>Month</th>\n",
       "      <th></th>\n",
       "      <th></th>\n",
       "      <th></th>\n",
       "      <th></th>\n",
       "      <th></th>\n",
       "      <th></th>\n",
       "      <th></th>\n",
       "      <th></th>\n",
       "      <th></th>\n",
       "      <th></th>\n",
       "      <th></th>\n",
       "    </tr>\n",
       "  </thead>\n",
       "  <tbody>\n",
       "    <tr>\n",
       "      <th>1</th>\n",
       "      <td>13205</td>\n",
       "      <td>13205</td>\n",
       "      <td>13205</td>\n",
       "      <td>11527</td>\n",
       "      <td>13205</td>\n",
       "      <td>13205</td>\n",
       "      <td>13203</td>\n",
       "      <td>13096</td>\n",
       "      <td>13205</td>\n",
       "      <td>13205</td>\n",
       "      <td>13205</td>\n",
       "    </tr>\n",
       "    <tr>\n",
       "      <th>2</th>\n",
       "      <td>11467</td>\n",
       "      <td>11467</td>\n",
       "      <td>11467</td>\n",
       "      <td>9930</td>\n",
       "      <td>11467</td>\n",
       "      <td>11467</td>\n",
       "      <td>11465</td>\n",
       "      <td>11396</td>\n",
       "      <td>11467</td>\n",
       "      <td>11467</td>\n",
       "      <td>11467</td>\n",
       "    </tr>\n",
       "    <tr>\n",
       "      <th>3</th>\n",
       "      <td>11101</td>\n",
       "      <td>11101</td>\n",
       "      <td>11101</td>\n",
       "      <td>9755</td>\n",
       "      <td>11101</td>\n",
       "      <td>11101</td>\n",
       "      <td>11092</td>\n",
       "      <td>11059</td>\n",
       "      <td>11101</td>\n",
       "      <td>11101</td>\n",
       "      <td>11101</td>\n",
       "    </tr>\n",
       "    <tr>\n",
       "      <th>4</th>\n",
       "      <td>11326</td>\n",
       "      <td>11326</td>\n",
       "      <td>11326</td>\n",
       "      <td>9895</td>\n",
       "      <td>11326</td>\n",
       "      <td>11326</td>\n",
       "      <td>11323</td>\n",
       "      <td>11283</td>\n",
       "      <td>11326</td>\n",
       "      <td>11326</td>\n",
       "      <td>11326</td>\n",
       "    </tr>\n",
       "    <tr>\n",
       "      <th>5</th>\n",
       "      <td>11423</td>\n",
       "      <td>11423</td>\n",
       "      <td>11423</td>\n",
       "      <td>9946</td>\n",
       "      <td>11423</td>\n",
       "      <td>11423</td>\n",
       "      <td>11420</td>\n",
       "      <td>11378</td>\n",
       "      <td>11423</td>\n",
       "      <td>11423</td>\n",
       "      <td>11423</td>\n",
       "    </tr>\n",
       "  </tbody>\n",
       "</table>\n",
       "</div>"
      ],
      "text/plain": [
       "         lat    lng   desc    zip  title  timeStamp    twp   addr  Reason  \\\n",
       "Month                                                                       \n",
       "1      13205  13205  13205  11527  13205      13205  13203  13096   13205   \n",
       "2      11467  11467  11467   9930  11467      11467  11465  11396   11467   \n",
       "3      11101  11101  11101   9755  11101      11101  11092  11059   11101   \n",
       "4      11326  11326  11326   9895  11326      11326  11323  11283   11326   \n",
       "5      11423  11423  11423   9946  11423      11423  11420  11378   11423   \n",
       "\n",
       "        Hour  Day of Week  \n",
       "Month                      \n",
       "1      13205        13205  \n",
       "2      11467        11467  \n",
       "3      11101        11101  \n",
       "4      11326        11326  \n",
       "5      11423        11423  "
      ]
     },
     "execution_count": 31,
     "metadata": {},
     "output_type": "execute_result"
    }
   ],
   "source": [
    "byMonth = calls_911.groupby('Month').count() # raggruppo il dataset per mese e seleziono il conteggio\n",
    "byMonth.head()"
   ]
  },
  {
   "cell_type": "code",
   "execution_count": 34,
   "id": "d0965624",
   "metadata": {},
   "outputs": [
    {
     "data": {
      "text/plain": [
       "Text(0, 0.5, 'Numero di chiamate')"
      ]
     },
     "execution_count": 34,
     "metadata": {},
     "output_type": "execute_result"
    },
    {
     "data": {
      "image/png": "[encoded data removed]",
      "text/plain": [
       "<Figure size 432x288 with 1 Axes>"
      ]
     },
     "metadata": {
      "needs_background": "light"
     },
     "output_type": "display_data"
    }
   ],
   "source": [
    "byMonth['lat'].plot() # una colonna a caso (senza Missing Data)\n",
    "\n",
    "plt.title('Chiamate per mese')\n",
    "plt.xlabel('Month')\n",
    "plt.ylabel('Numero di chiamate')"
   ]
  },
  {
   "cell_type": "markdown",
   "id": "bc6a8a6d",
   "metadata": {},
   "source": [
    "**Anche senza alcuni mesi nel dataset si può vedere come sembra esserci una diminuzione nelle chiamate al 911 alla fine dell'anno/festività in USA.**"
   ]
  },
  {
   "cell_type": "markdown",
   "id": "255d1834",
   "metadata": {},
   "source": [
    "Si verifica quest'affermazione con una regressione lineare, usando la libreria Seaborn."
   ]
  },
  {
   "cell_type": "code",
   "execution_count": 33,
   "id": "14d53373",
   "metadata": {},
   "outputs": [
    {
     "data": {
      "text/plain": [
       "Text(5.674999999999997, 0.5, 'Numero di chiamate')"
      ]
     },
     "execution_count": 33,
     "metadata": {},
     "output_type": "execute_result"
    },
    {
     "data": {
      "image/png": "[encoded data removed]",
      "text/plain": [
       "<Figure size 360x360 with 1 Axes>"
      ]
     },
     "metadata": {
      "needs_background": "light"
     },
     "output_type": "display_data"
    }
   ],
   "source": [
    "sns.lmplot(x='Month',y='lat',data=byMonth.reset_index())\n",
    "\n",
    "plt.xlabel('Month')\n",
    "plt.ylabel('Numero di chiamate')"
   ]
  },
  {
   "cell_type": "markdown",
   "id": "84b062ff",
   "metadata": {},
   "source": [
    "**L'analisi statistica integrata nel metodo lmplot di Seaborn sembrerebbe confermare (bisognerebbe vedere la bontà del fit) la decrescita nel periodo delle festività. Si potrebbe inferire il numero di chiamate nei mesi mancanti.**"
   ]
  },
  {
   "cell_type": "markdown",
   "id": "92e8d7f7",
   "metadata": {},
   "source": [
    "Si estrae la data dalla colonna 'timeStamp' per analizzare l'andamento delle chiamate ancora più nel dettaglio."
   ]
  },
  {
   "cell_type": "code",
   "execution_count": 35,
   "id": "e3b1c663",
   "metadata": {},
   "outputs": [],
   "source": [
    "calls_911['Date'] = calls_911['timeStamp'].apply(lambda t: t.date())"
   ]
  },
  {
   "cell_type": "code",
   "execution_count": 38,
   "id": "f9506509",
   "metadata": {},
   "outputs": [
    {
     "data": {
      "text/plain": [
       "0        2015-12-10\n",
       "1        2015-12-10\n",
       "2        2015-12-10\n",
       "3        2015-12-10\n",
       "4        2015-12-10\n",
       "            ...    \n",
       "99487    2016-08-24\n",
       "99488    2016-08-24\n",
       "99489    2016-08-24\n",
       "99490    2016-08-24\n",
       "99491    2016-08-24\n",
       "Name: Date, Length: 99492, dtype: object"
      ]
     },
     "execution_count": 38,
     "metadata": {},
     "output_type": "execute_result"
    }
   ],
   "source": [
    "calls_911['Date']"
   ]
  },
  {
   "cell_type": "markdown",
   "id": "e2b9ee0f",
   "metadata": {},
   "source": [
    "Si analizza l'andamento delle chiamate per data."
   ]
  },
  {
   "cell_type": "code",
   "execution_count": 40,
   "id": "96cc236f",
   "metadata": {},
   "outputs": [
    {
     "data": {
      "image/png": "[encoded data removed]",
      "text/plain": [
       "<Figure size 432x288 with 1 Axes>"
      ]
     },
     "metadata": {
      "needs_background": "light"
     },
     "output_type": "display_data"
    }
   ],
   "source": [
    "calls_911.groupby('Date').count()['lat'].plot()\n",
    "\n",
    "plt.title('Chiamate per data')\n",
    "plt.ylabel('Numero di chiamate')\n",
    "plt.xlabel('Data')\n",
    "plt.tight_layout()"
   ]
  },
  {
   "cell_type": "markdown",
   "id": "878cfbe9",
   "metadata": {},
   "source": [
    "**Il numero di chiamate oscilla attorno ad un valore medio, salvo per il normale 'rumore' stocastico, MA sono presenti dei picchi e delle buche non indifferenti. Si potrebbe andare a controllare cosa è successo nella zona in cui è stato raccolto il dataset in quelle date per cercare di capire il motivo del grande scostamento dal valore medio.**"
   ]
  },
  {
   "cell_type": "markdown",
   "id": "274f6553",
   "metadata": {},
   "source": [
    "Si analizza la stessa cosa ma per le tre differenti ragioni delle chiamate al 911."
   ]
  },
  {
   "cell_type": "code",
   "execution_count": 58,
   "id": "eba49a34",
   "metadata": {},
   "outputs": [
    {
     "data": {
      "image/png": "[encoded data removed]",
      "text/plain": [
       "<Figure size 432x288 with 1 Axes>"
      ]
     },
     "metadata": {
      "needs_background": "light"
     },
     "output_type": "display_data"
    }
   ],
   "source": [
    "calls_911[calls_911['Reason'] == 'EMS'].groupby('Date').count()['lat'].plot(color='blue',\n",
    "                                                                             linewidth=0.75)\n",
    "\n",
    "plt.title('EMS')\n",
    "plt.ylabel('Numero di chiamate')\n",
    "plt.xlabel('Data')\n",
    "plt.tight_layout()"
   ]
  },
  {
   "cell_type": "code",
   "execution_count": 48,
   "id": "ad47c964",
   "metadata": {},
   "outputs": [
    {
     "data": {
      "image/png": "[encoded data removed]",
      "text/plain": [
       "<Figure size 432x288 with 1 Axes>"
      ]
     },
     "metadata": {
      "needs_background": "light"
     },
     "output_type": "display_data"
    }
   ],
   "source": [
    "calls_911[calls_911['Reason'] == 'Fire'].groupby('Date').count()['lat'].plot(color='red',\n",
    "                                                                             linewidth=0.75)\n",
    "\n",
    "plt.title('Fire')\n",
    "plt.ylabel('Numero di chiamate')\n",
    "plt.xlabel('Data')\n",
    "plt.tight_layout()"
   ]
  },
  {
   "cell_type": "code",
   "execution_count": 52,
   "id": "b297aad6",
   "metadata": {},
   "outputs": [
    {
     "data": {
      "image/png": "[encoded data removed]",
      "text/plain": [
       "<Figure size 432x288 with 1 Axes>"
      ]
     },
     "metadata": {
      "needs_background": "light"
     },
     "output_type": "display_data"
    }
   ],
   "source": [
    "calls_911[calls_911['Reason'] == 'Traffic'].groupby('Date').count()['lat'].plot(color='gray',\n",
    "                                                                             linewidth=1.5)\n",
    "\n",
    "plt.title('Traffic')\n",
    "plt.ylabel('Numero di chiamate')\n",
    "plt.xlabel('Data')\n",
    "plt.tight_layout()"
   ]
  },
  {
   "cell_type": "markdown",
   "id": "69d9022c",
   "metadata": {},
   "source": [
    "Ora si indaga la correlazione tra le ore del giorno e il giorno della settimana per numero di chiamate al 911, usando le heatmap. A questo scopo si deve modellare il dataset così da avere una sorta di matrice (giorno X ore), si può fare con i metodi groupby e unstack o con il metodo pivot_table."
   ]
  },
  {
   "cell_type": "code",
   "execution_count": 82,
   "id": "4cb157a5",
   "metadata": {
    "scrolled": true
   },
   "outputs": [
    {
     "data": {
      "text/plain": [
       "Hour\n",
       "0     383\n",
       "1     306\n",
       "2     286\n",
       "3     268\n",
       "4     242\n",
       "5     240\n",
       "6     300\n",
       "7     402\n",
       "8     483\n",
       "9     620\n",
       "10    643\n",
       "11    693\n",
       "12    771\n",
       "13    679\n",
       "14    684\n",
       "15    691\n",
       "16    663\n",
       "17    714\n",
       "18    670\n",
       "19    655\n",
       "20    537\n",
       "21    461\n",
       "22    415\n",
       "23    330\n",
       "Name: Sun, dtype: int64"
      ]
     },
     "execution_count": 82,
     "metadata": {},
     "output_type": "execute_result"
    }
   ],
   "source": [
    "dayHour.iloc[1] # 'Mon'\n",
    "dayHour.iloc[5] # 'Tue'\n",
    "dayHour.iloc[6] # 'Wed'\n",
    "dayHour.iloc[4] # 'Thu'\n",
    "dayHour.iloc[0] # 'Fri'\n",
    "dayHour.iloc[2] # 'Sat'\n",
    "dayHour.iloc[3] # 'Sun'"
   ]
  },
  {
   "cell_type": "code",
   "execution_count": 78,
   "id": "182cd719",
   "metadata": {},
   "outputs": [
    {
     "data": {
      "text/html": [
       "<div>\n",
       "<style scoped>\n",
       "    .dataframe tbody tr th:only-of-type {\n",
       "        vertical-align: middle;\n",
       "    }\n",
       "\n",
       "    .dataframe tbody tr th {\n",
       "        vertical-align: top;\n",
       "    }\n",
       "\n",
       "    .dataframe thead th {\n",
       "        text-align: right;\n",
       "    }\n",
       "</style>\n",
       "<table border=\"1\" class=\"dataframe\">\n",
       "  <thead>\n",
       "    <tr style=\"text-align: right;\">\n",
       "      <th>Hour</th>\n",
       "      <th>0</th>\n",
       "      <th>1</th>\n",
       "      <th>2</th>\n",
       "      <th>3</th>\n",
       "      <th>4</th>\n",
       "      <th>5</th>\n",
       "      <th>6</th>\n",
       "      <th>7</th>\n",
       "      <th>8</th>\n",
       "      <th>9</th>\n",
       "      <th>...</th>\n",
       "      <th>14</th>\n",
       "      <th>15</th>\n",
       "      <th>16</th>\n",
       "      <th>17</th>\n",
       "      <th>18</th>\n",
       "      <th>19</th>\n",
       "      <th>20</th>\n",
       "      <th>21</th>\n",
       "      <th>22</th>\n",
       "      <th>23</th>\n",
       "    </tr>\n",
       "    <tr>\n",
       "      <th>Day of Week</th>\n",
       "      <th></th>\n",
       "      <th></th>\n",
       "      <th></th>\n",
       "      <th></th>\n",
       "      <th></th>\n",
       "      <th></th>\n",
       "      <th></th>\n",
       "      <th></th>\n",
       "      <th></th>\n",
       "      <th></th>\n",
       "      <th></th>\n",
       "      <th></th>\n",
       "      <th></th>\n",
       "      <th></th>\n",
       "      <th></th>\n",
       "      <th></th>\n",
       "      <th></th>\n",
       "      <th></th>\n",
       "      <th></th>\n",
       "      <th></th>\n",
       "      <th></th>\n",
       "    </tr>\n",
       "  </thead>\n",
       "  <tbody>\n",
       "    <tr>\n",
       "      <th>Fri</th>\n",
       "      <td>275</td>\n",
       "      <td>235</td>\n",
       "      <td>191</td>\n",
       "      <td>175</td>\n",
       "      <td>201</td>\n",
       "      <td>194</td>\n",
       "      <td>372</td>\n",
       "      <td>598</td>\n",
       "      <td>742</td>\n",
       "      <td>752</td>\n",
       "      <td>...</td>\n",
       "      <td>932</td>\n",
       "      <td>980</td>\n",
       "      <td>1039</td>\n",
       "      <td>980</td>\n",
       "      <td>820</td>\n",
       "      <td>696</td>\n",
       "      <td>667</td>\n",
       "      <td>559</td>\n",
       "      <td>514</td>\n",
       "      <td>474</td>\n",
       "    </tr>\n",
       "    <tr>\n",
       "      <th>Mon</th>\n",
       "      <td>282</td>\n",
       "      <td>221</td>\n",
       "      <td>201</td>\n",
       "      <td>194</td>\n",
       "      <td>204</td>\n",
       "      <td>267</td>\n",
       "      <td>397</td>\n",
       "      <td>653</td>\n",
       "      <td>819</td>\n",
       "      <td>786</td>\n",
       "      <td>...</td>\n",
       "      <td>869</td>\n",
       "      <td>913</td>\n",
       "      <td>989</td>\n",
       "      <td>997</td>\n",
       "      <td>885</td>\n",
       "      <td>746</td>\n",
       "      <td>613</td>\n",
       "      <td>497</td>\n",
       "      <td>472</td>\n",
       "      <td>325</td>\n",
       "    </tr>\n",
       "    <tr>\n",
       "      <th>Sat</th>\n",
       "      <td>375</td>\n",
       "      <td>301</td>\n",
       "      <td>263</td>\n",
       "      <td>260</td>\n",
       "      <td>224</td>\n",
       "      <td>231</td>\n",
       "      <td>257</td>\n",
       "      <td>391</td>\n",
       "      <td>459</td>\n",
       "      <td>640</td>\n",
       "      <td>...</td>\n",
       "      <td>789</td>\n",
       "      <td>796</td>\n",
       "      <td>848</td>\n",
       "      <td>757</td>\n",
       "      <td>778</td>\n",
       "      <td>696</td>\n",
       "      <td>628</td>\n",
       "      <td>572</td>\n",
       "      <td>506</td>\n",
       "      <td>467</td>\n",
       "    </tr>\n",
       "    <tr>\n",
       "      <th>Sun</th>\n",
       "      <td>383</td>\n",
       "      <td>306</td>\n",
       "      <td>286</td>\n",
       "      <td>268</td>\n",
       "      <td>242</td>\n",
       "      <td>240</td>\n",
       "      <td>300</td>\n",
       "      <td>402</td>\n",
       "      <td>483</td>\n",
       "      <td>620</td>\n",
       "      <td>...</td>\n",
       "      <td>684</td>\n",
       "      <td>691</td>\n",
       "      <td>663</td>\n",
       "      <td>714</td>\n",
       "      <td>670</td>\n",
       "      <td>655</td>\n",
       "      <td>537</td>\n",
       "      <td>461</td>\n",
       "      <td>415</td>\n",
       "      <td>330</td>\n",
       "    </tr>\n",
       "    <tr>\n",
       "      <th>Thu</th>\n",
       "      <td>278</td>\n",
       "      <td>202</td>\n",
       "      <td>233</td>\n",
       "      <td>159</td>\n",
       "      <td>182</td>\n",
       "      <td>203</td>\n",
       "      <td>362</td>\n",
       "      <td>570</td>\n",
       "      <td>777</td>\n",
       "      <td>828</td>\n",
       "      <td>...</td>\n",
       "      <td>876</td>\n",
       "      <td>969</td>\n",
       "      <td>935</td>\n",
       "      <td>1013</td>\n",
       "      <td>810</td>\n",
       "      <td>698</td>\n",
       "      <td>617</td>\n",
       "      <td>553</td>\n",
       "      <td>424</td>\n",
       "      <td>354</td>\n",
       "    </tr>\n",
       "    <tr>\n",
       "      <th>Tue</th>\n",
       "      <td>269</td>\n",
       "      <td>240</td>\n",
       "      <td>186</td>\n",
       "      <td>170</td>\n",
       "      <td>209</td>\n",
       "      <td>239</td>\n",
       "      <td>415</td>\n",
       "      <td>655</td>\n",
       "      <td>889</td>\n",
       "      <td>880</td>\n",
       "      <td>...</td>\n",
       "      <td>943</td>\n",
       "      <td>938</td>\n",
       "      <td>1026</td>\n",
       "      <td>1019</td>\n",
       "      <td>905</td>\n",
       "      <td>731</td>\n",
       "      <td>647</td>\n",
       "      <td>571</td>\n",
       "      <td>462</td>\n",
       "      <td>274</td>\n",
       "    </tr>\n",
       "    <tr>\n",
       "      <th>Wed</th>\n",
       "      <td>250</td>\n",
       "      <td>216</td>\n",
       "      <td>189</td>\n",
       "      <td>209</td>\n",
       "      <td>156</td>\n",
       "      <td>255</td>\n",
       "      <td>410</td>\n",
       "      <td>701</td>\n",
       "      <td>875</td>\n",
       "      <td>808</td>\n",
       "      <td>...</td>\n",
       "      <td>904</td>\n",
       "      <td>867</td>\n",
       "      <td>990</td>\n",
       "      <td>1037</td>\n",
       "      <td>894</td>\n",
       "      <td>686</td>\n",
       "      <td>668</td>\n",
       "      <td>575</td>\n",
       "      <td>490</td>\n",
       "      <td>335</td>\n",
       "    </tr>\n",
       "  </tbody>\n",
       "</table>\n",
       "<p>7 rows × 24 columns</p>\n",
       "</div>"
      ],
      "text/plain": [
       "Hour          0    1    2    3    4    5    6    7    8    9   ...   14   15  \\\n",
       "Day of Week                                                    ...             \n",
       "Fri          275  235  191  175  201  194  372  598  742  752  ...  932  980   \n",
       "Mon          282  221  201  194  204  267  397  653  819  786  ...  869  913   \n",
       "Sat          375  301  263  260  224  231  257  391  459  640  ...  789  796   \n",
       "Sun          383  306  286  268  242  240  300  402  483  620  ...  684  691   \n",
       "Thu          278  202  233  159  182  203  362  570  777  828  ...  876  969   \n",
       "Tue          269  240  186  170  209  239  415  655  889  880  ...  943  938   \n",
       "Wed          250  216  189  209  156  255  410  701  875  808  ...  904  867   \n",
       "\n",
       "Hour           16    17   18   19   20   21   22   23  \n",
       "Day of Week                                            \n",
       "Fri          1039   980  820  696  667  559  514  474  \n",
       "Mon           989   997  885  746  613  497  472  325  \n",
       "Sat           848   757  778  696  628  572  506  467  \n",
       "Sun           663   714  670  655  537  461  415  330  \n",
       "Thu           935  1013  810  698  617  553  424  354  \n",
       "Tue          1026  1019  905  731  647  571  462  274  \n",
       "Wed           990  1037  894  686  668  575  490  335  \n",
       "\n",
       "[7 rows x 24 columns]"
      ]
     },
     "execution_count": 78,
     "metadata": {},
     "output_type": "execute_result"
    }
   ],
   "source": [
    "dayHour = calls_911.groupby(by=['Day of Week','Hour']).count()['Reason'].unstack()\n",
    "dayHour"
   ]
  },
  {
   "cell_type": "markdown",
   "id": "6b80bdc7",
   "metadata": {},
   "source": [
    "Voglio ordinare i giorni della settimana."
   ]
  },
  {
   "cell_type": "code",
   "execution_count": 94,
   "id": "010ddf40",
   "metadata": {},
   "outputs": [
    {
     "data": {
      "text/html": [
       "<div>\n",
       "<style scoped>\n",
       "    .dataframe tbody tr th:only-of-type {\n",
       "        vertical-align: middle;\n",
       "    }\n",
       "\n",
       "    .dataframe tbody tr th {\n",
       "        vertical-align: top;\n",
       "    }\n",
       "\n",
       "    .dataframe thead th {\n",
       "        text-align: right;\n",
       "    }\n",
       "</style>\n",
       "<table border=\"1\" class=\"dataframe\">\n",
       "  <thead>\n",
       "    <tr style=\"text-align: right;\">\n",
       "      <th>Hour</th>\n",
       "      <th>0</th>\n",
       "      <th>1</th>\n",
       "      <th>2</th>\n",
       "      <th>3</th>\n",
       "      <th>4</th>\n",
       "      <th>5</th>\n",
       "      <th>6</th>\n",
       "      <th>7</th>\n",
       "      <th>8</th>\n",
       "      <th>9</th>\n",
       "      <th>...</th>\n",
       "      <th>14</th>\n",
       "      <th>15</th>\n",
       "      <th>16</th>\n",
       "      <th>17</th>\n",
       "      <th>18</th>\n",
       "      <th>19</th>\n",
       "      <th>20</th>\n",
       "      <th>21</th>\n",
       "      <th>22</th>\n",
       "      <th>23</th>\n",
       "    </tr>\n",
       "    <tr>\n",
       "      <th>Day of Week</th>\n",
       "      <th></th>\n",
       "      <th></th>\n",
       "      <th></th>\n",
       "      <th></th>\n",
       "      <th></th>\n",
       "      <th></th>\n",
       "      <th></th>\n",
       "      <th></th>\n",
       "      <th></th>\n",
       "      <th></th>\n",
       "      <th></th>\n",
       "      <th></th>\n",
       "      <th></th>\n",
       "      <th></th>\n",
       "      <th></th>\n",
       "      <th></th>\n",
       "      <th></th>\n",
       "      <th></th>\n",
       "      <th></th>\n",
       "      <th></th>\n",
       "      <th></th>\n",
       "    </tr>\n",
       "  </thead>\n",
       "  <tbody>\n",
       "    <tr>\n",
       "      <th>Mon</th>\n",
       "      <td>282</td>\n",
       "      <td>221</td>\n",
       "      <td>201</td>\n",
       "      <td>194</td>\n",
       "      <td>204</td>\n",
       "      <td>267</td>\n",
       "      <td>397</td>\n",
       "      <td>653</td>\n",
       "      <td>819</td>\n",
       "      <td>786</td>\n",
       "      <td>...</td>\n",
       "      <td>869</td>\n",
       "      <td>913</td>\n",
       "      <td>989</td>\n",
       "      <td>997</td>\n",
       "      <td>885</td>\n",
       "      <td>746</td>\n",
       "      <td>613</td>\n",
       "      <td>497</td>\n",
       "      <td>472</td>\n",
       "      <td>325</td>\n",
       "    </tr>\n",
       "    <tr>\n",
       "      <th>Tue</th>\n",
       "      <td>269</td>\n",
       "      <td>240</td>\n",
       "      <td>186</td>\n",
       "      <td>170</td>\n",
       "      <td>209</td>\n",
       "      <td>239</td>\n",
       "      <td>415</td>\n",
       "      <td>655</td>\n",
       "      <td>889</td>\n",
       "      <td>880</td>\n",
       "      <td>...</td>\n",
       "      <td>943</td>\n",
       "      <td>938</td>\n",
       "      <td>1026</td>\n",
       "      <td>1019</td>\n",
       "      <td>905</td>\n",
       "      <td>731</td>\n",
       "      <td>647</td>\n",
       "      <td>571</td>\n",
       "      <td>462</td>\n",
       "      <td>274</td>\n",
       "    </tr>\n",
       "    <tr>\n",
       "      <th>Wed</th>\n",
       "      <td>250</td>\n",
       "      <td>216</td>\n",
       "      <td>189</td>\n",
       "      <td>209</td>\n",
       "      <td>156</td>\n",
       "      <td>255</td>\n",
       "      <td>410</td>\n",
       "      <td>701</td>\n",
       "      <td>875</td>\n",
       "      <td>808</td>\n",
       "      <td>...</td>\n",
       "      <td>904</td>\n",
       "      <td>867</td>\n",
       "      <td>990</td>\n",
       "      <td>1037</td>\n",
       "      <td>894</td>\n",
       "      <td>686</td>\n",
       "      <td>668</td>\n",
       "      <td>575</td>\n",
       "      <td>490</td>\n",
       "      <td>335</td>\n",
       "    </tr>\n",
       "    <tr>\n",
       "      <th>Thu</th>\n",
       "      <td>278</td>\n",
       "      <td>202</td>\n",
       "      <td>233</td>\n",
       "      <td>159</td>\n",
       "      <td>182</td>\n",
       "      <td>203</td>\n",
       "      <td>362</td>\n",
       "      <td>570</td>\n",
       "      <td>777</td>\n",
       "      <td>828</td>\n",
       "      <td>...</td>\n",
       "      <td>876</td>\n",
       "      <td>969</td>\n",
       "      <td>935</td>\n",
       "      <td>1013</td>\n",
       "      <td>810</td>\n",
       "      <td>698</td>\n",
       "      <td>617</td>\n",
       "      <td>553</td>\n",
       "      <td>424</td>\n",
       "      <td>354</td>\n",
       "    </tr>\n",
       "    <tr>\n",
       "      <th>Fri</th>\n",
       "      <td>275</td>\n",
       "      <td>235</td>\n",
       "      <td>191</td>\n",
       "      <td>175</td>\n",
       "      <td>201</td>\n",
       "      <td>194</td>\n",
       "      <td>372</td>\n",
       "      <td>598</td>\n",
       "      <td>742</td>\n",
       "      <td>752</td>\n",
       "      <td>...</td>\n",
       "      <td>932</td>\n",
       "      <td>980</td>\n",
       "      <td>1039</td>\n",
       "      <td>980</td>\n",
       "      <td>820</td>\n",
       "      <td>696</td>\n",
       "      <td>667</td>\n",
       "      <td>559</td>\n",
       "      <td>514</td>\n",
       "      <td>474</td>\n",
       "    </tr>\n",
       "    <tr>\n",
       "      <th>Sat</th>\n",
       "      <td>375</td>\n",
       "      <td>301</td>\n",
       "      <td>263</td>\n",
       "      <td>260</td>\n",
       "      <td>224</td>\n",
       "      <td>231</td>\n",
       "      <td>257</td>\n",
       "      <td>391</td>\n",
       "      <td>459</td>\n",
       "      <td>640</td>\n",
       "      <td>...</td>\n",
       "      <td>789</td>\n",
       "      <td>796</td>\n",
       "      <td>848</td>\n",
       "      <td>757</td>\n",
       "      <td>778</td>\n",
       "      <td>696</td>\n",
       "      <td>628</td>\n",
       "      <td>572</td>\n",
       "      <td>506</td>\n",
       "      <td>467</td>\n",
       "    </tr>\n",
       "    <tr>\n",
       "      <th>Sun</th>\n",
       "      <td>383</td>\n",
       "      <td>306</td>\n",
       "      <td>286</td>\n",
       "      <td>268</td>\n",
       "      <td>242</td>\n",
       "      <td>240</td>\n",
       "      <td>300</td>\n",
       "      <td>402</td>\n",
       "      <td>483</td>\n",
       "      <td>620</td>\n",
       "      <td>...</td>\n",
       "      <td>684</td>\n",
       "      <td>691</td>\n",
       "      <td>663</td>\n",
       "      <td>714</td>\n",
       "      <td>670</td>\n",
       "      <td>655</td>\n",
       "      <td>537</td>\n",
       "      <td>461</td>\n",
       "      <td>415</td>\n",
       "      <td>330</td>\n",
       "    </tr>\n",
       "  </tbody>\n",
       "</table>\n",
       "<p>7 rows × 24 columns</p>\n",
       "</div>"
      ],
      "text/plain": [
       "Hour          0    1    2    3    4    5    6    7    8    9   ...   14   15  \\\n",
       "Day of Week                                                    ...             \n",
       "Mon          282  221  201  194  204  267  397  653  819  786  ...  869  913   \n",
       "Tue          269  240  186  170  209  239  415  655  889  880  ...  943  938   \n",
       "Wed          250  216  189  209  156  255  410  701  875  808  ...  904  867   \n",
       "Thu          278  202  233  159  182  203  362  570  777  828  ...  876  969   \n",
       "Fri          275  235  191  175  201  194  372  598  742  752  ...  932  980   \n",
       "Sat          375  301  263  260  224  231  257  391  459  640  ...  789  796   \n",
       "Sun          383  306  286  268  242  240  300  402  483  620  ...  684  691   \n",
       "\n",
       "Hour           16    17   18   19   20   21   22   23  \n",
       "Day of Week                                            \n",
       "Mon           989   997  885  746  613  497  472  325  \n",
       "Tue          1026  1019  905  731  647  571  462  274  \n",
       "Wed           990  1037  894  686  668  575  490  335  \n",
       "Thu           935  1013  810  698  617  553  424  354  \n",
       "Fri          1039   980  820  696  667  559  514  474  \n",
       "Sat           848   757  778  696  628  572  506  467  \n",
       "Sun           663   714  670  655  537  461  415  330  \n",
       "\n",
       "[7 rows x 24 columns]"
      ]
     },
     "execution_count": 94,
     "metadata": {},
     "output_type": "execute_result"
    }
   ],
   "source": [
    "day_hour = pd.DataFrame(data=[dayHour.iloc[1],\n",
    "                              dayHour.iloc[5],\n",
    "                              dayHour.iloc[6],\n",
    "                              dayHour.iloc[4],\n",
    "                              dayHour.iloc[0],\n",
    "                              dayHour.iloc[2],\n",
    "                              dayHour.iloc[3]],\n",
    "                        index=['Mon','Tue','Wed','Thu','Fri','Sat','Sun'])\n",
    "day_hour.index.name = 'Day of Week'\n",
    "day_hour"
   ]
  },
  {
   "cell_type": "code",
   "execution_count": 95,
   "id": "80d63b7c",
   "metadata": {},
   "outputs": [
    {
     "data": {
      "text/plain": [
       "<AxesSubplot:xlabel='Hour', ylabel='Day of Week'>"
      ]
     },
     "execution_count": 95,
     "metadata": {},
     "output_type": "execute_result"
    },
    {
     "data": {
      "image/png": "[encoded data removed]",
      "text/plain": [
       "<Figure size 864x432 with 2 Axes>"
      ]
     },
     "metadata": {
      "needs_background": "light"
     },
     "output_type": "display_data"
    }
   ],
   "source": [
    "plt.figure(figsize=(12,6))\n",
    "sns.heatmap(day_hour,cmap='viridis')"
   ]
  },
  {
   "cell_type": "markdown",
   "id": "ceb121b7",
   "metadata": {},
   "source": [
    "**Oltre a notare che nelle ore notturne le chiamate sono molto meno rispetto alle ore in cui si è svegli, come è intuitivo che sia, avendo riordinato i giorni della settimana si nota la tendenza vista precedentemente. Nel fine settimana il numero di chiamate diminuiscee in generale si concentrano a mezzogiorno. Nei giorni feriali il maggior numero di chiamate si ha verso la fine delle ore lavorative.**"
   ]
  },
  {
   "cell_type": "markdown",
   "id": "77fb5ede",
   "metadata": {},
   "source": [
    "Si lascia analizzare le correlazioni principali fra le righe e le colonne tramite le clustermap."
   ]
  },
  {
   "cell_type": "code",
   "execution_count": 97,
   "id": "44a46cd5",
   "metadata": {},
   "outputs": [
    {
     "data": {
      "text/plain": [
       "<seaborn.matrix.ClusterGrid at 0x7fb3ab8c9f40>"
      ]
     },
     "execution_count": 97,
     "metadata": {},
     "output_type": "execute_result"
    },
    {
     "data": {
      "image/png": "[encoded data removed]",
      "text/plain": [
       "<Figure size 720x720 with 4 Axes>"
      ]
     },
     "metadata": {
      "needs_background": "light"
     },
     "output_type": "display_data"
    }
   ],
   "source": [
    "sns.clustermap(day_hour,cmap='viridis')"
   ]
  },
  {
   "cell_type": "markdown",
   "id": "13ab8f26",
   "metadata": {},
   "source": [
    "**Come si era intuito i principali gruppi di correlazione sono i giorni feriali e quelli del fine settimana, mentre per le ore del giorno si hanno tre gruppi: le ore notturne (0-5,6 e 23), le ore lavorative 'canoniche' (8-18) e quelle 'fuori dal lavoro' (7 e 19-22).**"
   ]
  },
  {
   "cell_type": "markdown",
   "id": "fd375028",
   "metadata": {},
   "source": [
    "E qui si conclude il progetto di Exploratory Data Analysis (EDA) con dati reali."
   ]
  }
 ],
 "metadata": {
  "kernelspec": {
   "display_name": "Python 3 (ipykernel)",
   "language": "python",
   "name": "python3"
  },
  "language_info": {
   "codemirror_mode": {
    "name": "ipython",
    "version": 3
   },
   "file_extension": ".py",
   "mimetype": "text/x-python",
   "name": "python",
   "nbconvert_exporter": "python",
   "pygments_lexer": "ipython3",
   "version": "3.9.12"
  }
 },
 "nbformat": 4,
 "nbformat_minor": 5
}
