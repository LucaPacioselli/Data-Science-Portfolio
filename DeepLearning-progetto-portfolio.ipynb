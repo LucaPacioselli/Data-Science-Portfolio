{
 "cells": [
  {
   "cell_type": "markdown",
   "id": "b4d96009",
   "metadata": {},
   "source": [
    "# Deep Learning: Progetto Portfolio"
   ]
  },
  {
   "cell_type": "markdown",
   "id": "e6be4abe",
   "metadata": {},
   "source": [
    "In questo progetto portfolio si analizzerà un sottoinsieme del [dataset LendingClub di Kaggle](https://www.kaggle.com/wordsforthewise/lending-club). In particolare in questo caso si utilizzerà un modello di Deep Learning per svolgere il compito di prevedere se un borrower restituirà o meno il prestito a partire da dati di prestiti passati."
   ]
  },
  {
   "cell_type": "markdown",
   "id": "6b94b8b4",
   "metadata": {},
   "source": [
    "## Importare librerie "
   ]
  },
  {
   "cell_type": "code",
   "execution_count": 2,
   "id": "09eceb47",
   "metadata": {},
   "outputs": [],
   "source": [
    "import numpy as np\n",
    "import pandas as pd"
   ]
  },
  {
   "cell_type": "code",
   "execution_count": 3,
   "id": "6ae75b82",
   "metadata": {},
   "outputs": [],
   "source": [
    "import matplotlib.pyplot as plt\n",
    "import seaborn as sns\n",
    "sns.set_style('whitegrid')\n",
    "%matplotlib inline"
   ]
  },
  {
   "cell_type": "markdown",
   "id": "ed75348f",
   "metadata": {},
   "source": [
    "## Ottenere i dati"
   ]
  },
  {
   "cell_type": "markdown",
   "id": "85b07208",
   "metadata": {},
   "source": [
    "Per prima cosa si caricano e visualizzano le descrizioni delle colonne del dataset."
   ]
  },
  {
   "cell_type": "code",
   "execution_count": 4,
   "id": "68e65e6a",
   "metadata": {},
   "outputs": [],
   "source": [
    "loan_info = pd.read_csv('../DATA/lending_club_info.csv')"
   ]
  },
  {
   "cell_type": "code",
   "execution_count": 5,
   "id": "c4fff92d",
   "metadata": {},
   "outputs": [],
   "source": [
    "loan_info.set_index('LoanStatNew',inplace=True)"
   ]
  },
  {
   "cell_type": "code",
   "execution_count": 6,
   "id": "db043335",
   "metadata": {},
   "outputs": [
    {
     "data": {
      "text/html": [
       "<div>\n",
       "<style scoped>\n",
       "    .dataframe tbody tr th:only-of-type {\n",
       "        vertical-align: middle;\n",
       "    }\n",
       "\n",
       "    .dataframe tbody tr th {\n",
       "        vertical-align: top;\n",
       "    }\n",
       "\n",
       "    .dataframe thead th {\n",
       "        text-align: right;\n",
       "    }\n",
       "</style>\n",
       "<table border=\"1\" class=\"dataframe\">\n",
       "  <thead>\n",
       "    <tr style=\"text-align: right;\">\n",
       "      <th></th>\n",
       "      <th>Description</th>\n",
       "    </tr>\n",
       "    <tr>\n",
       "      <th>LoanStatNew</th>\n",
       "      <th></th>\n",
       "    </tr>\n",
       "  </thead>\n",
       "  <tbody>\n",
       "    <tr>\n",
       "      <th>loan_amnt</th>\n",
       "      <td>The listed amount of the loan applied for by t...</td>\n",
       "    </tr>\n",
       "    <tr>\n",
       "      <th>term</th>\n",
       "      <td>The number of payments on the loan. Values are...</td>\n",
       "    </tr>\n",
       "    <tr>\n",
       "      <th>int_rate</th>\n",
       "      <td>Interest Rate on the loan</td>\n",
       "    </tr>\n",
       "    <tr>\n",
       "      <th>installment</th>\n",
       "      <td>The monthly payment owed by the borrower if th...</td>\n",
       "    </tr>\n",
       "    <tr>\n",
       "      <th>grade</th>\n",
       "      <td>LC assigned loan grade</td>\n",
       "    </tr>\n",
       "    <tr>\n",
       "      <th>sub_grade</th>\n",
       "      <td>LC assigned loan subgrade</td>\n",
       "    </tr>\n",
       "    <tr>\n",
       "      <th>emp_title</th>\n",
       "      <td>The job title supplied by the Borrower when ap...</td>\n",
       "    </tr>\n",
       "    <tr>\n",
       "      <th>emp_length</th>\n",
       "      <td>Employment length in years. Possible values ar...</td>\n",
       "    </tr>\n",
       "    <tr>\n",
       "      <th>home_ownership</th>\n",
       "      <td>The home ownership status provided by the borr...</td>\n",
       "    </tr>\n",
       "    <tr>\n",
       "      <th>annual_inc</th>\n",
       "      <td>The self-reported annual income provided by th...</td>\n",
       "    </tr>\n",
       "    <tr>\n",
       "      <th>verification_status</th>\n",
       "      <td>Indicates if income was verified by LC, not ve...</td>\n",
       "    </tr>\n",
       "    <tr>\n",
       "      <th>issue_d</th>\n",
       "      <td>The month which the loan was funded</td>\n",
       "    </tr>\n",
       "    <tr>\n",
       "      <th>loan_status</th>\n",
       "      <td>Current status of the loan</td>\n",
       "    </tr>\n",
       "    <tr>\n",
       "      <th>purpose</th>\n",
       "      <td>A category provided by the borrower for the lo...</td>\n",
       "    </tr>\n",
       "    <tr>\n",
       "      <th>title</th>\n",
       "      <td>The loan title provided by the borrower</td>\n",
       "    </tr>\n",
       "    <tr>\n",
       "      <th>zip_code</th>\n",
       "      <td>The first 3 numbers of the zip code provided b...</td>\n",
       "    </tr>\n",
       "    <tr>\n",
       "      <th>addr_state</th>\n",
       "      <td>The state provided by the borrower in the loan...</td>\n",
       "    </tr>\n",
       "    <tr>\n",
       "      <th>dti</th>\n",
       "      <td>A ratio calculated using the borrower’s total ...</td>\n",
       "    </tr>\n",
       "    <tr>\n",
       "      <th>earliest_cr_line</th>\n",
       "      <td>The month the borrower's earliest reported cre...</td>\n",
       "    </tr>\n",
       "    <tr>\n",
       "      <th>open_acc</th>\n",
       "      <td>The number of open credit lines in the borrowe...</td>\n",
       "    </tr>\n",
       "    <tr>\n",
       "      <th>pub_rec</th>\n",
       "      <td>Number of derogatory public records</td>\n",
       "    </tr>\n",
       "    <tr>\n",
       "      <th>revol_bal</th>\n",
       "      <td>Total credit revolving balance</td>\n",
       "    </tr>\n",
       "    <tr>\n",
       "      <th>revol_util</th>\n",
       "      <td>Revolving line utilization rate, or the amount...</td>\n",
       "    </tr>\n",
       "    <tr>\n",
       "      <th>total_acc</th>\n",
       "      <td>The total number of credit lines currently in ...</td>\n",
       "    </tr>\n",
       "    <tr>\n",
       "      <th>initial_list_status</th>\n",
       "      <td>The initial listing status of the loan. Possib...</td>\n",
       "    </tr>\n",
       "    <tr>\n",
       "      <th>application_type</th>\n",
       "      <td>Indicates whether the loan is an individual ap...</td>\n",
       "    </tr>\n",
       "    <tr>\n",
       "      <th>mort_acc</th>\n",
       "      <td>Number of mortgage accounts.</td>\n",
       "    </tr>\n",
       "    <tr>\n",
       "      <th>pub_rec_bankruptcies</th>\n",
       "      <td>Number of public record bankruptcies</td>\n",
       "    </tr>\n",
       "  </tbody>\n",
       "</table>\n",
       "</div>"
      ],
      "text/plain": [
       "                                                            Description\n",
       "LoanStatNew                                                            \n",
       "loan_amnt             The listed amount of the loan applied for by t...\n",
       "term                  The number of payments on the loan. Values are...\n",
       "int_rate                                      Interest Rate on the loan\n",
       "installment           The monthly payment owed by the borrower if th...\n",
       "grade                                            LC assigned loan grade\n",
       "sub_grade                                     LC assigned loan subgrade\n",
       "emp_title             The job title supplied by the Borrower when ap...\n",
       "emp_length            Employment length in years. Possible values ar...\n",
       "home_ownership        The home ownership status provided by the borr...\n",
       "annual_inc            The self-reported annual income provided by th...\n",
       "verification_status   Indicates if income was verified by LC, not ve...\n",
       "issue_d                             The month which the loan was funded\n",
       "loan_status                                  Current status of the loan\n",
       "purpose               A category provided by the borrower for the lo...\n",
       "title                           The loan title provided by the borrower\n",
       "zip_code              The first 3 numbers of the zip code provided b...\n",
       "addr_state            The state provided by the borrower in the loan...\n",
       "dti                   A ratio calculated using the borrower’s total ...\n",
       "earliest_cr_line      The month the borrower's earliest reported cre...\n",
       "open_acc              The number of open credit lines in the borrowe...\n",
       "pub_rec                             Number of derogatory public records\n",
       "revol_bal                                Total credit revolving balance\n",
       "revol_util            Revolving line utilization rate, or the amount...\n",
       "total_acc             The total number of credit lines currently in ...\n",
       "initial_list_status   The initial listing status of the loan. Possib...\n",
       "application_type      Indicates whether the loan is an individual ap...\n",
       "mort_acc                                   Number of mortgage accounts.\n",
       "pub_rec_bankruptcies               Number of public record bankruptcies"
      ]
     },
     "execution_count": 6,
     "metadata": {},
     "output_type": "execute_result"
    }
   ],
   "source": [
    "loan_info"
   ]
  },
  {
   "cell_type": "code",
   "execution_count": 7,
   "id": "96d21d2b",
   "metadata": {},
   "outputs": [
    {
     "name": "stdout",
     "output_type": "stream",
     "text": [
      "loan_amnt : The listed amount of the loan applied for by the borrower. If at some point in time, the credit department reduces the loan amount, then it will be reflected in this value.\n",
      "\n",
      "\n",
      "term : The number of payments on the loan. Values are in months and can be either 36 or 60.\n",
      "\n",
      "\n",
      "int_rate : Interest Rate on the loan\n",
      "\n",
      "\n",
      "installment : The monthly payment owed by the borrower if the loan originates.\n",
      "\n",
      "\n",
      "grade : LC assigned loan grade\n",
      "\n",
      "\n",
      "sub_grade : LC assigned loan subgrade\n",
      "\n",
      "\n",
      "emp_title : The job title supplied by the Borrower when applying for the loan.*\n",
      "\n",
      "\n",
      "emp_length : Employment length in years. Possible values are between 0 and 10 where 0 means less than one year and 10 means ten or more years. \n",
      "\n",
      "\n",
      "home_ownership : The home ownership status provided by the borrower during registration or obtained from the credit report. Our values are: RENT, OWN, MORTGAGE, OTHER\n",
      "\n",
      "\n",
      "annual_inc : The self-reported annual income provided by the borrower during registration.\n",
      "\n",
      "\n",
      "verification_status : Indicates if income was verified by LC, not verified, or if the income source was verified\n",
      "\n",
      "\n",
      "issue_d : The month which the loan was funded\n",
      "\n",
      "\n",
      "loan_status : Current status of the loan\n",
      "\n",
      "\n",
      "purpose : A category provided by the borrower for the loan request. \n",
      "\n",
      "\n",
      "title : The loan title provided by the borrower\n",
      "\n",
      "\n",
      "zip_code : The first 3 numbers of the zip code provided by the borrower in the loan application.\n",
      "\n",
      "\n",
      "addr_state : The state provided by the borrower in the loan application\n",
      "\n",
      "\n",
      "dti : A ratio calculated using the borrower’s total monthly debt payments on the total debt obligations, excluding mortgage and the requested LC loan, divided by the borrower’s self-reported monthly income.\n",
      "\n",
      "\n",
      "earliest_cr_line : The month the borrower's earliest reported credit line was opened\n",
      "\n",
      "\n",
      "open_acc : The number of open credit lines in the borrower's credit file.\n",
      "\n",
      "\n",
      "pub_rec : Number of derogatory public records\n",
      "\n",
      "\n",
      "revol_bal : Total credit revolving balance\n",
      "\n",
      "\n",
      "revol_util : Revolving line utilization rate, or the amount of credit the borrower is using relative to all available revolving credit.\n",
      "\n",
      "\n",
      "total_acc : The total number of credit lines currently in the borrower's credit file\n",
      "\n",
      "\n",
      "initial_list_status : The initial listing status of the loan. Possible values are – W, F\n",
      "\n",
      "\n",
      "application_type : Indicates whether the loan is an individual application or a joint application with two co-borrowers\n",
      "\n",
      "\n",
      "mort_acc : Number of mortgage accounts.\n",
      "\n",
      "\n",
      "pub_rec_bankruptcies : Number of public record bankruptcies\n",
      "\n",
      "\n"
     ]
    }
   ],
   "source": [
    "# visualizzo per intero le descrizioni\n",
    "for i in loan_info.index:\n",
    "    s = loan_info.loc[i]\n",
    "    print(i,':',s[0])\n",
    "    print('\\n')"
   ]
  },
  {
   "cell_type": "markdown",
   "id": "032619c6",
   "metadata": {},
   "source": [
    "Si passa a caricare il dataset vero e proprio."
   ]
  },
  {
   "cell_type": "code",
   "execution_count": 8,
   "id": "ad6e8a73",
   "metadata": {},
   "outputs": [],
   "source": [
    "loan = pd.read_csv('../DATA/lending_club_loan_two.csv')"
   ]
  },
  {
   "cell_type": "code",
   "execution_count": 9,
   "id": "d968c26d",
   "metadata": {},
   "outputs": [
    {
     "name": "stdout",
     "output_type": "stream",
     "text": [
      "<class 'pandas.core.frame.DataFrame'>\n",
      "RangeIndex: 396030 entries, 0 to 396029\n",
      "Data columns (total 27 columns):\n",
      " #   Column                Non-Null Count   Dtype  \n",
      "---  ------                --------------   -----  \n",
      " 0   loan_amnt             396030 non-null  float64\n",
      " 1   term                  396030 non-null  object \n",
      " 2   int_rate              396030 non-null  float64\n",
      " 3   installment           396030 non-null  float64\n",
      " 4   grade                 396030 non-null  object \n",
      " 5   sub_grade             396030 non-null  object \n",
      " 6   emp_title             373103 non-null  object \n",
      " 7   emp_length            377729 non-null  object \n",
      " 8   home_ownership        396030 non-null  object \n",
      " 9   annual_inc            396030 non-null  float64\n",
      " 10  verification_status   396030 non-null  object \n",
      " 11  issue_d               396030 non-null  object \n",
      " 12  loan_status           396030 non-null  object \n",
      " 13  purpose               396030 non-null  object \n",
      " 14  title                 394275 non-null  object \n",
      " 15  dti                   396030 non-null  float64\n",
      " 16  earliest_cr_line      396030 non-null  object \n",
      " 17  open_acc              396030 non-null  float64\n",
      " 18  pub_rec               396030 non-null  float64\n",
      " 19  revol_bal             396030 non-null  float64\n",
      " 20  revol_util            395754 non-null  float64\n",
      " 21  total_acc             396030 non-null  float64\n",
      " 22  initial_list_status   396030 non-null  object \n",
      " 23  application_type      396030 non-null  object \n",
      " 24  mort_acc              358235 non-null  float64\n",
      " 25  pub_rec_bankruptcies  395495 non-null  float64\n",
      " 26  address               396030 non-null  object \n",
      "dtypes: float64(12), object(15)\n",
      "memory usage: 81.6+ MB\n"
     ]
    }
   ],
   "source": [
    "loan.info()"
   ]
  },
  {
   "cell_type": "markdown",
   "id": "a2e24048",
   "metadata": {},
   "source": [
    "**Sono presenti dei Missing Data, sarà necessario un po' di feature engineering sul dataset.**"
   ]
  },
  {
   "cell_type": "code",
   "execution_count": 10,
   "id": "967564b3",
   "metadata": {},
   "outputs": [
    {
     "data": {
      "text/html": [
       "<div>\n",
       "<style scoped>\n",
       "    .dataframe tbody tr th:only-of-type {\n",
       "        vertical-align: middle;\n",
       "    }\n",
       "\n",
       "    .dataframe tbody tr th {\n",
       "        vertical-align: top;\n",
       "    }\n",
       "\n",
       "    .dataframe thead th {\n",
       "        text-align: right;\n",
       "    }\n",
       "</style>\n",
       "<table border=\"1\" class=\"dataframe\">\n",
       "  <thead>\n",
       "    <tr style=\"text-align: right;\">\n",
       "      <th></th>\n",
       "      <th>loan_amnt</th>\n",
       "      <th>term</th>\n",
       "      <th>int_rate</th>\n",
       "      <th>installment</th>\n",
       "      <th>grade</th>\n",
       "      <th>sub_grade</th>\n",
       "      <th>emp_title</th>\n",
       "      <th>emp_length</th>\n",
       "      <th>home_ownership</th>\n",
       "      <th>annual_inc</th>\n",
       "      <th>...</th>\n",
       "      <th>open_acc</th>\n",
       "      <th>pub_rec</th>\n",
       "      <th>revol_bal</th>\n",
       "      <th>revol_util</th>\n",
       "      <th>total_acc</th>\n",
       "      <th>initial_list_status</th>\n",
       "      <th>application_type</th>\n",
       "      <th>mort_acc</th>\n",
       "      <th>pub_rec_bankruptcies</th>\n",
       "      <th>address</th>\n",
       "    </tr>\n",
       "  </thead>\n",
       "  <tbody>\n",
       "    <tr>\n",
       "      <th>0</th>\n",
       "      <td>10000.0</td>\n",
       "      <td>36 months</td>\n",
       "      <td>11.44</td>\n",
       "      <td>329.48</td>\n",
       "      <td>B</td>\n",
       "      <td>B4</td>\n",
       "      <td>Marketing</td>\n",
       "      <td>10+ years</td>\n",
       "      <td>RENT</td>\n",
       "      <td>117000.0</td>\n",
       "      <td>...</td>\n",
       "      <td>16.0</td>\n",
       "      <td>0.0</td>\n",
       "      <td>36369.0</td>\n",
       "      <td>41.8</td>\n",
       "      <td>25.0</td>\n",
       "      <td>w</td>\n",
       "      <td>INDIVIDUAL</td>\n",
       "      <td>0.0</td>\n",
       "      <td>0.0</td>\n",
       "      <td>0174 Michelle Gateway\\nMendozaberg, OK 22690</td>\n",
       "    </tr>\n",
       "    <tr>\n",
       "      <th>1</th>\n",
       "      <td>8000.0</td>\n",
       "      <td>36 months</td>\n",
       "      <td>11.99</td>\n",
       "      <td>265.68</td>\n",
       "      <td>B</td>\n",
       "      <td>B5</td>\n",
       "      <td>Credit analyst</td>\n",
       "      <td>4 years</td>\n",
       "      <td>MORTGAGE</td>\n",
       "      <td>65000.0</td>\n",
       "      <td>...</td>\n",
       "      <td>17.0</td>\n",
       "      <td>0.0</td>\n",
       "      <td>20131.0</td>\n",
       "      <td>53.3</td>\n",
       "      <td>27.0</td>\n",
       "      <td>f</td>\n",
       "      <td>INDIVIDUAL</td>\n",
       "      <td>3.0</td>\n",
       "      <td>0.0</td>\n",
       "      <td>1076 Carney Fort Apt. 347\\nLoganmouth, SD 05113</td>\n",
       "    </tr>\n",
       "    <tr>\n",
       "      <th>2</th>\n",
       "      <td>15600.0</td>\n",
       "      <td>36 months</td>\n",
       "      <td>10.49</td>\n",
       "      <td>506.97</td>\n",
       "      <td>B</td>\n",
       "      <td>B3</td>\n",
       "      <td>Statistician</td>\n",
       "      <td>&lt; 1 year</td>\n",
       "      <td>RENT</td>\n",
       "      <td>43057.0</td>\n",
       "      <td>...</td>\n",
       "      <td>13.0</td>\n",
       "      <td>0.0</td>\n",
       "      <td>11987.0</td>\n",
       "      <td>92.2</td>\n",
       "      <td>26.0</td>\n",
       "      <td>f</td>\n",
       "      <td>INDIVIDUAL</td>\n",
       "      <td>0.0</td>\n",
       "      <td>0.0</td>\n",
       "      <td>87025 Mark Dale Apt. 269\\nNew Sabrina, WV 05113</td>\n",
       "    </tr>\n",
       "    <tr>\n",
       "      <th>3</th>\n",
       "      <td>7200.0</td>\n",
       "      <td>36 months</td>\n",
       "      <td>6.49</td>\n",
       "      <td>220.65</td>\n",
       "      <td>A</td>\n",
       "      <td>A2</td>\n",
       "      <td>Client Advocate</td>\n",
       "      <td>6 years</td>\n",
       "      <td>RENT</td>\n",
       "      <td>54000.0</td>\n",
       "      <td>...</td>\n",
       "      <td>6.0</td>\n",
       "      <td>0.0</td>\n",
       "      <td>5472.0</td>\n",
       "      <td>21.5</td>\n",
       "      <td>13.0</td>\n",
       "      <td>f</td>\n",
       "      <td>INDIVIDUAL</td>\n",
       "      <td>0.0</td>\n",
       "      <td>0.0</td>\n",
       "      <td>823 Reid Ford\\nDelacruzside, MA 00813</td>\n",
       "    </tr>\n",
       "    <tr>\n",
       "      <th>4</th>\n",
       "      <td>24375.0</td>\n",
       "      <td>60 months</td>\n",
       "      <td>17.27</td>\n",
       "      <td>609.33</td>\n",
       "      <td>C</td>\n",
       "      <td>C5</td>\n",
       "      <td>Destiny Management Inc.</td>\n",
       "      <td>9 years</td>\n",
       "      <td>MORTGAGE</td>\n",
       "      <td>55000.0</td>\n",
       "      <td>...</td>\n",
       "      <td>13.0</td>\n",
       "      <td>0.0</td>\n",
       "      <td>24584.0</td>\n",
       "      <td>69.8</td>\n",
       "      <td>43.0</td>\n",
       "      <td>f</td>\n",
       "      <td>INDIVIDUAL</td>\n",
       "      <td>1.0</td>\n",
       "      <td>0.0</td>\n",
       "      <td>679 Luna Roads\\nGreggshire, VA 11650</td>\n",
       "    </tr>\n",
       "  </tbody>\n",
       "</table>\n",
       "<p>5 rows × 27 columns</p>\n",
       "</div>"
      ],
      "text/plain": [
       "   loan_amnt        term  int_rate  installment grade sub_grade  \\\n",
       "0    10000.0   36 months     11.44       329.48     B        B4   \n",
       "1     8000.0   36 months     11.99       265.68     B        B5   \n",
       "2    15600.0   36 months     10.49       506.97     B        B3   \n",
       "3     7200.0   36 months      6.49       220.65     A        A2   \n",
       "4    24375.0   60 months     17.27       609.33     C        C5   \n",
       "\n",
       "                 emp_title emp_length home_ownership  annual_inc  ...  \\\n",
       "0                Marketing  10+ years           RENT    117000.0  ...   \n",
       "1          Credit analyst     4 years       MORTGAGE     65000.0  ...   \n",
       "2             Statistician   < 1 year           RENT     43057.0  ...   \n",
       "3          Client Advocate    6 years           RENT     54000.0  ...   \n",
       "4  Destiny Management Inc.    9 years       MORTGAGE     55000.0  ...   \n",
       "\n",
       "  open_acc pub_rec revol_bal revol_util total_acc  initial_list_status  \\\n",
       "0     16.0     0.0   36369.0       41.8      25.0                    w   \n",
       "1     17.0     0.0   20131.0       53.3      27.0                    f   \n",
       "2     13.0     0.0   11987.0       92.2      26.0                    f   \n",
       "3      6.0     0.0    5472.0       21.5      13.0                    f   \n",
       "4     13.0     0.0   24584.0       69.8      43.0                    f   \n",
       "\n",
       "  application_type  mort_acc  pub_rec_bankruptcies  \\\n",
       "0       INDIVIDUAL       0.0                   0.0   \n",
       "1       INDIVIDUAL       3.0                   0.0   \n",
       "2       INDIVIDUAL       0.0                   0.0   \n",
       "3       INDIVIDUAL       0.0                   0.0   \n",
       "4       INDIVIDUAL       1.0                   0.0   \n",
       "\n",
       "                                           address  \n",
       "0     0174 Michelle Gateway\\nMendozaberg, OK 22690  \n",
       "1  1076 Carney Fort Apt. 347\\nLoganmouth, SD 05113  \n",
       "2  87025 Mark Dale Apt. 269\\nNew Sabrina, WV 05113  \n",
       "3            823 Reid Ford\\nDelacruzside, MA 00813  \n",
       "4             679 Luna Roads\\nGreggshire, VA 11650  \n",
       "\n",
       "[5 rows x 27 columns]"
      ]
     },
     "execution_count": 10,
     "metadata": {},
     "output_type": "execute_result"
    }
   ],
   "source": [
    "loan.head()"
   ]
  },
  {
   "cell_type": "code",
   "execution_count": 11,
   "id": "c00b8637",
   "metadata": {},
   "outputs": [
    {
     "data": {
      "text/html": [
       "<div>\n",
       "<style scoped>\n",
       "    .dataframe tbody tr th:only-of-type {\n",
       "        vertical-align: middle;\n",
       "    }\n",
       "\n",
       "    .dataframe tbody tr th {\n",
       "        vertical-align: top;\n",
       "    }\n",
       "\n",
       "    .dataframe thead th {\n",
       "        text-align: right;\n",
       "    }\n",
       "</style>\n",
       "<table border=\"1\" class=\"dataframe\">\n",
       "  <thead>\n",
       "    <tr style=\"text-align: right;\">\n",
       "      <th></th>\n",
       "      <th>count</th>\n",
       "      <th>mean</th>\n",
       "      <th>std</th>\n",
       "      <th>min</th>\n",
       "      <th>25%</th>\n",
       "      <th>50%</th>\n",
       "      <th>75%</th>\n",
       "      <th>max</th>\n",
       "    </tr>\n",
       "  </thead>\n",
       "  <tbody>\n",
       "    <tr>\n",
       "      <th>loan_amnt</th>\n",
       "      <td>396030.0</td>\n",
       "      <td>14113.888089</td>\n",
       "      <td>8357.441341</td>\n",
       "      <td>500.00</td>\n",
       "      <td>8000.00</td>\n",
       "      <td>12000.00</td>\n",
       "      <td>20000.00</td>\n",
       "      <td>40000.00</td>\n",
       "    </tr>\n",
       "    <tr>\n",
       "      <th>int_rate</th>\n",
       "      <td>396030.0</td>\n",
       "      <td>13.639400</td>\n",
       "      <td>4.472157</td>\n",
       "      <td>5.32</td>\n",
       "      <td>10.49</td>\n",
       "      <td>13.33</td>\n",
       "      <td>16.49</td>\n",
       "      <td>30.99</td>\n",
       "    </tr>\n",
       "    <tr>\n",
       "      <th>installment</th>\n",
       "      <td>396030.0</td>\n",
       "      <td>431.849698</td>\n",
       "      <td>250.727790</td>\n",
       "      <td>16.08</td>\n",
       "      <td>250.33</td>\n",
       "      <td>375.43</td>\n",
       "      <td>567.30</td>\n",
       "      <td>1533.81</td>\n",
       "    </tr>\n",
       "    <tr>\n",
       "      <th>annual_inc</th>\n",
       "      <td>396030.0</td>\n",
       "      <td>74203.175798</td>\n",
       "      <td>61637.621158</td>\n",
       "      <td>0.00</td>\n",
       "      <td>45000.00</td>\n",
       "      <td>64000.00</td>\n",
       "      <td>90000.00</td>\n",
       "      <td>8706582.00</td>\n",
       "    </tr>\n",
       "    <tr>\n",
       "      <th>dti</th>\n",
       "      <td>396030.0</td>\n",
       "      <td>17.379514</td>\n",
       "      <td>18.019092</td>\n",
       "      <td>0.00</td>\n",
       "      <td>11.28</td>\n",
       "      <td>16.91</td>\n",
       "      <td>22.98</td>\n",
       "      <td>9999.00</td>\n",
       "    </tr>\n",
       "    <tr>\n",
       "      <th>open_acc</th>\n",
       "      <td>396030.0</td>\n",
       "      <td>11.311153</td>\n",
       "      <td>5.137649</td>\n",
       "      <td>0.00</td>\n",
       "      <td>8.00</td>\n",
       "      <td>10.00</td>\n",
       "      <td>14.00</td>\n",
       "      <td>90.00</td>\n",
       "    </tr>\n",
       "    <tr>\n",
       "      <th>pub_rec</th>\n",
       "      <td>396030.0</td>\n",
       "      <td>0.178191</td>\n",
       "      <td>0.530671</td>\n",
       "      <td>0.00</td>\n",
       "      <td>0.00</td>\n",
       "      <td>0.00</td>\n",
       "      <td>0.00</td>\n",
       "      <td>86.00</td>\n",
       "    </tr>\n",
       "    <tr>\n",
       "      <th>revol_bal</th>\n",
       "      <td>396030.0</td>\n",
       "      <td>15844.539853</td>\n",
       "      <td>20591.836109</td>\n",
       "      <td>0.00</td>\n",
       "      <td>6025.00</td>\n",
       "      <td>11181.00</td>\n",
       "      <td>19620.00</td>\n",
       "      <td>1743266.00</td>\n",
       "    </tr>\n",
       "    <tr>\n",
       "      <th>revol_util</th>\n",
       "      <td>395754.0</td>\n",
       "      <td>53.791749</td>\n",
       "      <td>24.452193</td>\n",
       "      <td>0.00</td>\n",
       "      <td>35.80</td>\n",
       "      <td>54.80</td>\n",
       "      <td>72.90</td>\n",
       "      <td>892.30</td>\n",
       "    </tr>\n",
       "    <tr>\n",
       "      <th>total_acc</th>\n",
       "      <td>396030.0</td>\n",
       "      <td>25.414744</td>\n",
       "      <td>11.886991</td>\n",
       "      <td>2.00</td>\n",
       "      <td>17.00</td>\n",
       "      <td>24.00</td>\n",
       "      <td>32.00</td>\n",
       "      <td>151.00</td>\n",
       "    </tr>\n",
       "    <tr>\n",
       "      <th>mort_acc</th>\n",
       "      <td>358235.0</td>\n",
       "      <td>1.813991</td>\n",
       "      <td>2.147930</td>\n",
       "      <td>0.00</td>\n",
       "      <td>0.00</td>\n",
       "      <td>1.00</td>\n",
       "      <td>3.00</td>\n",
       "      <td>34.00</td>\n",
       "    </tr>\n",
       "    <tr>\n",
       "      <th>pub_rec_bankruptcies</th>\n",
       "      <td>395495.0</td>\n",
       "      <td>0.121648</td>\n",
       "      <td>0.356174</td>\n",
       "      <td>0.00</td>\n",
       "      <td>0.00</td>\n",
       "      <td>0.00</td>\n",
       "      <td>0.00</td>\n",
       "      <td>8.00</td>\n",
       "    </tr>\n",
       "  </tbody>\n",
       "</table>\n",
       "</div>"
      ],
      "text/plain": [
       "                         count          mean           std     min       25%  \\\n",
       "loan_amnt             396030.0  14113.888089   8357.441341  500.00   8000.00   \n",
       "int_rate              396030.0     13.639400      4.472157    5.32     10.49   \n",
       "installment           396030.0    431.849698    250.727790   16.08    250.33   \n",
       "annual_inc            396030.0  74203.175798  61637.621158    0.00  45000.00   \n",
       "dti                   396030.0     17.379514     18.019092    0.00     11.28   \n",
       "open_acc              396030.0     11.311153      5.137649    0.00      8.00   \n",
       "pub_rec               396030.0      0.178191      0.530671    0.00      0.00   \n",
       "revol_bal             396030.0  15844.539853  20591.836109    0.00   6025.00   \n",
       "revol_util            395754.0     53.791749     24.452193    0.00     35.80   \n",
       "total_acc             396030.0     25.414744     11.886991    2.00     17.00   \n",
       "mort_acc              358235.0      1.813991      2.147930    0.00      0.00   \n",
       "pub_rec_bankruptcies  395495.0      0.121648      0.356174    0.00      0.00   \n",
       "\n",
       "                           50%       75%         max  \n",
       "loan_amnt             12000.00  20000.00    40000.00  \n",
       "int_rate                 13.33     16.49       30.99  \n",
       "installment             375.43    567.30     1533.81  \n",
       "annual_inc            64000.00  90000.00  8706582.00  \n",
       "dti                      16.91     22.98     9999.00  \n",
       "open_acc                 10.00     14.00       90.00  \n",
       "pub_rec                   0.00      0.00       86.00  \n",
       "revol_bal             11181.00  19620.00  1743266.00  \n",
       "revol_util               54.80     72.90      892.30  \n",
       "total_acc                24.00     32.00      151.00  \n",
       "mort_acc                  1.00      3.00       34.00  \n",
       "pub_rec_bankruptcies      0.00      0.00        8.00  "
      ]
     },
     "execution_count": 11,
     "metadata": {},
     "output_type": "execute_result"
    }
   ],
   "source": [
    "loan.describe().transpose() # traspongo per una più facile leggibilità dell'analisi preliminare"
   ]
  },
  {
   "cell_type": "markdown",
   "id": "3cf55321",
   "metadata": {},
   "source": [
    "# EDA"
   ]
  },
  {
   "cell_type": "markdown",
   "id": "2c5f62ed",
   "metadata": {},
   "source": [
    "Si analizza la colonna target per verificarne le diciture e se sia bilanciata o meno."
   ]
  },
  {
   "cell_type": "code",
   "execution_count": 12,
   "id": "b403980d",
   "metadata": {},
   "outputs": [
    {
     "data": {
      "text/plain": [
       "array(['Fully Paid', 'Charged Off'], dtype=object)"
      ]
     },
     "execution_count": 12,
     "metadata": {},
     "output_type": "execute_result"
    }
   ],
   "source": [
    "loan['loan_status'].unique()"
   ]
  },
  {
   "cell_type": "code",
   "execution_count": 13,
   "id": "77dcb06c",
   "metadata": {},
   "outputs": [
    {
     "data": {
      "text/plain": [
       "<AxesSubplot:xlabel='loan_status', ylabel='count'>"
      ]
     },
     "execution_count": 13,
     "metadata": {},
     "output_type": "execute_result"
    },
    {
     "data": {
      "image/png": "[encoded data removed]",
      "text/plain": [
       "<Figure size 432x288 with 1 Axes>"
      ]
     },
     "metadata": {
      "needs_background": "light"
     },
     "output_type": "display_data"
    }
   ],
   "source": [
    "sns.countplot(data=loan,x='loan_status') "
   ]
  },
  {
   "cell_type": "markdown",
   "id": "34237358",
   "metadata": {},
   "source": [
    "**Il dataset è abbastanza sbilanciato dalla parte dei prestiti ripagati, teniamolo a mente per le performance del modello.**"
   ]
  },
  {
   "cell_type": "markdown",
   "id": "4649f399",
   "metadata": {},
   "source": [
    "Si indagano possibili cause/correlazioni fra le feature e la colonna target.\n",
    "\n",
    "Per prima cosa si analizza la distribuzione dell'ammontare dei prestiti distinguendo i casi in cui è stato ripagato e non. "
   ]
  },
  {
   "cell_type": "code",
   "execution_count": 14,
   "id": "76017aeb",
   "metadata": {},
   "outputs": [
    {
     "data": {
      "text/plain": [
       "<AxesSubplot:xlabel='loan_status', ylabel='loan_amnt'>"
      ]
     },
     "execution_count": 14,
     "metadata": {},
     "output_type": "execute_result"
    },
    {
     "data": {
      "image/png": "[encoded data removed]",
      "text/plain": [
       "<Figure size 432x288 with 1 Axes>"
      ]
     },
     "metadata": {
      "needs_background": "light"
     },
     "output_type": "display_data"
    }
   ],
   "source": [
    "sns.boxplot(x='loan_status',y='loan_amnt',data=loan)"
   ]
  },
  {
   "cell_type": "markdown",
   "id": "eebe3267",
   "metadata": {},
   "source": [
    "**Il picco della distribuzione per la categoria \"Fully Paid\" è situato attorno ai 12_000 dollari, mentre quello per \"Charged Off\" è leggermente più alto attorno ai 14_000 dollari. Questa differenza è comprensibile dato che, in generale, un prestito più alto è più difficile da risanare. Il resto della distribuzione è paragonabile nei due casi. Cerchiamo di quantificare meglio quanto appena detto.**"
   ]
  },
  {
   "cell_type": "code",
   "execution_count": 15,
   "id": "899f3422",
   "metadata": {},
   "outputs": [
    {
     "data": {
      "text/html": [
       "<div>\n",
       "<style scoped>\n",
       "    .dataframe tbody tr th:only-of-type {\n",
       "        vertical-align: middle;\n",
       "    }\n",
       "\n",
       "    .dataframe tbody tr th {\n",
       "        vertical-align: top;\n",
       "    }\n",
       "\n",
       "    .dataframe thead th {\n",
       "        text-align: right;\n",
       "    }\n",
       "</style>\n",
       "<table border=\"1\" class=\"dataframe\">\n",
       "  <thead>\n",
       "    <tr style=\"text-align: right;\">\n",
       "      <th></th>\n",
       "      <th>count</th>\n",
       "      <th>mean</th>\n",
       "      <th>std</th>\n",
       "      <th>min</th>\n",
       "      <th>25%</th>\n",
       "      <th>50%</th>\n",
       "      <th>75%</th>\n",
       "      <th>max</th>\n",
       "    </tr>\n",
       "    <tr>\n",
       "      <th>loan_status</th>\n",
       "      <th></th>\n",
       "      <th></th>\n",
       "      <th></th>\n",
       "      <th></th>\n",
       "      <th></th>\n",
       "      <th></th>\n",
       "      <th></th>\n",
       "      <th></th>\n",
       "    </tr>\n",
       "  </thead>\n",
       "  <tbody>\n",
       "    <tr>\n",
       "      <th>Charged Off</th>\n",
       "      <td>77673.0</td>\n",
       "      <td>15126.300967</td>\n",
       "      <td>8505.090557</td>\n",
       "      <td>1000.0</td>\n",
       "      <td>8525.0</td>\n",
       "      <td>14000.0</td>\n",
       "      <td>20000.0</td>\n",
       "      <td>40000.0</td>\n",
       "    </tr>\n",
       "    <tr>\n",
       "      <th>Fully Paid</th>\n",
       "      <td>318357.0</td>\n",
       "      <td>13866.878771</td>\n",
       "      <td>8302.319699</td>\n",
       "      <td>500.0</td>\n",
       "      <td>7500.0</td>\n",
       "      <td>12000.0</td>\n",
       "      <td>19225.0</td>\n",
       "      <td>40000.0</td>\n",
       "    </tr>\n",
       "  </tbody>\n",
       "</table>\n",
       "</div>"
      ],
      "text/plain": [
       "                count          mean          std     min     25%      50%  \\\n",
       "loan_status                                                                 \n",
       "Charged Off   77673.0  15126.300967  8505.090557  1000.0  8525.0  14000.0   \n",
       "Fully Paid   318357.0  13866.878771  8302.319699   500.0  7500.0  12000.0   \n",
       "\n",
       "                 75%      max  \n",
       "loan_status                    \n",
       "Charged Off  20000.0  40000.0  \n",
       "Fully Paid   19225.0  40000.0  "
      ]
     },
     "execution_count": 15,
     "metadata": {},
     "output_type": "execute_result"
    }
   ],
   "source": [
    "loan.groupby('loan_status')['loan_amnt'].describe()"
   ]
  },
  {
   "cell_type": "markdown",
   "id": "38b38005",
   "metadata": {},
   "source": [
    "**Le mediane delle distribuzioni sono proprio nei valori previsti visivamente, inoltre le medie confermano quest'andamento. Anche le deviazioni standard con valori simili fra loro convalidano la somiglianza del resto della distribuzione.**"
   ]
  },
  {
   "cell_type": "markdown",
   "id": "2e3099d3",
   "metadata": {},
   "source": [
    "Si prosegue con l'indagine della correlazione fra la categoria target 'loan_status' e le categorie attribuite al borrower da LendingClub (scala in ordine alfanumerico crescente dal migliore al peggiore: A1 -> G5)."
   ]
  },
  {
   "cell_type": "code",
   "execution_count": 16,
   "id": "a53d9237",
   "metadata": {},
   "outputs": [
    {
     "data": {
      "text/plain": [
       "<AxesSubplot:xlabel='sub_grade', ylabel='count'>"
      ]
     },
     "execution_count": 16,
     "metadata": {},
     "output_type": "execute_result"
    },
    {
     "data": {
      "image/png": "[encoded data removed]",
      "text/plain": [
       "<Figure size 864x288 with 1 Axes>"
      ]
     },
     "metadata": {
      "needs_background": "light"
     },
     "output_type": "display_data"
    }
   ],
   "source": [
    "plt.figure(figsize=(12,4))\n",
    "subgrade_order = sorted(loan['sub_grade'].unique()) # ordino le categorie dalla migliore alla peggiore\n",
    "sns.countplot(x='sub_grade',data=loan,order = subgrade_order,palette='coolwarm',hue='loan_status')"
   ]
  },
  {
   "cell_type": "markdown",
   "id": "99d0722c",
   "metadata": {},
   "source": [
    "**Come ci suggeriscono le due distribuzioni messe in parallelo, più si va nelle categorie peggiori e più il rapporto prestito risanato e non diminuisce. Analizzo nel dettaglio la coda delle distribuzioni.**"
   ]
  },
  {
   "cell_type": "code",
   "execution_count": 17,
   "id": "756db42b",
   "metadata": {},
   "outputs": [
    {
     "data": {
      "text/plain": [
       "<AxesSubplot:xlabel='sub_grade', ylabel='count'>"
      ]
     },
     "execution_count": 17,
     "metadata": {},
     "output_type": "execute_result"
    },
    {
     "data": {
      "image/png": "[encoded data removed]",
      "text/plain": [
       "<Figure size 864x288 with 1 Axes>"
      ]
     },
     "metadata": {
      "needs_background": "light"
     },
     "output_type": "display_data"
    }
   ],
   "source": [
    "f_and_g = loan[(loan['grade']=='G') | (loan['grade']=='F')]\n",
    "\n",
    "plt.figure(figsize=(12,4))\n",
    "subgrade_order = sorted(f_and_g['sub_grade'].unique())\n",
    "sns.countplot(x='sub_grade',data=f_and_g,order = subgrade_order,hue='loan_status')"
   ]
  },
  {
   "cell_type": "markdown",
   "id": "fb127e50",
   "metadata": {},
   "source": [
    "**Come facilmente intuito, nelle ultime categorie i prestiti ripagati e non sono equiparabili in numero. Questo ne conferma il grande rischio per i loaner.**"
   ]
  },
  {
   "cell_type": "markdown",
   "id": "81345b4d",
   "metadata": {},
   "source": [
    "Si sostituiscono le diciture \"Charged Off\" e \"Fully Paid\", rispettivamente, con un più \"machine learning friendly\" 0 e 1."
   ]
  },
  {
   "cell_type": "code",
   "execution_count": 18,
   "id": "d05bbd87",
   "metadata": {},
   "outputs": [],
   "source": [
    "loan['loan_status'].replace(to_replace=['Fully Paid','Charged Off'],value=[1,0],inplace=True)"
   ]
  },
  {
   "cell_type": "markdown",
   "id": "8f279611",
   "metadata": {},
   "source": [
    "SI visualizza il grado di correlazione fra le feature numeriche del dataset e la colonna target \"loan_status\"."
   ]
  },
  {
   "cell_type": "code",
   "execution_count": 19,
   "id": "94d8ce5c",
   "metadata": {},
   "outputs": [
    {
     "data": {
      "text/plain": [
       "<AxesSubplot:>"
      ]
     },
     "execution_count": 19,
     "metadata": {},
     "output_type": "execute_result"
    },
    {
     "data": {
      "image/png": "[encoded data removed]",
      "text/plain": [
       "<Figure size 432x288 with 1 Axes>"
      ]
     },
     "metadata": {
      "needs_background": "light"
     },
     "output_type": "display_data"
    }
   ],
   "source": [
    "loan.corr()['loan_status'].sort_values()[:-1].plot(kind='bar')"
   ]
  },
  {
   "cell_type": "markdown",
   "id": "824f6238",
   "metadata": {},
   "source": [
    "**La feature 'int_rate' è inversamente correlata al pagamento del prestito, infatti, come è intuibile che sia, maggiore è il tasso di interesse del debito e più difficilmente si riesce a sanarlo.**\n",
    "\n",
    "**Inoltre, dall'altra parte del plot, maggiore è il salario annuale e il numero di ipoteche fatte e più è probabile che il prestito venga ripagato. Sebbene la correlazione sia molto leggera è comunque intuitiva.**"
   ]
  },
  {
   "cell_type": "markdown",
   "id": "a1062f28",
   "metadata": {},
   "source": [
    "Si visualizzano le correlazioni in generale lungo il dataset intero con una heatmap."
   ]
  },
  {
   "cell_type": "code",
   "execution_count": 20,
   "id": "3573baf9",
   "metadata": {},
   "outputs": [
    {
     "data": {
      "text/plain": [
       "<AxesSubplot:>"
      ]
     },
     "execution_count": 20,
     "metadata": {},
     "output_type": "execute_result"
    },
    {
     "data": {
      "image/png": "[encoded data removed]",
      "text/plain": [
       "<Figure size 864x576 with 2 Axes>"
      ]
     },
     "metadata": {
      "needs_background": "light"
     },
     "output_type": "display_data"
    }
   ],
   "source": [
    "plt.figure(figsize=(12,8))\n",
    "sns.heatmap(loan.corr(),cmap='coolwarm',annot=True)"
   ]
  },
  {
   "cell_type": "markdown",
   "id": "50086103",
   "metadata": {},
   "source": [
    "**Le correlazioni sono parecchie e le più evidenti sono banali, come quella fra numero di carte di credito attive 'open_acc' e totali 'total_acc' di un borrower. Analizzo un po' più nel dettaglio quella fra il corrispettivo mensile da pagare per il risanamento del debito 'installment' e l'ammontare del prestito totale 'loan_amnt' che ha una correlazione quasi pari alla perfezione.**"
   ]
  },
  {
   "cell_type": "code",
   "execution_count": 21,
   "id": "b1d24aa1",
   "metadata": {},
   "outputs": [
    {
     "data": {
      "text/plain": [
       "<AxesSubplot:xlabel='installment', ylabel='loan_amnt'>"
      ]
     },
     "execution_count": 21,
     "metadata": {},
     "output_type": "execute_result"
    },
    {
     "data": {
      "image/png": "[encoded data removed]",
      "text/plain": [
       "<Figure size 864x576 with 1 Axes>"
      ]
     },
     "metadata": {
      "needs_background": "light"
     },
     "output_type": "display_data"
    }
   ],
   "source": [
    "plt.figure(figsize=(12,8))\n",
    "sns.scatterplot(data=loan,x='installment',y='loan_amnt',hue='loan_status',alpha=0.4)"
   ]
  },
  {
   "cell_type": "markdown",
   "id": "cb8a8409",
   "metadata": {},
   "source": [
    "Si fa un fit lineare dello scatterplot qui sopra."
   ]
  },
  {
   "cell_type": "code",
   "execution_count": 22,
   "id": "213176ae",
   "metadata": {},
   "outputs": [
    {
     "data": {
      "text/plain": [
       "<seaborn.axisgrid.FacetGrid at 0x7fe7358a45e0>"
      ]
     },
     "execution_count": 22,
     "metadata": {},
     "output_type": "execute_result"
    },
    {
     "data": {
      "image/png": "[encoded data removed]",
      "text/plain": [
       "<Figure size 420x360 with 1 Axes>"
      ]
     },
     "metadata": {
      "needs_background": "light"
     },
     "output_type": "display_data"
    }
   ],
   "source": [
    "sns.lmplot(data=loan,x='installment',y='loan_amnt',hue='loan_status',scatter=False)"
   ]
  },
  {
   "cell_type": "markdown",
   "id": "a0e8bcb6",
   "metadata": {},
   "source": [
    "**Banalmente, c'è una diretta proporzionalità tra l'ammontare da restituire mensilmente e il prestito totale da restituire. Dal valore della correlazione visto in precedenza si capisce che Lending Club usava, in prima approssimazione, una relazione lineare per calcolare una quantità dall'altra una volta che il prestito è stato concesso.**"
   ]
  },
  {
   "cell_type": "markdown",
   "id": "71ce2d0e",
   "metadata": {},
   "source": [
    "## Missing Data"
   ]
  },
  {
   "cell_type": "markdown",
   "id": "a42713bc",
   "metadata": {},
   "source": [
    "In questa sezione si tratteranno i Missing Data del dataset, scartando quelli troppo complessi da recuperare e inferendo gli altri da un fit o da altre feature.\n",
    "\n",
    "Per prima cosa si analizza il peso nel dataset dei diversi tipi di Missing Data."
   ]
  },
  {
   "cell_type": "code",
   "execution_count": 23,
   "id": "65b116f5",
   "metadata": {},
   "outputs": [
    {
     "data": {
      "text/plain": [
       "loan_amnt                   0\n",
       "term                        0\n",
       "int_rate                    0\n",
       "installment                 0\n",
       "grade                       0\n",
       "sub_grade                   0\n",
       "emp_title               22927\n",
       "emp_length              18301\n",
       "home_ownership              0\n",
       "annual_inc                  0\n",
       "verification_status         0\n",
       "issue_d                     0\n",
       "loan_status                 0\n",
       "purpose                     0\n",
       "title                    1755\n",
       "dti                         0\n",
       "earliest_cr_line            0\n",
       "open_acc                    0\n",
       "pub_rec                     0\n",
       "revol_bal                   0\n",
       "revol_util                276\n",
       "total_acc                   0\n",
       "initial_list_status         0\n",
       "application_type            0\n",
       "mort_acc                37795\n",
       "pub_rec_bankruptcies      535\n",
       "address                     0\n",
       "dtype: int64"
      ]
     },
     "execution_count": 23,
     "metadata": {},
     "output_type": "execute_result"
    }
   ],
   "source": [
    "loan.isnull().sum()"
   ]
  },
  {
   "cell_type": "markdown",
   "id": "3f82ae0c",
   "metadata": {},
   "source": [
    "Calcolo il peso dei Missing Data, in percentuale, nella feature corrispondente."
   ]
  },
  {
   "cell_type": "code",
   "execution_count": 24,
   "id": "7213bb40",
   "metadata": {},
   "outputs": [
    {
     "data": {
      "text/plain": [
       "loan_amnt               0.000000\n",
       "term                    0.000000\n",
       "int_rate                0.000000\n",
       "installment             0.000000\n",
       "grade                   0.000000\n",
       "sub_grade               0.000000\n",
       "emp_title               5.789208\n",
       "emp_length              4.621115\n",
       "home_ownership          0.000000\n",
       "annual_inc              0.000000\n",
       "verification_status     0.000000\n",
       "issue_d                 0.000000\n",
       "loan_status             0.000000\n",
       "purpose                 0.000000\n",
       "title                   0.443148\n",
       "dti                     0.000000\n",
       "earliest_cr_line        0.000000\n",
       "open_acc                0.000000\n",
       "pub_rec                 0.000000\n",
       "revol_bal               0.000000\n",
       "revol_util              0.069692\n",
       "total_acc               0.000000\n",
       "initial_list_status     0.000000\n",
       "application_type        0.000000\n",
       "mort_acc                9.543469\n",
       "pub_rec_bankruptcies    0.135091\n",
       "address                 0.000000\n",
       "dtype: float64"
      ]
     },
     "execution_count": 24,
     "metadata": {},
     "output_type": "execute_result"
    }
   ],
   "source": [
    "100*(loan.isnull().sum()/len(loan))"
   ]
  },
  {
   "cell_type": "markdown",
   "id": "8de3adf2",
   "metadata": {},
   "source": [
    "Si affrontano per ordine decrescente di importanza nel dataset."
   ]
  },
  {
   "cell_type": "markdown",
   "id": "02bff1e7",
   "metadata": {},
   "source": [
    "### Mort Acc"
   ]
  },
  {
   "cell_type": "markdown",
   "id": "e5cff988",
   "metadata": {},
   "source": [
    "La feature 'mort_acc' che presenta il maggior numero di Missing Data ha la maggior correlazione con 'total_acc', pari a 0.38, non eccellente ma neanche da trascurare."
   ]
  },
  {
   "cell_type": "code",
   "execution_count": 25,
   "id": "44ff2537",
   "metadata": {},
   "outputs": [
    {
     "data": {
      "text/plain": [
       "<seaborn.axisgrid.FacetGrid at 0x7fe7357ffe50>"
      ]
     },
     "execution_count": 25,
     "metadata": {},
     "output_type": "execute_result"
    },
    {
     "data": {
      "text/plain": [
       "<Figure size 864x576 with 0 Axes>"
      ]
     },
     "metadata": {},
     "output_type": "display_data"
    },
    {
     "data": {
      "image/png": "[encoded data removed]",
      "text/plain": [
       "<Figure size 420x360 with 1 Axes>"
      ]
     },
     "metadata": {
      "needs_background": "light"
     },
     "output_type": "display_data"
    }
   ],
   "source": [
    "plt.figure(figsize=(12,8))\n",
    "sns.lmplot(data=loan,x='total_acc',y='mort_acc',hue='loan_status')"
   ]
  },
  {
   "cell_type": "markdown",
   "id": "1c0dabc9",
   "metadata": {},
   "source": [
    "L'idea è quella di calcolare per ogni valore di 'total_acc' il valore medio per 'mort_acc', e successivamente cercare le righe con un valore NaN di 'mort_acc' e, a seconda del 'total_acc' che si ha, sostituire con la media di 'mort_acc' corrispondente."
   ]
  },
  {
   "cell_type": "code",
   "execution_count": 26,
   "id": "6ad5de50",
   "metadata": {},
   "outputs": [
    {
     "data": {
      "text/plain": [
       "total_acc\n",
       "2.0      0.000000\n",
       "3.0      0.052023\n",
       "4.0      0.066743\n",
       "5.0      0.103289\n",
       "6.0      0.151293\n",
       "           ...   \n",
       "124.0    1.000000\n",
       "129.0    1.000000\n",
       "135.0    3.000000\n",
       "150.0    2.000000\n",
       "151.0    0.000000\n",
       "Name: mort_acc, Length: 118, dtype: float64"
      ]
     },
     "execution_count": 26,
     "metadata": {},
     "output_type": "execute_result"
    }
   ],
   "source": [
    "total_acc_avg = loan.groupby('total_acc').mean()['mort_acc']\n",
    "total_acc_avg"
   ]
  },
  {
   "cell_type": "code",
   "execution_count": 27,
   "id": "28e72942",
   "metadata": {},
   "outputs": [],
   "source": [
    "def fill_mort_acc(total_acc,mort_acc):\n",
    "    \n",
    "    \"\"\"\n",
    "    Prende in input i valori di total_acc e mort_acc di una determinata riga del dataset.\n",
    "    Se il valore di mort_acc è NaN lo sostituisce con il valore medio che corrisponde al \n",
    "    total_acc che si ha. Altrimenti si prosegue con il valore che si ha.\n",
    "    \"\"\"\n",
    "    \n",
    "    if np.isnan(mort_acc):\n",
    "        return total_acc_avg[total_acc]\n",
    "    else:\n",
    "        return mort_acc"
   ]
  },
  {
   "cell_type": "markdown",
   "id": "eca04834",
   "metadata": {},
   "source": [
    "Si applica la funzione di riempimento dei NaN di 'mort_acc' al dataset."
   ]
  },
  {
   "cell_type": "code",
   "execution_count": 28,
   "id": "688dc72f",
   "metadata": {},
   "outputs": [],
   "source": [
    "loan['mort_acc'] = loan.apply(lambda x: fill_mort_acc(x['total_acc'], x['mort_acc']), axis=1)"
   ]
  },
  {
   "cell_type": "markdown",
   "id": "11fa1e74",
   "metadata": {},
   "source": [
    "Si verifica che non ci siano più Missing Data per la colonna 'mort_acc'."
   ]
  },
  {
   "cell_type": "code",
   "execution_count": 29,
   "id": "259cbeb6",
   "metadata": {},
   "outputs": [
    {
     "data": {
      "text/plain": [
       "loan_amnt                   0\n",
       "term                        0\n",
       "int_rate                    0\n",
       "installment                 0\n",
       "grade                       0\n",
       "sub_grade                   0\n",
       "emp_title               22927\n",
       "emp_length              18301\n",
       "home_ownership              0\n",
       "annual_inc                  0\n",
       "verification_status         0\n",
       "issue_d                     0\n",
       "loan_status                 0\n",
       "purpose                     0\n",
       "title                    1755\n",
       "dti                         0\n",
       "earliest_cr_line            0\n",
       "open_acc                    0\n",
       "pub_rec                     0\n",
       "revol_bal                   0\n",
       "revol_util                276\n",
       "total_acc                   0\n",
       "initial_list_status         0\n",
       "application_type            0\n",
       "mort_acc                    0\n",
       "pub_rec_bankruptcies      535\n",
       "address                     0\n",
       "dtype: int64"
      ]
     },
     "execution_count": 29,
     "metadata": {},
     "output_type": "execute_result"
    }
   ],
   "source": [
    "loan.isnull().sum() "
   ]
  },
  {
   "cell_type": "markdown",
   "id": "3395b7b5",
   "metadata": {},
   "source": [
    "**Abbiamo \"riempito\" i valori NaN di 'mort_acc' con un senso logico.**"
   ]
  },
  {
   "cell_type": "markdown",
   "id": "d9949710",
   "metadata": {},
   "source": [
    "### Emp Title"
   ]
  },
  {
   "cell_type": "markdown",
   "id": "62aa6987",
   "metadata": {},
   "source": [
    "Si potrebbe pensare di fare un one-hot encoding, contiamo il numero di titoli lavorativi unici."
   ]
  },
  {
   "cell_type": "code",
   "execution_count": 30,
   "id": "66fa792f",
   "metadata": {},
   "outputs": [
    {
     "data": {
      "text/plain": [
       "173105"
      ]
     },
     "execution_count": 30,
     "metadata": {},
     "output_type": "execute_result"
    }
   ],
   "source": [
    "loan['emp_title'].nunique() "
   ]
  },
  {
   "cell_type": "markdown",
   "id": "ee4daf2d",
   "metadata": {},
   "source": [
    "**Sono di tipo stringa e 173_105 valori unici su 396_030 righe del dataset, ovvero un'enormità per farci un one-hot encoding. Per essere utilizzabili bisognerebbe sapere se per caso i NaN significhino \"disoccupato\" o meno, ma ciò è improbabile. La scelta più rapida e indolore è scartare la feature.**"
   ]
  },
  {
   "cell_type": "code",
   "execution_count": 31,
   "id": "af054d3f",
   "metadata": {},
   "outputs": [],
   "source": [
    "loan.drop('emp_title',axis=1,inplace=True) "
   ]
  },
  {
   "cell_type": "code",
   "execution_count": 32,
   "id": "5829f8e7",
   "metadata": {},
   "outputs": [
    {
     "data": {
      "text/plain": [
       "loan_amnt                   0\n",
       "term                        0\n",
       "int_rate                    0\n",
       "installment                 0\n",
       "grade                       0\n",
       "sub_grade                   0\n",
       "emp_length              18301\n",
       "home_ownership              0\n",
       "annual_inc                  0\n",
       "verification_status         0\n",
       "issue_d                     0\n",
       "loan_status                 0\n",
       "purpose                     0\n",
       "title                    1755\n",
       "dti                         0\n",
       "earliest_cr_line            0\n",
       "open_acc                    0\n",
       "pub_rec                     0\n",
       "revol_bal                   0\n",
       "revol_util                276\n",
       "total_acc                   0\n",
       "initial_list_status         0\n",
       "application_type            0\n",
       "mort_acc                    0\n",
       "pub_rec_bankruptcies      535\n",
       "address                     0\n",
       "dtype: int64"
      ]
     },
     "execution_count": 32,
     "metadata": {},
     "output_type": "execute_result"
    }
   ],
   "source": [
    "loan.isnull().sum() "
   ]
  },
  {
   "cell_type": "markdown",
   "id": "47bc6f6a",
   "metadata": {},
   "source": [
    "### Emp Length"
   ]
  },
  {
   "cell_type": "markdown",
   "id": "c22120ea",
   "metadata": {},
   "source": [
    "Anche qua il one-hot encoding potrebbe essere una via percorribile, soprattutto perchè i valori sono solo 11."
   ]
  },
  {
   "cell_type": "code",
   "execution_count": 33,
   "id": "02a961c4",
   "metadata": {
    "scrolled": true
   },
   "outputs": [
    {
     "data": {
      "text/plain": [
       "11"
      ]
     },
     "execution_count": 33,
     "metadata": {},
     "output_type": "execute_result"
    }
   ],
   "source": [
    "loan['emp_length'].nunique()"
   ]
  },
  {
   "cell_type": "markdown",
   "id": "97a8c90f",
   "metadata": {},
   "source": [
    "**Verifichiamo che ne valga la pena, analizzando la correlazione con 'loan_status'.**"
   ]
  },
  {
   "cell_type": "code",
   "execution_count": 34,
   "id": "452abb48",
   "metadata": {},
   "outputs": [],
   "source": [
    "# per ordine mentale ordino in ordine crescente di anni lavorativi il prossimo plot\n",
    "emp_length_order = [ '< 1 year',\n",
    "                      '1 year',\n",
    "                     '2 years',\n",
    "                     '3 years',\n",
    "                     '4 years',\n",
    "                     '5 years',\n",
    "                     '6 years',\n",
    "                     '7 years',\n",
    "                     '8 years',\n",
    "                     '9 years',\n",
    "                     '10+ years']"
   ]
  },
  {
   "cell_type": "code",
   "execution_count": 35,
   "id": "cd363257",
   "metadata": {},
   "outputs": [
    {
     "data": {
      "text/plain": [
       "<AxesSubplot:xlabel='emp_length', ylabel='count'>"
      ]
     },
     "execution_count": 35,
     "metadata": {},
     "output_type": "execute_result"
    },
    {
     "data": {
      "image/png": "[encoded data removed]",
      "text/plain": [
       "<Figure size 720x576 with 1 Axes>"
      ]
     },
     "metadata": {
      "needs_background": "light"
     },
     "output_type": "display_data"
    }
   ],
   "source": [
    "plt.figure(figsize=(10,8))\n",
    "sns.countplot(data=loan,x='emp_length',order=emp_length_order,hue='loan_status') "
   ]
  },
  {
   "cell_type": "markdown",
   "id": "4725ca29",
   "metadata": {},
   "source": [
    "**Questo grafico non basta a dare informazioni importanti sulla relazione con la colonna target, visualizziamo le percentuali relative di prestiti pagati e non per ciascuna categoria di 'emp_length'.**"
   ]
  },
  {
   "cell_type": "code",
   "execution_count": 36,
   "id": "f26ecc83",
   "metadata": {},
   "outputs": [],
   "source": [
    "emp_co = loan[loan['loan_status']==0].groupby('emp_length').count()['loan_status']\n",
    "emp_fp = loan[loan['loan_status']==1].groupby('emp_length').count()['loan_status']\n",
    "\n",
    "emp_len = emp_co/emp_fp"
   ]
  },
  {
   "cell_type": "code",
   "execution_count": 37,
   "id": "a7680015",
   "metadata": {},
   "outputs": [
    {
     "data": {
      "text/plain": [
       "<AxesSubplot:xlabel='emp_length'>"
      ]
     },
     "execution_count": 37,
     "metadata": {},
     "output_type": "execute_result"
    },
    {
     "data": {
      "image/png": "[encoded data removed]",
      "text/plain": [
       "<Figure size 432x288 with 1 Axes>"
      ]
     },
     "metadata": {
      "needs_background": "light"
     },
     "output_type": "display_data"
    }
   ],
   "source": [
    "emp_len.plot(kind='bar') "
   ]
  },
  {
   "cell_type": "markdown",
   "id": "18a453e1",
   "metadata": {},
   "source": [
    "**Non ci sono differenze sostanziali fra le diverse categorie di 'emp_length', non è una feature utile la scarto direttamente.**"
   ]
  },
  {
   "cell_type": "code",
   "execution_count": 38,
   "id": "593a1f42",
   "metadata": {},
   "outputs": [],
   "source": [
    "loan.drop('emp_length',axis=1,inplace=True) "
   ]
  },
  {
   "cell_type": "code",
   "execution_count": 39,
   "id": "5c493ec7",
   "metadata": {},
   "outputs": [
    {
     "data": {
      "text/plain": [
       "loan_amnt                  0\n",
       "term                       0\n",
       "int_rate                   0\n",
       "installment                0\n",
       "grade                      0\n",
       "sub_grade                  0\n",
       "home_ownership             0\n",
       "annual_inc                 0\n",
       "verification_status        0\n",
       "issue_d                    0\n",
       "loan_status                0\n",
       "purpose                    0\n",
       "title                   1755\n",
       "dti                        0\n",
       "earliest_cr_line           0\n",
       "open_acc                   0\n",
       "pub_rec                    0\n",
       "revol_bal                  0\n",
       "revol_util               276\n",
       "total_acc                  0\n",
       "initial_list_status        0\n",
       "application_type           0\n",
       "mort_acc                   0\n",
       "pub_rec_bankruptcies     535\n",
       "address                    0\n",
       "dtype: int64"
      ]
     },
     "execution_count": 39,
     "metadata": {},
     "output_type": "execute_result"
    }
   ],
   "source": [
    "loan.isnull().sum()"
   ]
  },
  {
   "cell_type": "markdown",
   "id": "98edb486",
   "metadata": {},
   "source": [
    "### Title"
   ]
  },
  {
   "cell_type": "markdown",
   "id": "a563175e",
   "metadata": {},
   "source": [
    "Per la feature 'title' che è la motivazione per la quale viene richiesto il prestito, bisogna notare che esiste un'altra feature nel dataset, senza Missing Data, che svolge lo stesso compito ovvero 'purpose'."
   ]
  },
  {
   "cell_type": "code",
   "execution_count": 40,
   "id": "dcc5cadf",
   "metadata": {},
   "outputs": [
    {
     "data": {
      "text/plain": [
       "0                    Vacation\n",
       "1          Debt consolidation\n",
       "2     Credit card refinancing\n",
       "3     Credit card refinancing\n",
       "4       Credit Card Refinance\n",
       "5          Debt consolidation\n",
       "6            Home improvement\n",
       "7        No More Credit Cards\n",
       "8          Debt consolidation\n",
       "9          Debt Consolidation\n",
       "10         Debt Consolidation\n",
       "11    Credit card refinancing\n",
       "12         Debt consolidation\n",
       "13         Debt consolidation\n",
       "14                   Business\n",
       "15             Major purchase\n",
       "16         Debt consolidation\n",
       "17         Debt consolidation\n",
       "18         Debt consolidation\n",
       "19         Debt consolidation\n",
       "Name: title, dtype: object"
      ]
     },
     "execution_count": 40,
     "metadata": {},
     "output_type": "execute_result"
    }
   ],
   "source": [
    "loan['title'].head(20)"
   ]
  },
  {
   "cell_type": "code",
   "execution_count": 41,
   "id": "b1d6c015",
   "metadata": {},
   "outputs": [
    {
     "data": {
      "text/plain": [
       "0               vacation\n",
       "1     debt_consolidation\n",
       "2            credit_card\n",
       "3            credit_card\n",
       "4            credit_card\n",
       "5     debt_consolidation\n",
       "6       home_improvement\n",
       "7            credit_card\n",
       "8     debt_consolidation\n",
       "9     debt_consolidation\n",
       "10    debt_consolidation\n",
       "11           credit_card\n",
       "12    debt_consolidation\n",
       "13    debt_consolidation\n",
       "14        small_business\n",
       "15        major_purchase\n",
       "16    debt_consolidation\n",
       "17    debt_consolidation\n",
       "18    debt_consolidation\n",
       "19    debt_consolidation\n",
       "Name: purpose, dtype: object"
      ]
     },
     "execution_count": 41,
     "metadata": {},
     "output_type": "execute_result"
    }
   ],
   "source": [
    "loan['purpose'].head(20)"
   ]
  },
  {
   "cell_type": "markdown",
   "id": "af804eb0",
   "metadata": {},
   "source": [
    "**Danno la stessa identica informazione, scarto la feature con i Missing Data.**"
   ]
  },
  {
   "cell_type": "code",
   "execution_count": 42,
   "id": "97b68fba",
   "metadata": {},
   "outputs": [],
   "source": [
    "loan.drop('title',axis=1,inplace=True) "
   ]
  },
  {
   "cell_type": "code",
   "execution_count": 43,
   "id": "dfa863de",
   "metadata": {},
   "outputs": [
    {
     "data": {
      "text/plain": [
       "loan_amnt                 0\n",
       "term                      0\n",
       "int_rate                  0\n",
       "installment               0\n",
       "grade                     0\n",
       "sub_grade                 0\n",
       "home_ownership            0\n",
       "annual_inc                0\n",
       "verification_status       0\n",
       "issue_d                   0\n",
       "loan_status               0\n",
       "purpose                   0\n",
       "dti                       0\n",
       "earliest_cr_line          0\n",
       "open_acc                  0\n",
       "pub_rec                   0\n",
       "revol_bal                 0\n",
       "revol_util              276\n",
       "total_acc                 0\n",
       "initial_list_status       0\n",
       "application_type          0\n",
       "mort_acc                  0\n",
       "pub_rec_bankruptcies    535\n",
       "address                   0\n",
       "dtype: int64"
      ]
     },
     "execution_count": 43,
     "metadata": {},
     "output_type": "execute_result"
    }
   ],
   "source": [
    "loan.isnull().sum()"
   ]
  },
  {
   "cell_type": "markdown",
   "id": "a04247fa",
   "metadata": {},
   "source": [
    "### Pub_Rec_Bankruptcies"
   ]
  },
  {
   "cell_type": "markdown",
   "id": "3fc1746d",
   "metadata": {},
   "source": [
    "Nonostante i Missing Data siano pochi si può replicare quanto fatto con la feature 'mort_acc' per recuperarli, perché si ha una forte correlazione con un'altra feature 'pub_rec'."
   ]
  },
  {
   "cell_type": "code",
   "execution_count": 44,
   "id": "082550f1",
   "metadata": {},
   "outputs": [
    {
     "data": {
      "image/png": "[encoded data removed]",
      "text/plain": [
       "<Figure size 360x360 with 1 Axes>"
      ]
     },
     "metadata": {
      "needs_background": "light"
     },
     "output_type": "display_data"
    }
   ],
   "source": [
    "reg = sns.lmplot(data=loan,x='pub_rec',y='pub_rec_bankruptcies')"
   ]
  },
  {
   "cell_type": "code",
   "execution_count": 45,
   "id": "ae5f3992",
   "metadata": {},
   "outputs": [
    {
     "data": {
      "text/plain": [
       "pub_rec\n",
       "0.0     0.000000\n",
       "1.0     0.810205\n",
       "2.0     0.929863\n",
       "3.0     1.074293\n",
       "4.0     1.136622\n",
       "5.0     1.113924\n",
       "6.0     0.983607\n",
       "7.0     0.821429\n",
       "8.0     1.235294\n",
       "9.0     1.250000\n",
       "10.0    0.363636\n",
       "11.0    0.000000\n",
       "12.0    1.000000\n",
       "13.0    0.500000\n",
       "15.0    0.000000\n",
       "17.0    1.000000\n",
       "19.0    1.000000\n",
       "24.0    0.000000\n",
       "40.0    1.000000\n",
       "86.0    1.000000\n",
       "Name: pub_rec_bankruptcies, dtype: float64"
      ]
     },
     "execution_count": 45,
     "metadata": {},
     "output_type": "execute_result"
    }
   ],
   "source": [
    "pub_bankrupt_avg = loan.groupby('pub_rec').mean()['pub_rec_bankruptcies']\n",
    "pub_bankrupt_avg"
   ]
  },
  {
   "cell_type": "code",
   "execution_count": 46,
   "id": "730244ce",
   "metadata": {},
   "outputs": [],
   "source": [
    "def fill_pub_rec_bankrupt(pub_rec,pub_rec_bankruptcies):\n",
    "\n",
    "    if np.isnan(pub_rec_bankruptcies):\n",
    "        return pub_bankrupt_avg[pub_rec]\n",
    "    else:\n",
    "        return pub_rec_bankruptcies"
   ]
  },
  {
   "cell_type": "code",
   "execution_count": 47,
   "id": "d122b97e",
   "metadata": {},
   "outputs": [],
   "source": [
    "loan['pub_rec_bankruptcies'] = loan.apply(lambda x: fill_pub_rec_bankrupt(x['pub_rec'], x['pub_rec_bankruptcies']), axis=1)"
   ]
  },
  {
   "cell_type": "code",
   "execution_count": 48,
   "id": "374140b3",
   "metadata": {},
   "outputs": [
    {
     "data": {
      "text/plain": [
       "loan_amnt                 0\n",
       "term                      0\n",
       "int_rate                  0\n",
       "installment               0\n",
       "grade                     0\n",
       "sub_grade                 0\n",
       "home_ownership            0\n",
       "annual_inc                0\n",
       "verification_status       0\n",
       "issue_d                   0\n",
       "loan_status               0\n",
       "purpose                   0\n",
       "dti                       0\n",
       "earliest_cr_line          0\n",
       "open_acc                  0\n",
       "pub_rec                   0\n",
       "revol_bal                 0\n",
       "revol_util              276\n",
       "total_acc                 0\n",
       "initial_list_status       0\n",
       "application_type          0\n",
       "mort_acc                  0\n",
       "pub_rec_bankruptcies      0\n",
       "address                   0\n",
       "dtype: int64"
      ]
     },
     "execution_count": 48,
     "metadata": {},
     "output_type": "execute_result"
    }
   ],
   "source": [
    "loan.isnull().sum() "
   ]
  },
  {
   "cell_type": "markdown",
   "id": "24363769",
   "metadata": {},
   "source": [
    "**Ho \"riempito\" con senso la feature 'pub_rec_bankruptcies'.** "
   ]
  },
  {
   "cell_type": "markdown",
   "id": "d42978be",
   "metadata": {},
   "source": [
    "### Revol_Util"
   ]
  },
  {
   "cell_type": "markdown",
   "id": "b35c7247",
   "metadata": {},
   "source": [
    "In questo caso la situazione è simile alla feature precedente, ma non ha forti correlazioni con altre feature. Per semplicità si scarta."
   ]
  },
  {
   "cell_type": "code",
   "execution_count": 49,
   "id": "7ef5acb2",
   "metadata": {},
   "outputs": [],
   "source": [
    "loan.drop('revol_util',axis=1,inplace=True) "
   ]
  },
  {
   "cell_type": "code",
   "execution_count": 50,
   "id": "ca1d5629",
   "metadata": {},
   "outputs": [
    {
     "data": {
      "text/plain": [
       "loan_amnt               0\n",
       "term                    0\n",
       "int_rate                0\n",
       "installment             0\n",
       "grade                   0\n",
       "sub_grade               0\n",
       "home_ownership          0\n",
       "annual_inc              0\n",
       "verification_status     0\n",
       "issue_d                 0\n",
       "loan_status             0\n",
       "purpose                 0\n",
       "dti                     0\n",
       "earliest_cr_line        0\n",
       "open_acc                0\n",
       "pub_rec                 0\n",
       "revol_bal               0\n",
       "total_acc               0\n",
       "initial_list_status     0\n",
       "application_type        0\n",
       "mort_acc                0\n",
       "pub_rec_bankruptcies    0\n",
       "address                 0\n",
       "dtype: int64"
      ]
     },
     "execution_count": 50,
     "metadata": {},
     "output_type": "execute_result"
    }
   ],
   "source": [
    "loan.isnull().sum()"
   ]
  },
  {
   "cell_type": "markdown",
   "id": "ab4a6d38",
   "metadata": {},
   "source": [
    "**Il dataset è stato ripulito con senso logico da tutti i Missing Data, ora è il momento di passare a trasformare le feature in un formato accettabile per modelli di machine learning.**"
   ]
  },
  {
   "cell_type": "markdown",
   "id": "82a9440d",
   "metadata": {},
   "source": [
    "## Feature Engineering"
   ]
  },
  {
   "cell_type": "code",
   "execution_count": 51,
   "id": "0c3c1af1",
   "metadata": {},
   "outputs": [
    {
     "name": "stdout",
     "output_type": "stream",
     "text": [
      "<class 'pandas.core.frame.DataFrame'>\n",
      "RangeIndex: 396030 entries, 0 to 396029\n",
      "Data columns (total 23 columns):\n",
      " #   Column                Non-Null Count   Dtype  \n",
      "---  ------                --------------   -----  \n",
      " 0   loan_amnt             396030 non-null  float64\n",
      " 1   term                  396030 non-null  object \n",
      " 2   int_rate              396030 non-null  float64\n",
      " 3   installment           396030 non-null  float64\n",
      " 4   grade                 396030 non-null  object \n",
      " 5   sub_grade             396030 non-null  object \n",
      " 6   home_ownership        396030 non-null  object \n",
      " 7   annual_inc            396030 non-null  float64\n",
      " 8   verification_status   396030 non-null  object \n",
      " 9   issue_d               396030 non-null  object \n",
      " 10  loan_status           396030 non-null  int64  \n",
      " 11  purpose               396030 non-null  object \n",
      " 12  dti                   396030 non-null  float64\n",
      " 13  earliest_cr_line      396030 non-null  object \n",
      " 14  open_acc              396030 non-null  float64\n",
      " 15  pub_rec               396030 non-null  float64\n",
      " 16  revol_bal             396030 non-null  float64\n",
      " 17  total_acc             396030 non-null  float64\n",
      " 18  initial_list_status   396030 non-null  object \n",
      " 19  application_type      396030 non-null  object \n",
      " 20  mort_acc              396030 non-null  float64\n",
      " 21  pub_rec_bankruptcies  396030 non-null  float64\n",
      " 22  address               396030 non-null  object \n",
      "dtypes: float64(11), int64(1), object(11)\n",
      "memory usage: 69.5+ MB\n"
     ]
    }
   ],
   "source": [
    "loan.info()"
   ]
  },
  {
   "cell_type": "markdown",
   "id": "327fa753",
   "metadata": {},
   "source": [
    "### Term"
   ]
  },
  {
   "cell_type": "code",
   "execution_count": 52,
   "id": "3cc29bba",
   "metadata": {},
   "outputs": [
    {
     "data": {
      "text/plain": [
       "array([' 36 months', ' 60 months'], dtype=object)"
      ]
     },
     "execution_count": 52,
     "metadata": {},
     "output_type": "execute_result"
    }
   ],
   "source": [
    "loan['term'].unique() "
   ]
  },
  {
   "cell_type": "markdown",
   "id": "5b8d3f21",
   "metadata": {},
   "source": [
    "**Sono solo due possibili valori, faccio one-hot encoding.**"
   ]
  },
  {
   "cell_type": "code",
   "execution_count": 53,
   "id": "b4820e94",
   "metadata": {},
   "outputs": [],
   "source": [
    "term = pd.get_dummies(loan['term'],drop_first=True)"
   ]
  },
  {
   "cell_type": "code",
   "execution_count": 54,
   "id": "55570c15",
   "metadata": {},
   "outputs": [],
   "source": [
    "loan = pd.concat([loan,term],axis=1)"
   ]
  },
  {
   "cell_type": "code",
   "execution_count": 55,
   "id": "e95df14d",
   "metadata": {},
   "outputs": [],
   "source": [
    "loan.drop('term',axis=1,inplace=True) # non mi serve più"
   ]
  },
  {
   "cell_type": "markdown",
   "id": "e4a6700e",
   "metadata": {},
   "source": [
    "### Grades e Subgrades"
   ]
  },
  {
   "cell_type": "code",
   "execution_count": 56,
   "id": "24e4ecda",
   "metadata": {},
   "outputs": [
    {
     "data": {
      "text/plain": [
       "['A', 'B', 'C', 'D', 'E', 'F', 'G']"
      ]
     },
     "execution_count": 56,
     "metadata": {},
     "output_type": "execute_result"
    }
   ],
   "source": [
    "sorted(loan['grade'].unique()) "
   ]
  },
  {
   "cell_type": "code",
   "execution_count": 57,
   "id": "1329ff4f",
   "metadata": {},
   "outputs": [
    {
     "data": {
      "text/plain": [
       "['A1',\n",
       " 'A2',\n",
       " 'A3',\n",
       " 'A4',\n",
       " 'A5',\n",
       " 'B1',\n",
       " 'B2',\n",
       " 'B3',\n",
       " 'B4',\n",
       " 'B5',\n",
       " 'C1',\n",
       " 'C2',\n",
       " 'C3',\n",
       " 'C4',\n",
       " 'C5',\n",
       " 'D1',\n",
       " 'D2',\n",
       " 'D3',\n",
       " 'D4',\n",
       " 'D5',\n",
       " 'E1',\n",
       " 'E2',\n",
       " 'E3',\n",
       " 'E4',\n",
       " 'E5',\n",
       " 'F1',\n",
       " 'F2',\n",
       " 'F3',\n",
       " 'F4',\n",
       " 'F5',\n",
       " 'G1',\n",
       " 'G2',\n",
       " 'G3',\n",
       " 'G4',\n",
       " 'G5']"
      ]
     },
     "execution_count": 57,
     "metadata": {},
     "output_type": "execute_result"
    }
   ],
   "source": [
    "sorted(loan['sub_grade'].unique())"
   ]
  },
  {
   "cell_type": "markdown",
   "id": "c2f088c6",
   "metadata": {},
   "source": [
    "È possibile che l'ordinamento dei subgrades segua la stessa logica di quella dei grades e che le due distribuzioni si rispecchino."
   ]
  },
  {
   "cell_type": "code",
   "execution_count": 58,
   "id": "010dc744",
   "metadata": {},
   "outputs": [
    {
     "data": {
      "text/plain": [
       "<AxesSubplot:xlabel='grade', ylabel='count'>"
      ]
     },
     "execution_count": 58,
     "metadata": {},
     "output_type": "execute_result"
    },
    {
     "data": {
      "image/png": "[encoded data removed]",
      "text/plain": [
       "<Figure size 864x288 with 1 Axes>"
      ]
     },
     "metadata": {
      "needs_background": "light"
     },
     "output_type": "display_data"
    }
   ],
   "source": [
    "plt.figure(figsize=(12,4))\n",
    "grade_order = sorted(loan['grade'].unique())\n",
    "sns.countplot(x='grade',data=loan,order = grade_order,palette='coolwarm',hue='loan_status')"
   ]
  },
  {
   "cell_type": "markdown",
   "id": "83eca296",
   "metadata": {},
   "source": [
    "Si analizza il rapporto in percentuale tra prestiti non risanati ed estinti per ogni 'grade'. "
   ]
  },
  {
   "cell_type": "code",
   "execution_count": 59,
   "id": "08955594",
   "metadata": {},
   "outputs": [],
   "source": [
    "grade_co = loan[loan['loan_status']==0].groupby('grade').count()['loan_status']\n",
    "grade_fp = loan[loan['loan_status']==1].groupby('grade').count()['loan_status']\n",
    "\n",
    "grade_len = grade_co/grade_fp"
   ]
  },
  {
   "cell_type": "code",
   "execution_count": 60,
   "id": "cef22e9e",
   "metadata": {},
   "outputs": [
    {
     "data": {
      "text/plain": [
       "<AxesSubplot:xlabel='grade'>"
      ]
     },
     "execution_count": 60,
     "metadata": {},
     "output_type": "execute_result"
    },
    {
     "data": {
      "image/png": "[encoded data removed]",
      "text/plain": [
       "<Figure size 432x288 with 1 Axes>"
      ]
     },
     "metadata": {
      "needs_background": "light"
     },
     "output_type": "display_data"
    }
   ],
   "source": [
    "grade_len.plot(kind='bar')"
   ]
  },
  {
   "cell_type": "markdown",
   "id": "0ef46f83",
   "metadata": {},
   "source": [
    "**C'è un chiaro e intuibile andamento. Analizziamo le stesse cose per i 'sub_grade'.**"
   ]
  },
  {
   "cell_type": "code",
   "execution_count": 61,
   "id": "bf137cdb",
   "metadata": {},
   "outputs": [
    {
     "data": {
      "text/plain": [
       "<AxesSubplot:xlabel='sub_grade', ylabel='count'>"
      ]
     },
     "execution_count": 61,
     "metadata": {},
     "output_type": "execute_result"
    },
    {
     "data": {
      "image/png": "[encoded data removed]",
      "text/plain": [
       "<Figure size 864x288 with 1 Axes>"
      ]
     },
     "metadata": {
      "needs_background": "light"
     },
     "output_type": "display_data"
    }
   ],
   "source": [
    "plt.figure(figsize=(12,4))\n",
    "subgrade_order = sorted(loan['sub_grade'].unique())\n",
    "sns.countplot(x='sub_grade',data=loan,order = subgrade_order,palette='coolwarm' ,hue='loan_status')"
   ]
  },
  {
   "cell_type": "markdown",
   "id": "70d2b492",
   "metadata": {},
   "source": [
    "**Queste due distribuzioni sono molto simili a quelle per i 'grade', vediamo se anche per i rapporti percentuali si ha la stessa cosa.**"
   ]
  },
  {
   "cell_type": "code",
   "execution_count": 62,
   "id": "45a8dc6f",
   "metadata": {},
   "outputs": [],
   "source": [
    "subgrade_co = loan[loan['loan_status']==0].groupby('sub_grade').count()['loan_status']\n",
    "subgrade_fp = loan[loan['loan_status']==1].groupby('sub_grade').count()['loan_status']\n",
    "\n",
    "subgrade_len = subgrade_co/subgrade_fp"
   ]
  },
  {
   "cell_type": "code",
   "execution_count": 63,
   "id": "63f3e9bb",
   "metadata": {},
   "outputs": [
    {
     "data": {
      "text/plain": [
       "<AxesSubplot:xlabel='sub_grade'>"
      ]
     },
     "execution_count": 63,
     "metadata": {},
     "output_type": "execute_result"
    },
    {
     "data": {
      "image/png": "[encoded data removed]",
      "text/plain": [
       "<Figure size 432x288 with 1 Axes>"
      ]
     },
     "metadata": {
      "needs_background": "light"
     },
     "output_type": "display_data"
    }
   ],
   "source": [
    "subgrade_len.plot(kind='bar') "
   ]
  },
  {
   "cell_type": "markdown",
   "id": "d3ed3fda",
   "metadata": {},
   "source": [
    "**È abbastanza confermato che la colonna 'sub_grade' contenga le stesse informazioni della 'grade'. Inoltre quest'ultima le fornisce meno dettagliatamente, perciò la scarto.**"
   ]
  },
  {
   "cell_type": "code",
   "execution_count": 64,
   "id": "695de806",
   "metadata": {},
   "outputs": [],
   "source": [
    "loan.drop('grade',axis=1,inplace=True) "
   ]
  },
  {
   "cell_type": "markdown",
   "id": "b8e93793",
   "metadata": {},
   "source": [
    "Si fa il one-hot encoding della colonna 'sub_grade'."
   ]
  },
  {
   "cell_type": "code",
   "execution_count": 65,
   "id": "54ea08a4",
   "metadata": {},
   "outputs": [],
   "source": [
    "grades = pd.get_dummies(loan['sub_grade'],drop_first=True)"
   ]
  },
  {
   "cell_type": "code",
   "execution_count": 66,
   "id": "b988b35a",
   "metadata": {},
   "outputs": [],
   "source": [
    "loan = pd.concat([loan,grades],axis=1)"
   ]
  },
  {
   "cell_type": "code",
   "execution_count": 67,
   "id": "c809b17c",
   "metadata": {},
   "outputs": [],
   "source": [
    "loan.drop('sub_grade',axis=1,inplace=True) # non serve più"
   ]
  },
  {
   "cell_type": "markdown",
   "id": "5badd55d",
   "metadata": {},
   "source": [
    "### Home Ownership"
   ]
  },
  {
   "cell_type": "code",
   "execution_count": 68,
   "id": "64dda44c",
   "metadata": {},
   "outputs": [
    {
     "data": {
      "text/plain": [
       "array(['RENT', 'MORTGAGE', 'OWN', 'OTHER', 'NONE', 'ANY'], dtype=object)"
      ]
     },
     "execution_count": 68,
     "metadata": {},
     "output_type": "execute_result"
    }
   ],
   "source": [
    "loan['home_ownership'].unique()"
   ]
  },
  {
   "cell_type": "markdown",
   "id": "7becd567",
   "metadata": {},
   "source": [
    "Le categorie 'NONE' ed 'ANY' possono essere inserite nella categoria 'OTHER'."
   ]
  },
  {
   "cell_type": "code",
   "execution_count": 69,
   "id": "235bbb0c",
   "metadata": {},
   "outputs": [],
   "source": [
    "loan['home_ownership'] = loan['home_ownership'].replace(['NONE', 'ANY'], 'OTHER')"
   ]
  },
  {
   "cell_type": "markdown",
   "id": "83126a7c",
   "metadata": {},
   "source": [
    "Si fa one-hot encoding di questa feature categorical."
   ]
  },
  {
   "cell_type": "code",
   "execution_count": 70,
   "id": "25cb2994",
   "metadata": {},
   "outputs": [],
   "source": [
    "home = pd.get_dummies(loan['home_ownership'],drop_first=True)"
   ]
  },
  {
   "cell_type": "code",
   "execution_count": 71,
   "id": "e313dc7c",
   "metadata": {},
   "outputs": [],
   "source": [
    "loan = pd.concat([loan,home],axis=1)"
   ]
  },
  {
   "cell_type": "code",
   "execution_count": 72,
   "id": "572343c6",
   "metadata": {},
   "outputs": [],
   "source": [
    "loan.drop('home_ownership',axis=1,inplace=True) # non serve più"
   ]
  },
  {
   "cell_type": "markdown",
   "id": "d1797d20",
   "metadata": {},
   "source": [
    "### verification_status, application_type, initial_list_status, purpose"
   ]
  },
  {
   "cell_type": "markdown",
   "id": "44d91fd7",
   "metadata": {},
   "source": [
    "Per queste feature si passa subito al one-hot encoding."
   ]
  },
  {
   "cell_type": "code",
   "execution_count": 73,
   "id": "dfcac9df",
   "metadata": {},
   "outputs": [],
   "source": [
    "dummies = pd.get_dummies(loan[['verification_status', 'application_type','initial_list_status','purpose' ]],drop_first=True)\n",
    "loan = pd.concat([loan,dummies],axis=1)\n",
    "loan = loan.drop(['verification_status', 'application_type','initial_list_status','purpose'],axis=1)"
   ]
  },
  {
   "cell_type": "markdown",
   "id": "2a3d5ddc",
   "metadata": {},
   "source": [
    "### issue_d"
   ]
  },
  {
   "cell_type": "markdown",
   "id": "70fe8a89",
   "metadata": {},
   "source": [
    "Questa feature è pericolosa per la buona riuscita del training del modello di Deep Learning, infatti contiene informazioni sul fatto che il prestito sia stato estinto o meno che è esattamente ciò che il modello si deve allenare a capire. Fornire questa feature al modello in fase di training è il cosiddetto **Data Leakage** e rovinerebbe le capacità predittive generali dell'algoritmo di machine learning. Si **deve** scartare."
   ]
  },
  {
   "cell_type": "code",
   "execution_count": 74,
   "id": "d692f9a2",
   "metadata": {},
   "outputs": [],
   "source": [
    "loan.drop('issue_d',axis=1,inplace=True) "
   ]
  },
  {
   "cell_type": "markdown",
   "id": "bcf19515",
   "metadata": {},
   "source": [
    "### earliest_cr_line"
   ]
  },
  {
   "cell_type": "markdown",
   "id": "05fc352c",
   "metadata": {},
   "source": [
    "La data di apertura della carta di credito più recente può essere indicativo dell'affidabilità del borrower, ma i valori sono troppi per un one-hot encoding a bruciapelo."
   ]
  },
  {
   "cell_type": "code",
   "execution_count": 75,
   "id": "3170d3c4",
   "metadata": {},
   "outputs": [
    {
     "data": {
      "text/plain": [
       "684"
      ]
     },
     "execution_count": 75,
     "metadata": {},
     "output_type": "execute_result"
    }
   ],
   "source": [
    "loan['earliest_cr_line'].nunique()"
   ]
  },
  {
   "cell_type": "code",
   "execution_count": 76,
   "id": "661a391d",
   "metadata": {},
   "outputs": [
    {
     "data": {
      "text/plain": [
       "['Apr-1955',\n",
       " 'Apr-1958',\n",
       " 'Apr-1960',\n",
       " 'Apr-1961',\n",
       " 'Apr-1962',\n",
       " 'Apr-1963',\n",
       " 'Apr-1964',\n",
       " 'Apr-1965',\n",
       " 'Apr-1966',\n",
       " 'Apr-1967',\n",
       " 'Apr-1968',\n",
       " 'Apr-1969',\n",
       " 'Apr-1970',\n",
       " 'Apr-1971',\n",
       " 'Apr-1972',\n",
       " 'Apr-1973',\n",
       " 'Apr-1974',\n",
       " 'Apr-1975',\n",
       " 'Apr-1976',\n",
       " 'Apr-1977',\n",
       " 'Apr-1978',\n",
       " 'Apr-1979',\n",
       " 'Apr-1980',\n",
       " 'Apr-1981',\n",
       " 'Apr-1982',\n",
       " 'Apr-1983',\n",
       " 'Apr-1984',\n",
       " 'Apr-1985',\n",
       " 'Apr-1986',\n",
       " 'Apr-1987',\n",
       " 'Apr-1988',\n",
       " 'Apr-1989',\n",
       " 'Apr-1990',\n",
       " 'Apr-1991',\n",
       " 'Apr-1992',\n",
       " 'Apr-1993',\n",
       " 'Apr-1994',\n",
       " 'Apr-1995',\n",
       " 'Apr-1996',\n",
       " 'Apr-1997',\n",
       " 'Apr-1998',\n",
       " 'Apr-1999',\n",
       " 'Apr-2000',\n",
       " 'Apr-2001',\n",
       " 'Apr-2002',\n",
       " 'Apr-2003',\n",
       " 'Apr-2004',\n",
       " 'Apr-2005',\n",
       " 'Apr-2006',\n",
       " 'Apr-2007',\n",
       " 'Apr-2008',\n",
       " 'Apr-2009',\n",
       " 'Apr-2010',\n",
       " 'Apr-2011',\n",
       " 'Apr-2012',\n",
       " 'Apr-2013',\n",
       " 'Aug-1951',\n",
       " 'Aug-1958',\n",
       " 'Aug-1959',\n",
       " 'Aug-1960',\n",
       " 'Aug-1961',\n",
       " 'Aug-1962',\n",
       " 'Aug-1963',\n",
       " 'Aug-1964',\n",
       " 'Aug-1965',\n",
       " 'Aug-1966',\n",
       " 'Aug-1967',\n",
       " 'Aug-1968',\n",
       " 'Aug-1969',\n",
       " 'Aug-1970',\n",
       " 'Aug-1971',\n",
       " 'Aug-1972',\n",
       " 'Aug-1973',\n",
       " 'Aug-1974',\n",
       " 'Aug-1975',\n",
       " 'Aug-1976',\n",
       " 'Aug-1977',\n",
       " 'Aug-1978',\n",
       " 'Aug-1979',\n",
       " 'Aug-1980',\n",
       " 'Aug-1981',\n",
       " 'Aug-1982',\n",
       " 'Aug-1983',\n",
       " 'Aug-1984',\n",
       " 'Aug-1985',\n",
       " 'Aug-1986',\n",
       " 'Aug-1987',\n",
       " 'Aug-1988',\n",
       " 'Aug-1989',\n",
       " 'Aug-1990',\n",
       " 'Aug-1991',\n",
       " 'Aug-1992',\n",
       " 'Aug-1993',\n",
       " 'Aug-1994',\n",
       " 'Aug-1995',\n",
       " 'Aug-1996',\n",
       " 'Aug-1997',\n",
       " 'Aug-1998',\n",
       " 'Aug-1999',\n",
       " 'Aug-2000',\n",
       " 'Aug-2001',\n",
       " 'Aug-2002',\n",
       " 'Aug-2003',\n",
       " 'Aug-2004',\n",
       " 'Aug-2005',\n",
       " 'Aug-2006',\n",
       " 'Aug-2007',\n",
       " 'Aug-2008',\n",
       " 'Aug-2009',\n",
       " 'Aug-2010',\n",
       " 'Aug-2011',\n",
       " 'Aug-2012',\n",
       " 'Aug-2013',\n",
       " 'Dec-1950',\n",
       " 'Dec-1951',\n",
       " 'Dec-1956',\n",
       " 'Dec-1958',\n",
       " 'Dec-1959',\n",
       " 'Dec-1960',\n",
       " 'Dec-1961',\n",
       " 'Dec-1962',\n",
       " 'Dec-1963',\n",
       " 'Dec-1964',\n",
       " 'Dec-1965',\n",
       " 'Dec-1966',\n",
       " 'Dec-1967',\n",
       " 'Dec-1968',\n",
       " 'Dec-1969',\n",
       " 'Dec-1970',\n",
       " 'Dec-1971',\n",
       " 'Dec-1972',\n",
       " 'Dec-1973',\n",
       " 'Dec-1974',\n",
       " 'Dec-1975',\n",
       " 'Dec-1976',\n",
       " 'Dec-1977',\n",
       " 'Dec-1978',\n",
       " 'Dec-1979',\n",
       " 'Dec-1980',\n",
       " 'Dec-1981',\n",
       " 'Dec-1982',\n",
       " 'Dec-1983',\n",
       " 'Dec-1984',\n",
       " 'Dec-1985',\n",
       " 'Dec-1986',\n",
       " 'Dec-1987',\n",
       " 'Dec-1988',\n",
       " 'Dec-1989',\n",
       " 'Dec-1990',\n",
       " 'Dec-1991',\n",
       " 'Dec-1992',\n",
       " 'Dec-1993',\n",
       " 'Dec-1994',\n",
       " 'Dec-1995',\n",
       " 'Dec-1996',\n",
       " 'Dec-1997',\n",
       " 'Dec-1998',\n",
       " 'Dec-1999',\n",
       " 'Dec-2000',\n",
       " 'Dec-2001',\n",
       " 'Dec-2002',\n",
       " 'Dec-2003',\n",
       " 'Dec-2004',\n",
       " 'Dec-2005',\n",
       " 'Dec-2006',\n",
       " 'Dec-2007',\n",
       " 'Dec-2008',\n",
       " 'Dec-2009',\n",
       " 'Dec-2010',\n",
       " 'Dec-2011',\n",
       " 'Dec-2012',\n",
       " 'Feb-1957',\n",
       " 'Feb-1961',\n",
       " 'Feb-1962',\n",
       " 'Feb-1963',\n",
       " 'Feb-1964',\n",
       " 'Feb-1965',\n",
       " 'Feb-1966',\n",
       " 'Feb-1967',\n",
       " 'Feb-1968',\n",
       " 'Feb-1969',\n",
       " 'Feb-1970',\n",
       " 'Feb-1971',\n",
       " 'Feb-1972',\n",
       " 'Feb-1973',\n",
       " 'Feb-1974',\n",
       " 'Feb-1975',\n",
       " 'Feb-1976',\n",
       " 'Feb-1977',\n",
       " 'Feb-1978',\n",
       " 'Feb-1979',\n",
       " 'Feb-1980',\n",
       " 'Feb-1981',\n",
       " 'Feb-1982',\n",
       " 'Feb-1983',\n",
       " 'Feb-1984',\n",
       " 'Feb-1985',\n",
       " 'Feb-1986',\n",
       " 'Feb-1987',\n",
       " 'Feb-1988',\n",
       " 'Feb-1989',\n",
       " 'Feb-1990',\n",
       " 'Feb-1991',\n",
       " 'Feb-1992',\n",
       " 'Feb-1993',\n",
       " 'Feb-1994',\n",
       " 'Feb-1995',\n",
       " 'Feb-1996',\n",
       " 'Feb-1997',\n",
       " 'Feb-1998',\n",
       " 'Feb-1999',\n",
       " 'Feb-2000',\n",
       " 'Feb-2001',\n",
       " 'Feb-2002',\n",
       " 'Feb-2003',\n",
       " 'Feb-2004',\n",
       " 'Feb-2005',\n",
       " 'Feb-2006',\n",
       " 'Feb-2007',\n",
       " 'Feb-2008',\n",
       " 'Feb-2009',\n",
       " 'Feb-2010',\n",
       " 'Feb-2011',\n",
       " 'Feb-2012',\n",
       " 'Feb-2013',\n",
       " 'Jan-1944',\n",
       " 'Jan-1948',\n",
       " 'Jan-1953',\n",
       " 'Jan-1954',\n",
       " 'Jan-1955',\n",
       " 'Jan-1956',\n",
       " 'Jan-1957',\n",
       " 'Jan-1958',\n",
       " 'Jan-1959',\n",
       " 'Jan-1960',\n",
       " 'Jan-1961',\n",
       " 'Jan-1962',\n",
       " 'Jan-1963',\n",
       " 'Jan-1964',\n",
       " 'Jan-1965',\n",
       " 'Jan-1966',\n",
       " 'Jan-1967',\n",
       " 'Jan-1968',\n",
       " 'Jan-1969',\n",
       " 'Jan-1970',\n",
       " 'Jan-1971',\n",
       " 'Jan-1972',\n",
       " 'Jan-1973',\n",
       " 'Jan-1974',\n",
       " 'Jan-1975',\n",
       " 'Jan-1976',\n",
       " 'Jan-1977',\n",
       " 'Jan-1978',\n",
       " 'Jan-1979',\n",
       " 'Jan-1980',\n",
       " 'Jan-1981',\n",
       " 'Jan-1982',\n",
       " 'Jan-1983',\n",
       " 'Jan-1984',\n",
       " 'Jan-1985',\n",
       " 'Jan-1986',\n",
       " 'Jan-1987',\n",
       " 'Jan-1988',\n",
       " 'Jan-1989',\n",
       " 'Jan-1990',\n",
       " 'Jan-1991',\n",
       " 'Jan-1992',\n",
       " 'Jan-1993',\n",
       " 'Jan-1994',\n",
       " 'Jan-1995',\n",
       " 'Jan-1996',\n",
       " 'Jan-1997',\n",
       " 'Jan-1998',\n",
       " 'Jan-1999',\n",
       " 'Jan-2000',\n",
       " 'Jan-2001',\n",
       " 'Jan-2002',\n",
       " 'Jan-2003',\n",
       " 'Jan-2004',\n",
       " 'Jan-2005',\n",
       " 'Jan-2006',\n",
       " 'Jan-2007',\n",
       " 'Jan-2008',\n",
       " 'Jan-2009',\n",
       " 'Jan-2010',\n",
       " 'Jan-2011',\n",
       " 'Jan-2012',\n",
       " 'Jan-2013',\n",
       " 'Jul-1951',\n",
       " 'Jul-1955',\n",
       " 'Jul-1958',\n",
       " 'Jul-1959',\n",
       " 'Jul-1960',\n",
       " 'Jul-1961',\n",
       " 'Jul-1962',\n",
       " 'Jul-1963',\n",
       " 'Jul-1964',\n",
       " 'Jul-1965',\n",
       " 'Jul-1966',\n",
       " 'Jul-1967',\n",
       " 'Jul-1968',\n",
       " 'Jul-1969',\n",
       " 'Jul-1970',\n",
       " 'Jul-1971',\n",
       " 'Jul-1972',\n",
       " 'Jul-1973',\n",
       " 'Jul-1974',\n",
       " 'Jul-1975',\n",
       " 'Jul-1976',\n",
       " 'Jul-1977',\n",
       " 'Jul-1978',\n",
       " 'Jul-1979',\n",
       " 'Jul-1980',\n",
       " 'Jul-1981',\n",
       " 'Jul-1982',\n",
       " 'Jul-1983',\n",
       " 'Jul-1984',\n",
       " 'Jul-1985',\n",
       " 'Jul-1986',\n",
       " 'Jul-1987',\n",
       " 'Jul-1988',\n",
       " 'Jul-1989',\n",
       " 'Jul-1990',\n",
       " 'Jul-1991',\n",
       " 'Jul-1992',\n",
       " 'Jul-1993',\n",
       " 'Jul-1994',\n",
       " 'Jul-1995',\n",
       " 'Jul-1996',\n",
       " 'Jul-1997',\n",
       " 'Jul-1998',\n",
       " 'Jul-1999',\n",
       " 'Jul-2000',\n",
       " 'Jul-2001',\n",
       " 'Jul-2002',\n",
       " 'Jul-2003',\n",
       " 'Jul-2004',\n",
       " 'Jul-2005',\n",
       " 'Jul-2006',\n",
       " 'Jul-2007',\n",
       " 'Jul-2008',\n",
       " 'Jul-2009',\n",
       " 'Jul-2010',\n",
       " 'Jul-2011',\n",
       " 'Jul-2012',\n",
       " 'Jul-2013',\n",
       " 'Jun-1955',\n",
       " 'Jun-1957',\n",
       " 'Jun-1959',\n",
       " 'Jun-1960',\n",
       " 'Jun-1962',\n",
       " 'Jun-1963',\n",
       " 'Jun-1964',\n",
       " 'Jun-1965',\n",
       " 'Jun-1966',\n",
       " 'Jun-1967',\n",
       " 'Jun-1968',\n",
       " 'Jun-1969',\n",
       " 'Jun-1970',\n",
       " 'Jun-1971',\n",
       " 'Jun-1972',\n",
       " 'Jun-1973',\n",
       " 'Jun-1974',\n",
       " 'Jun-1975',\n",
       " 'Jun-1976',\n",
       " 'Jun-1977',\n",
       " 'Jun-1978',\n",
       " 'Jun-1979',\n",
       " 'Jun-1980',\n",
       " 'Jun-1981',\n",
       " 'Jun-1982',\n",
       " 'Jun-1983',\n",
       " 'Jun-1984',\n",
       " 'Jun-1985',\n",
       " 'Jun-1986',\n",
       " 'Jun-1987',\n",
       " 'Jun-1988',\n",
       " 'Jun-1989',\n",
       " 'Jun-1990',\n",
       " 'Jun-1991',\n",
       " 'Jun-1992',\n",
       " 'Jun-1993',\n",
       " 'Jun-1994',\n",
       " 'Jun-1995',\n",
       " 'Jun-1996',\n",
       " 'Jun-1997',\n",
       " 'Jun-1998',\n",
       " 'Jun-1999',\n",
       " 'Jun-2000',\n",
       " 'Jun-2001',\n",
       " 'Jun-2002',\n",
       " 'Jun-2003',\n",
       " 'Jun-2004',\n",
       " 'Jun-2005',\n",
       " 'Jun-2006',\n",
       " 'Jun-2007',\n",
       " 'Jun-2008',\n",
       " 'Jun-2009',\n",
       " 'Jun-2010',\n",
       " 'Jun-2011',\n",
       " 'Jun-2012',\n",
       " 'Jun-2013',\n",
       " 'Mar-1960',\n",
       " 'Mar-1962',\n",
       " 'Mar-1963',\n",
       " 'Mar-1964',\n",
       " 'Mar-1965',\n",
       " 'Mar-1966',\n",
       " 'Mar-1967',\n",
       " 'Mar-1968',\n",
       " 'Mar-1969',\n",
       " 'Mar-1970',\n",
       " 'Mar-1971',\n",
       " 'Mar-1972',\n",
       " 'Mar-1973',\n",
       " 'Mar-1974',\n",
       " 'Mar-1975',\n",
       " 'Mar-1976',\n",
       " 'Mar-1977',\n",
       " 'Mar-1978',\n",
       " 'Mar-1979',\n",
       " 'Mar-1980',\n",
       " 'Mar-1981',\n",
       " 'Mar-1982',\n",
       " 'Mar-1983',\n",
       " 'Mar-1984',\n",
       " 'Mar-1985',\n",
       " 'Mar-1986',\n",
       " 'Mar-1987',\n",
       " 'Mar-1988',\n",
       " 'Mar-1989',\n",
       " 'Mar-1990',\n",
       " 'Mar-1991',\n",
       " 'Mar-1992',\n",
       " 'Mar-1993',\n",
       " 'Mar-1994',\n",
       " 'Mar-1995',\n",
       " 'Mar-1996',\n",
       " 'Mar-1997',\n",
       " 'Mar-1998',\n",
       " 'Mar-1999',\n",
       " 'Mar-2000',\n",
       " 'Mar-2001',\n",
       " 'Mar-2002',\n",
       " 'Mar-2003',\n",
       " 'Mar-2004',\n",
       " 'Mar-2005',\n",
       " 'Mar-2006',\n",
       " 'Mar-2007',\n",
       " 'Mar-2008',\n",
       " 'Mar-2009',\n",
       " 'Mar-2010',\n",
       " 'Mar-2011',\n",
       " 'Mar-2012',\n",
       " 'Mar-2013',\n",
       " 'May-1955',\n",
       " 'May-1958',\n",
       " 'May-1959',\n",
       " 'May-1962',\n",
       " 'May-1963',\n",
       " 'May-1964',\n",
       " 'May-1965',\n",
       " 'May-1966',\n",
       " 'May-1967',\n",
       " 'May-1968',\n",
       " 'May-1969',\n",
       " 'May-1970',\n",
       " 'May-1971',\n",
       " 'May-1972',\n",
       " 'May-1973',\n",
       " 'May-1974',\n",
       " 'May-1975',\n",
       " 'May-1976',\n",
       " 'May-1977',\n",
       " 'May-1978',\n",
       " 'May-1979',\n",
       " 'May-1980',\n",
       " 'May-1981',\n",
       " 'May-1982',\n",
       " 'May-1983',\n",
       " 'May-1984',\n",
       " 'May-1985',\n",
       " 'May-1986',\n",
       " 'May-1987',\n",
       " 'May-1988',\n",
       " 'May-1989',\n",
       " 'May-1990',\n",
       " 'May-1991',\n",
       " 'May-1992',\n",
       " 'May-1993',\n",
       " 'May-1994',\n",
       " 'May-1995',\n",
       " 'May-1996',\n",
       " 'May-1997',\n",
       " 'May-1998',\n",
       " 'May-1999',\n",
       " 'May-2000',\n",
       " 'May-2001',\n",
       " 'May-2002',\n",
       " 'May-2003',\n",
       " 'May-2004',\n",
       " 'May-2005',\n",
       " 'May-2006',\n",
       " 'May-2007',\n",
       " 'May-2008',\n",
       " 'May-2009',\n",
       " 'May-2010',\n",
       " 'May-2011',\n",
       " 'May-2012',\n",
       " 'May-2013',\n",
       " 'Nov-1950',\n",
       " 'Nov-1953',\n",
       " 'Nov-1954',\n",
       " 'Nov-1955',\n",
       " 'Nov-1957',\n",
       " 'Nov-1958',\n",
       " 'Nov-1959',\n",
       " 'Nov-1960',\n",
       " 'Nov-1961',\n",
       " 'Nov-1963',\n",
       " 'Nov-1964',\n",
       " 'Nov-1965',\n",
       " 'Nov-1966',\n",
       " 'Nov-1967',\n",
       " 'Nov-1968',\n",
       " 'Nov-1969',\n",
       " 'Nov-1970',\n",
       " 'Nov-1971',\n",
       " 'Nov-1972',\n",
       " 'Nov-1973',\n",
       " 'Nov-1974',\n",
       " 'Nov-1975',\n",
       " 'Nov-1976',\n",
       " 'Nov-1977',\n",
       " 'Nov-1978',\n",
       " 'Nov-1979',\n",
       " 'Nov-1980',\n",
       " 'Nov-1981',\n",
       " 'Nov-1982',\n",
       " 'Nov-1983',\n",
       " 'Nov-1984',\n",
       " 'Nov-1985',\n",
       " 'Nov-1986',\n",
       " 'Nov-1987',\n",
       " 'Nov-1988',\n",
       " 'Nov-1989',\n",
       " 'Nov-1990',\n",
       " 'Nov-1991',\n",
       " 'Nov-1992',\n",
       " 'Nov-1993',\n",
       " 'Nov-1994',\n",
       " 'Nov-1995',\n",
       " 'Nov-1996',\n",
       " 'Nov-1997',\n",
       " 'Nov-1998',\n",
       " 'Nov-1999',\n",
       " 'Nov-2000',\n",
       " 'Nov-2001',\n",
       " 'Nov-2002',\n",
       " 'Nov-2003',\n",
       " 'Nov-2004',\n",
       " 'Nov-2005',\n",
       " 'Nov-2006',\n",
       " 'Nov-2007',\n",
       " 'Nov-2008',\n",
       " 'Nov-2009',\n",
       " 'Nov-2010',\n",
       " 'Nov-2011',\n",
       " 'Nov-2012',\n",
       " 'Oct-1950',\n",
       " 'Oct-1957',\n",
       " 'Oct-1958',\n",
       " 'Oct-1959',\n",
       " 'Oct-1960',\n",
       " 'Oct-1961',\n",
       " 'Oct-1962',\n",
       " 'Oct-1963',\n",
       " 'Oct-1964',\n",
       " 'Oct-1965',\n",
       " 'Oct-1966',\n",
       " 'Oct-1967',\n",
       " 'Oct-1968',\n",
       " 'Oct-1969',\n",
       " 'Oct-1970',\n",
       " 'Oct-1971',\n",
       " 'Oct-1972',\n",
       " 'Oct-1973',\n",
       " 'Oct-1974',\n",
       " 'Oct-1975',\n",
       " 'Oct-1976',\n",
       " 'Oct-1977',\n",
       " 'Oct-1978',\n",
       " 'Oct-1979',\n",
       " 'Oct-1980',\n",
       " 'Oct-1981',\n",
       " 'Oct-1982',\n",
       " 'Oct-1983',\n",
       " 'Oct-1984',\n",
       " 'Oct-1985',\n",
       " 'Oct-1986',\n",
       " 'Oct-1987',\n",
       " 'Oct-1988',\n",
       " 'Oct-1989',\n",
       " 'Oct-1990',\n",
       " 'Oct-1991',\n",
       " 'Oct-1992',\n",
       " 'Oct-1993',\n",
       " 'Oct-1994',\n",
       " 'Oct-1995',\n",
       " 'Oct-1996',\n",
       " 'Oct-1997',\n",
       " 'Oct-1998',\n",
       " 'Oct-1999',\n",
       " 'Oct-2000',\n",
       " 'Oct-2001',\n",
       " 'Oct-2002',\n",
       " 'Oct-2003',\n",
       " 'Oct-2004',\n",
       " 'Oct-2005',\n",
       " 'Oct-2006',\n",
       " 'Oct-2007',\n",
       " 'Oct-2008',\n",
       " 'Oct-2009',\n",
       " 'Oct-2010',\n",
       " 'Oct-2011',\n",
       " 'Oct-2012',\n",
       " 'Oct-2013',\n",
       " 'Sep-1956',\n",
       " 'Sep-1957',\n",
       " 'Sep-1959',\n",
       " 'Sep-1960',\n",
       " 'Sep-1961',\n",
       " 'Sep-1962',\n",
       " 'Sep-1963',\n",
       " 'Sep-1964',\n",
       " 'Sep-1965',\n",
       " 'Sep-1966',\n",
       " 'Sep-1967',\n",
       " 'Sep-1968',\n",
       " 'Sep-1969',\n",
       " 'Sep-1970',\n",
       " 'Sep-1971',\n",
       " 'Sep-1972',\n",
       " 'Sep-1973',\n",
       " 'Sep-1974',\n",
       " 'Sep-1975',\n",
       " 'Sep-1976',\n",
       " 'Sep-1977',\n",
       " 'Sep-1978',\n",
       " 'Sep-1979',\n",
       " 'Sep-1980',\n",
       " 'Sep-1981',\n",
       " 'Sep-1982',\n",
       " 'Sep-1983',\n",
       " 'Sep-1984',\n",
       " 'Sep-1985',\n",
       " 'Sep-1986',\n",
       " 'Sep-1987',\n",
       " 'Sep-1988',\n",
       " 'Sep-1989',\n",
       " 'Sep-1990',\n",
       " 'Sep-1991',\n",
       " 'Sep-1992',\n",
       " 'Sep-1993',\n",
       " 'Sep-1994',\n",
       " 'Sep-1995',\n",
       " 'Sep-1996',\n",
       " 'Sep-1997',\n",
       " 'Sep-1998',\n",
       " 'Sep-1999',\n",
       " 'Sep-2000',\n",
       " 'Sep-2001',\n",
       " 'Sep-2002',\n",
       " 'Sep-2003',\n",
       " 'Sep-2004',\n",
       " 'Sep-2005',\n",
       " 'Sep-2006',\n",
       " 'Sep-2007',\n",
       " 'Sep-2008',\n",
       " 'Sep-2009',\n",
       " 'Sep-2010',\n",
       " 'Sep-2011',\n",
       " 'Sep-2012',\n",
       " 'Sep-2013']"
      ]
     },
     "execution_count": 76,
     "metadata": {},
     "output_type": "execute_result"
    }
   ],
   "source": [
    "sorted(loan['earliest_cr_line'].unique())"
   ]
  },
  {
   "cell_type": "markdown",
   "id": "c7b9b6d0",
   "metadata": {},
   "source": [
    "Avendo visto il formato in cui si trovano i valori di questa feature è possibile estrarne delle informazioni utili. L'idea è quella di prelevare solo l'anno di apertura della carta di credito più recente, così da raggruppare moltissimi valori unici e mantenere un buon livello di informazione (ndr: se un conto è stato aperto ad aprile 1968 o a settembre 1968 l'affidabilità del borrower è più o meno la stessa, a meno di casi speciali)."
   ]
  },
  {
   "cell_type": "code",
   "execution_count": 77,
   "id": "8f8269c6",
   "metadata": {},
   "outputs": [],
   "source": [
    "loan['earliest_cl_year'] = loan['earliest_cr_line'].apply(lambda s: int(s.split('-')[1]))"
   ]
  },
  {
   "cell_type": "code",
   "execution_count": 78,
   "id": "31b39638",
   "metadata": {},
   "outputs": [
    {
     "data": {
      "text/plain": [
       "numpy.int64"
      ]
     },
     "execution_count": 78,
     "metadata": {},
     "output_type": "execute_result"
    }
   ],
   "source": [
    "type(loan['earliest_cl_year'][0]) # dalle stringhe ora ho feature numeriche"
   ]
  },
  {
   "cell_type": "code",
   "execution_count": 79,
   "id": "346ade7a",
   "metadata": {},
   "outputs": [],
   "source": [
    "loan.drop('earliest_cr_line',axis=1,inplace=True) # non serve più "
   ]
  },
  {
   "cell_type": "markdown",
   "id": "1c0ac146",
   "metadata": {},
   "source": [
    "### address"
   ]
  },
  {
   "cell_type": "code",
   "execution_count": 80,
   "id": "53b72c21",
   "metadata": {},
   "outputs": [
    {
     "data": {
      "text/plain": [
       "0              0174 Michelle Gateway\\nMendozaberg, OK 22690\n",
       "1           1076 Carney Fort Apt. 347\\nLoganmouth, SD 05113\n",
       "2           87025 Mark Dale Apt. 269\\nNew Sabrina, WV 05113\n",
       "3                     823 Reid Ford\\nDelacruzside, MA 00813\n",
       "4                      679 Luna Roads\\nGreggshire, VA 11650\n",
       "                                ...                        \n",
       "396025       12951 Williams Crossing\\nJohnnyville, DC 30723\n",
       "396026    0114 Fowler Field Suite 028\\nRachelborough, LA...\n",
       "396027     953 Matthew Points Suite 414\\nReedfort, NY 70466\n",
       "396028    7843 Blake Freeway Apt. 229\\nNew Michael, FL 2...\n",
       "396029          787 Michelle Causeway\\nBriannaton, AR 48052\n",
       "Name: address, Length: 396030, dtype: object"
      ]
     },
     "execution_count": 80,
     "metadata": {},
     "output_type": "execute_result"
    }
   ],
   "source": [
    "loan['address']"
   ]
  },
  {
   "cell_type": "code",
   "execution_count": 81,
   "id": "c624a184",
   "metadata": {},
   "outputs": [
    {
     "data": {
      "text/plain": [
       "393700"
      ]
     },
     "execution_count": 81,
     "metadata": {},
     "output_type": "execute_result"
    }
   ],
   "source": [
    "loan['address'].nunique() # su 396_030 righe"
   ]
  },
  {
   "cell_type": "markdown",
   "id": "9f379c6f",
   "metadata": {},
   "source": [
    "A prima vista potrebbero sembrare inutilizzabili, ma in realtà il codice a 5 cifre alla fine di ogni indirizzo è il cosiddetto zipcode che in USA identifica una piccola area geografica in cui l'indirizzo risiede, similmente al codice postale italiano. L'idea è quella di estrarre lo zipcode dall'indirizzo e utilizzarlo come nuova feature."
   ]
  },
  {
   "cell_type": "code",
   "execution_count": 82,
   "id": "a6870f09",
   "metadata": {},
   "outputs": [],
   "source": [
    "loan['zip_code'] = loan['address'].apply(lambda address: address[-5:])"
   ]
  },
  {
   "cell_type": "code",
   "execution_count": 83,
   "id": "2d4dc9b3",
   "metadata": {},
   "outputs": [
    {
     "data": {
      "text/plain": [
       "10"
      ]
     },
     "execution_count": 83,
     "metadata": {},
     "output_type": "execute_result"
    }
   ],
   "source": [
    "loan['zip_code'].nunique()"
   ]
  },
  {
   "cell_type": "markdown",
   "id": "d5ac6769",
   "metadata": {},
   "source": [
    "Si può fare agilmente un one-hot encoding."
   ]
  },
  {
   "cell_type": "code",
   "execution_count": 84,
   "id": "5fbb5fa1",
   "metadata": {},
   "outputs": [],
   "source": [
    "dummies_zip = pd.get_dummies(loan['zip_code'],drop_first=True)\n",
    "loan = pd.concat([loan,dummies_zip],axis=1)\n",
    "loan = loan.drop(['zip_code','address'],axis=1) "
   ]
  },
  {
   "cell_type": "code",
   "execution_count": 85,
   "id": "2f87431f",
   "metadata": {},
   "outputs": [
    {
     "name": "stdout",
     "output_type": "stream",
     "text": [
      "<class 'pandas.core.frame.DataFrame'>\n",
      "RangeIndex: 396030 entries, 0 to 396029\n",
      "Data columns (total 78 columns):\n",
      " #   Column                               Non-Null Count   Dtype  \n",
      "---  ------                               --------------   -----  \n",
      " 0   loan_amnt                            396030 non-null  float64\n",
      " 1   int_rate                             396030 non-null  float64\n",
      " 2   installment                          396030 non-null  float64\n",
      " 3   annual_inc                           396030 non-null  float64\n",
      " 4   loan_status                          396030 non-null  int64  \n",
      " 5   dti                                  396030 non-null  float64\n",
      " 6   open_acc                             396030 non-null  float64\n",
      " 7   pub_rec                              396030 non-null  float64\n",
      " 8   revol_bal                            396030 non-null  float64\n",
      " 9   total_acc                            396030 non-null  float64\n",
      " 10  mort_acc                             396030 non-null  float64\n",
      " 11  pub_rec_bankruptcies                 396030 non-null  float64\n",
      " 12   60 months                           396030 non-null  uint8  \n",
      " 13  A2                                   396030 non-null  uint8  \n",
      " 14  A3                                   396030 non-null  uint8  \n",
      " 15  A4                                   396030 non-null  uint8  \n",
      " 16  A5                                   396030 non-null  uint8  \n",
      " 17  B1                                   396030 non-null  uint8  \n",
      " 18  B2                                   396030 non-null  uint8  \n",
      " 19  B3                                   396030 non-null  uint8  \n",
      " 20  B4                                   396030 non-null  uint8  \n",
      " 21  B5                                   396030 non-null  uint8  \n",
      " 22  C1                                   396030 non-null  uint8  \n",
      " 23  C2                                   396030 non-null  uint8  \n",
      " 24  C3                                   396030 non-null  uint8  \n",
      " 25  C4                                   396030 non-null  uint8  \n",
      " 26  C5                                   396030 non-null  uint8  \n",
      " 27  D1                                   396030 non-null  uint8  \n",
      " 28  D2                                   396030 non-null  uint8  \n",
      " 29  D3                                   396030 non-null  uint8  \n",
      " 30  D4                                   396030 non-null  uint8  \n",
      " 31  D5                                   396030 non-null  uint8  \n",
      " 32  E1                                   396030 non-null  uint8  \n",
      " 33  E2                                   396030 non-null  uint8  \n",
      " 34  E3                                   396030 non-null  uint8  \n",
      " 35  E4                                   396030 non-null  uint8  \n",
      " 36  E5                                   396030 non-null  uint8  \n",
      " 37  F1                                   396030 non-null  uint8  \n",
      " 38  F2                                   396030 non-null  uint8  \n",
      " 39  F3                                   396030 non-null  uint8  \n",
      " 40  F4                                   396030 non-null  uint8  \n",
      " 41  F5                                   396030 non-null  uint8  \n",
      " 42  G1                                   396030 non-null  uint8  \n",
      " 43  G2                                   396030 non-null  uint8  \n",
      " 44  G3                                   396030 non-null  uint8  \n",
      " 45  G4                                   396030 non-null  uint8  \n",
      " 46  G5                                   396030 non-null  uint8  \n",
      " 47  OTHER                                396030 non-null  uint8  \n",
      " 48  OWN                                  396030 non-null  uint8  \n",
      " 49  RENT                                 396030 non-null  uint8  \n",
      " 50  verification_status_Source Verified  396030 non-null  uint8  \n",
      " 51  verification_status_Verified         396030 non-null  uint8  \n",
      " 52  application_type_INDIVIDUAL          396030 non-null  uint8  \n",
      " 53  application_type_JOINT               396030 non-null  uint8  \n",
      " 54  initial_list_status_w                396030 non-null  uint8  \n",
      " 55  purpose_credit_card                  396030 non-null  uint8  \n",
      " 56  purpose_debt_consolidation           396030 non-null  uint8  \n",
      " 57  purpose_educational                  396030 non-null  uint8  \n",
      " 58  purpose_home_improvement             396030 non-null  uint8  \n",
      " 59  purpose_house                        396030 non-null  uint8  \n",
      " 60  purpose_major_purchase               396030 non-null  uint8  \n",
      " 61  purpose_medical                      396030 non-null  uint8  \n",
      " 62  purpose_moving                       396030 non-null  uint8  \n",
      " 63  purpose_other                        396030 non-null  uint8  \n",
      " 64  purpose_renewable_energy             396030 non-null  uint8  \n",
      " 65  purpose_small_business               396030 non-null  uint8  \n",
      " 66  purpose_vacation                     396030 non-null  uint8  \n",
      " 67  purpose_wedding                      396030 non-null  uint8  \n",
      " 68  earliest_cl_year                     396030 non-null  int64  \n",
      " 69  05113                                396030 non-null  uint8  \n",
      " 70  11650                                396030 non-null  uint8  \n",
      " 71  22690                                396030 non-null  uint8  \n",
      " 72  29597                                396030 non-null  uint8  \n",
      " 73  30723                                396030 non-null  uint8  \n",
      " 74  48052                                396030 non-null  uint8  \n",
      " 75  70466                                396030 non-null  uint8  \n",
      " 76  86630                                396030 non-null  uint8  \n",
      " 77  93700                                396030 non-null  uint8  \n",
      "dtypes: float64(11), int64(2), uint8(65)\n",
      "memory usage: 63.8 MB\n"
     ]
    }
   ],
   "source": [
    "loan.info() "
   ]
  },
  {
   "cell_type": "markdown",
   "id": "943c5da6",
   "metadata": {},
   "source": [
    "Ora le feature del dataset non presentano Missing Data e sono nel formato giusto per essere date in pasto al modello."
   ]
  },
  {
   "cell_type": "markdown",
   "id": "b756fc73",
   "metadata": {},
   "source": [
    "## Training & Test Data"
   ]
  },
  {
   "cell_type": "code",
   "execution_count": 86,
   "id": "5d96f971",
   "metadata": {},
   "outputs": [],
   "source": [
    "from sklearn.model_selection import train_test_split"
   ]
  },
  {
   "cell_type": "markdown",
   "id": "525985b3",
   "metadata": {},
   "source": [
    "**Dato che il portatile su cui sto lavorando non ha una buona RAM e non permette l'utilizzo della GPU per il calcolo, prendo un campione del 10% dal dataset originale.**"
   ]
  },
  {
   "cell_type": "code",
   "execution_count": 87,
   "id": "5a183b0d",
   "metadata": {},
   "outputs": [
    {
     "name": "stdout",
     "output_type": "stream",
     "text": [
      "39603\n"
     ]
    }
   ],
   "source": [
    "loan = loan.sample(frac=0.1,random_state=101)\n",
    "print(len(loan))"
   ]
  },
  {
   "cell_type": "code",
   "execution_count": 88,
   "id": "719393fe",
   "metadata": {},
   "outputs": [],
   "source": [
    "X = loan.drop('loan_status',axis=1).values\n",
    "y = loan['loan_status'].values"
   ]
  },
  {
   "cell_type": "code",
   "execution_count": 90,
   "id": "4122d600",
   "metadata": {},
   "outputs": [],
   "source": [
    "X_train, X_test, y_train, y_test = train_test_split(X, y, test_size=0.3, random_state=101)"
   ]
  },
  {
   "cell_type": "markdown",
   "id": "121231f3",
   "metadata": {},
   "source": [
    "Si sceglie di normalizzare le feature con uno scaler semplice basato sui valori minimi, massimi e sulla deviazione standard del dataset. La normalizzazione del dataset è importante quando si lavora con pesi e bias, che è il caso del Deep Learning, infatti grandi valori in inpunt nella rete neurale possono creare problemi con i pesi."
   ]
  },
  {
   "cell_type": "code",
   "execution_count": 91,
   "id": "c6d82cee",
   "metadata": {},
   "outputs": [],
   "source": [
    "from sklearn.preprocessing import MinMaxScaler"
   ]
  },
  {
   "cell_type": "code",
   "execution_count": 92,
   "id": "f001da4d",
   "metadata": {},
   "outputs": [],
   "source": [
    "scaler = MinMaxScaler()"
   ]
  },
  {
   "cell_type": "code",
   "execution_count": 93,
   "id": "f3133d5e",
   "metadata": {},
   "outputs": [],
   "source": [
    "X_train = scaler.fit_transform(X_train)\n",
    "X_test = scaler.transform(X_test) # non posso allenarlo sui test data, sennò avrei data leakage"
   ]
  },
  {
   "cell_type": "markdown",
   "id": "d6a0eaa9",
   "metadata": {},
   "source": [
    "## Model Training"
   ]
  },
  {
   "cell_type": "markdown",
   "id": "f5269942",
   "metadata": {},
   "source": [
    "Come modello si usa una semplice rete neurale in cui ogni neurone di un layer è collegato a tutti quelli del layer successivo."
   ]
  },
  {
   "cell_type": "code",
   "execution_count": 94,
   "id": "85f84ca9",
   "metadata": {},
   "outputs": [
    {
     "name": "stderr",
     "output_type": "stream",
     "text": [
      "2022-11-09 00:13:31.392992: I tensorflow/core/platform/cpu_feature_guard.cc:193] This TensorFlow binary is optimized with oneAPI Deep Neural Network Library (oneDNN) to use the following CPU instructions in performance-critical operations:  AVX2 FMA\n",
      "To enable them in other operations, rebuild TensorFlow with the appropriate compiler flags.\n",
      "2022-11-09 00:13:38.226086: W tensorflow/stream_executor/platform/default/dso_loader.cc:64] Could not load dynamic library 'libcudart.so.11.0'; dlerror: libcudart.so.11.0: cannot open shared object file: No such file or directory\n",
      "2022-11-09 00:13:38.226110: I tensorflow/stream_executor/cuda/cudart_stub.cc:29] Ignore above cudart dlerror if you do not have a GPU set up on your machine.\n",
      "2022-11-09 00:13:38.808022: E tensorflow/stream_executor/cuda/cuda_blas.cc:2981] Unable to register cuBLAS factory: Attempting to register factory for plugin cuBLAS when one has already been registered\n",
      "2022-11-09 00:14:04.865917: W tensorflow/stream_executor/platform/default/dso_loader.cc:64] Could not load dynamic library 'libnvinfer.so.7'; dlerror: libnvinfer.so.7: cannot open shared object file: No such file or directory\n",
      "2022-11-09 00:14:04.866148: W tensorflow/stream_executor/platform/default/dso_loader.cc:64] Could not load dynamic library 'libnvinfer_plugin.so.7'; dlerror: libnvinfer_plugin.so.7: cannot open shared object file: No such file or directory\n",
      "2022-11-09 00:14:04.866164: W tensorflow/compiler/tf2tensorrt/utils/py_utils.cc:38] TF-TRT Warning: Cannot dlopen some TensorRT libraries. If you would like to use Nvidia GPU with TensorRT, please make sure the missing libraries mentioned above are installed properly.\n"
     ]
    }
   ],
   "source": [
    "from tensorflow.keras.models import Sequential"
   ]
  },
  {
   "cell_type": "code",
   "execution_count": 95,
   "id": "dba90922",
   "metadata": {},
   "outputs": [],
   "source": [
    "from tensorflow.keras.layers import Dense, Dropout"
   ]
  },
  {
   "cell_type": "code",
   "execution_count": 96,
   "id": "a358461c",
   "metadata": {},
   "outputs": [],
   "source": [
    "from tensorflow.keras.callbacks import EarlyStopping"
   ]
  },
  {
   "cell_type": "markdown",
   "id": "45d8be52",
   "metadata": {},
   "source": [
    "Per prevenire l'overfitting si importano le Early Stopping callbacks, che fermano il training se vengono soddisfatte delle condizioni sulla funzione loss della rete neurale, e i layer Dropout che disattiveranno una certa percentuale di neuroni nel layer precedente, così che i loro pesi e bias non vengano influenzati dall'epoch corrente."
   ]
  },
  {
   "cell_type": "code",
   "execution_count": 97,
   "id": "6541b57c",
   "metadata": {},
   "outputs": [
    {
     "data": {
      "text/plain": [
       "(27722, 77)"
      ]
     },
     "execution_count": 97,
     "metadata": {},
     "output_type": "execute_result"
    }
   ],
   "source": [
    "X_train.shape"
   ]
  },
  {
   "cell_type": "code",
   "execution_count": 138,
   "id": "b7f51851",
   "metadata": {},
   "outputs": [],
   "source": [
    "# voglio minimizzare la loss function e lascio 25 epoch di tolleranza\n",
    "stop = EarlyStopping(monitor='val_loss',mode='min',verbose=1,patience=20)"
   ]
  },
  {
   "cell_type": "markdown",
   "id": "6b1c5291",
   "metadata": {},
   "source": [
    "Si utilizza la Rectified Linear Unit function come funzione d'attivazione dell'input layer e degli hidden layer, mentre per l'output layer si utilizza una sigmoide dato che il problema è di classificazione binaria."
   ]
  },
  {
   "cell_type": "code",
   "execution_count": 139,
   "id": "f88af757",
   "metadata": {},
   "outputs": [],
   "source": [
    "model = Sequential()\n",
    "\n",
    "# input layer, uso numero di neuroni pari alla dimensione della X (ovvero le feature)\n",
    "model.add(Dense(78,activation='relu'))\n",
    "model.add(Dropout(0.5)) # 50% di disattivazione\n",
    "\n",
    "# hidden layers, sono più di due quindi siamo nell'ambito del deep learning\n",
    "model.add(Dense(59,activation='relu'))\n",
    "model.add(Dropout(0.4))\n",
    "\n",
    "model.add(Dense(39,activation='relu'))\n",
    "model.add(Dropout(0.35))\n",
    "\n",
    "model.add(Dense(30,activation='relu'))\n",
    "model.add(Dropout(0.3))\n",
    "\n",
    "model.add(Dense(20,activation='relu'))\n",
    "model.add(Dropout(0.25))\n",
    "\n",
    "model.add(Dense(10,activation='relu'))\n",
    "model.add(Dropout(0.2))\n",
    "\n",
    "# output layer, un neurone perché il risultato deve essere 0 o 1\n",
    "model.add(Dense(1,activation='sigmoid'))\n",
    "\n",
    "# si utilizza l'algoritmo adam che è uno dei migliori e la binary cross entropy come loss function\n",
    "model.compile(optimizer='adam',loss='binary_crossentropy')"
   ]
  },
  {
   "cell_type": "code",
   "execution_count": 140,
   "id": "feaf22b2",
   "metadata": {
    "scrolled": true
   },
   "outputs": [
    {
     "name": "stdout",
     "output_type": "stream",
     "text": [
      "Epoch 1/100\n",
      "109/109 [==============================] - 48s 438ms/step - loss: 0.5291 - val_loss: 0.4313\n",
      "Epoch 2/100\n",
      "109/109 [==============================] - 1s 8ms/step - loss: 0.4351 - val_loss: 0.3655\n",
      "Epoch 3/100\n",
      "109/109 [==============================] - 1s 8ms/step - loss: 0.3905 - val_loss: 0.3394\n",
      "Epoch 4/100\n",
      "109/109 [==============================] - 1s 10ms/step - loss: 0.3505 - val_loss: 0.2935\n",
      "Epoch 5/100\n",
      "109/109 [==============================] - 1s 8ms/step - loss: 0.3125 - val_loss: 0.2766\n",
      "Epoch 6/100\n",
      "109/109 [==============================] - 1s 8ms/step - loss: 0.2940 - val_loss: 0.2780\n",
      "Epoch 7/100\n",
      "109/109 [==============================] - 1s 9ms/step - loss: 0.2886 - val_loss: 0.2715\n",
      "Epoch 8/100\n",
      "109/109 [==============================] - 1s 8ms/step - loss: 0.2803 - val_loss: 0.2695\n",
      "Epoch 9/100\n",
      "109/109 [==============================] - 1s 8ms/step - loss: 0.2796 - val_loss: 0.2718\n",
      "Epoch 10/100\n",
      "109/109 [==============================] - 1s 6ms/step - loss: 0.2766 - val_loss: 0.2709\n",
      "Epoch 11/100\n",
      "109/109 [==============================] - 1s 8ms/step - loss: 0.2736 - val_loss: 0.2716\n",
      "Epoch 12/100\n",
      "109/109 [==============================] - 1s 7ms/step - loss: 0.2703 - val_loss: 0.2685\n",
      "Epoch 13/100\n",
      "109/109 [==============================] - 1s 7ms/step - loss: 0.2709 - val_loss: 0.2714\n",
      "Epoch 14/100\n",
      "109/109 [==============================] - 1s 8ms/step - loss: 0.2667 - val_loss: 0.2717\n",
      "Epoch 15/100\n",
      "109/109 [==============================] - 1s 6ms/step - loss: 0.2682 - val_loss: 0.2687\n",
      "Epoch 16/100\n",
      "109/109 [==============================] - 1s 6ms/step - loss: 0.2666 - val_loss: 0.2673\n",
      "Epoch 17/100\n",
      "109/109 [==============================] - 1s 8ms/step - loss: 0.2655 - val_loss: 0.2667\n",
      "Epoch 18/100\n",
      "109/109 [==============================] - 1s 7ms/step - loss: 0.2646 - val_loss: 0.2686\n",
      "Epoch 19/100\n",
      "109/109 [==============================] - 1s 7ms/step - loss: 0.2659 - val_loss: 0.2675\n",
      "Epoch 20/100\n",
      "109/109 [==============================] - 1s 7ms/step - loss: 0.2637 - val_loss: 0.2682\n",
      "Epoch 21/100\n",
      "109/109 [==============================] - 1s 9ms/step - loss: 0.2636 - val_loss: 0.2658\n",
      "Epoch 22/100\n",
      "109/109 [==============================] - 1s 6ms/step - loss: 0.2631 - val_loss: 0.2696\n",
      "Epoch 23/100\n",
      "109/109 [==============================] - 1s 8ms/step - loss: 0.2615 - val_loss: 0.2668\n",
      "Epoch 24/100\n",
      "109/109 [==============================] - 1s 7ms/step - loss: 0.2604 - val_loss: 0.2684\n",
      "Epoch 25/100\n",
      "109/109 [==============================] - 1s 6ms/step - loss: 0.2605 - val_loss: 0.2683\n",
      "Epoch 26/100\n",
      "109/109 [==============================] - 1s 7ms/step - loss: 0.2596 - val_loss: 0.2683\n",
      "Epoch 27/100\n",
      "109/109 [==============================] - 1s 8ms/step - loss: 0.2600 - val_loss: 0.2671\n",
      "Epoch 28/100\n",
      "109/109 [==============================] - 1s 8ms/step - loss: 0.2592 - val_loss: 0.2668\n",
      "Epoch 29/100\n",
      "109/109 [==============================] - 1s 6ms/step - loss: 0.2599 - val_loss: 0.2672\n",
      "Epoch 30/100\n",
      "109/109 [==============================] - 1s 7ms/step - loss: 0.2584 - val_loss: 0.2667\n",
      "Epoch 31/100\n",
      "109/109 [==============================] - 1s 6ms/step - loss: 0.2575 - val_loss: 0.2669\n",
      "Epoch 32/100\n",
      "109/109 [==============================] - 1s 7ms/step - loss: 0.2578 - val_loss: 0.2677\n",
      "Epoch 33/100\n",
      "109/109 [==============================] - 1s 6ms/step - loss: 0.2564 - val_loss: 0.2682\n",
      "Epoch 34/100\n",
      "109/109 [==============================] - 1s 9ms/step - loss: 0.2553 - val_loss: 0.2689\n",
      "Epoch 35/100\n",
      "109/109 [==============================] - 1s 8ms/step - loss: 0.2576 - val_loss: 0.2685\n",
      "Epoch 36/100\n",
      "109/109 [==============================] - 1s 9ms/step - loss: 0.2564 - val_loss: 0.2693\n",
      "Epoch 37/100\n",
      "109/109 [==============================] - 1s 8ms/step - loss: 0.2564 - val_loss: 0.2693\n",
      "Epoch 38/100\n",
      "109/109 [==============================] - 1s 8ms/step - loss: 0.2537 - val_loss: 0.2671\n",
      "Epoch 39/100\n",
      "109/109 [==============================] - 1s 8ms/step - loss: 0.2561 - val_loss: 0.2689\n",
      "Epoch 40/100\n",
      "109/109 [==============================] - 1s 8ms/step - loss: 0.2550 - val_loss: 0.2698\n",
      "Epoch 41/100\n",
      "109/109 [==============================] - 1s 9ms/step - loss: 0.2536 - val_loss: 0.2674\n",
      "Epoch 41: early stopping\n"
     ]
    },
    {
     "data": {
      "text/plain": [
       "<keras.callbacks.History at 0x7fe6d405dbb0>"
      ]
     },
     "execution_count": 140,
     "metadata": {},
     "output_type": "execute_result"
    }
   ],
   "source": [
    "model.fit(x = X_train, y = y_train, epochs = 100, batch_size = 256,\n",
    "          validation_data = (X_test,y_test), callbacks = [stop])"
   ]
  },
  {
   "cell_type": "markdown",
   "id": "e29d5169",
   "metadata": {},
   "source": [
    "Si visualizzano le loss function per il training dataset e per il validation dataset (che in questo caso coincide con il test dataset)."
   ]
  },
  {
   "cell_type": "code",
   "execution_count": 141,
   "id": "867285c5",
   "metadata": {},
   "outputs": [
    {
     "data": {
      "text/plain": [
       "<AxesSubplot:>"
      ]
     },
     "execution_count": 141,
     "metadata": {},
     "output_type": "execute_result"
    },
    {
     "data": {
      "image/png": "[encoded data removed]",
      "text/plain": [
       "<Figure size 432x288 with 1 Axes>"
      ]
     },
     "metadata": {
      "needs_background": "light"
     },
     "output_type": "display_data"
    }
   ],
   "source": [
    "losses = pd.DataFrame(model.history.history)\n",
    "losses.plot()"
   ]
  },
  {
   "cell_type": "markdown",
   "id": "671d3619",
   "metadata": {},
   "source": [
    "**Il callback early stopping ha terminato in anticipo il training del modello. Non si è raggiunto l'overfitting dato che le curve non sono risalite.**"
   ]
  },
  {
   "cell_type": "markdown",
   "id": "316399c2",
   "metadata": {},
   "source": [
    "Si fanno fare le previsioni al modello tra 0 e 1."
   ]
  },
  {
   "cell_type": "code",
   "execution_count": 142,
   "id": "d7228fd8",
   "metadata": {},
   "outputs": [
    {
     "name": "stdout",
     "output_type": "stream",
     "text": [
      "372/372 [==============================] - 1s 2ms/step\n"
     ]
    }
   ],
   "source": [
    "pred = (model.predict(X_test)>0.5)*1"
   ]
  },
  {
   "cell_type": "markdown",
   "id": "23e89540",
   "metadata": {},
   "source": [
    "## Performance del Modello"
   ]
  },
  {
   "cell_type": "code",
   "execution_count": 143,
   "id": "6edbf41a",
   "metadata": {},
   "outputs": [],
   "source": [
    "from sklearn.metrics import classification_report, confusion_matrix"
   ]
  },
  {
   "cell_type": "code",
   "execution_count": 146,
   "id": "7cb812f0",
   "metadata": {},
   "outputs": [
    {
     "name": "stdout",
     "output_type": "stream",
     "text": [
      "[[1023 1336]\n",
      " [   0 9522]]\n",
      "\n",
      "\n",
      "              precision    recall  f1-score   support\n",
      "\n",
      "           0       1.00      0.43      0.60      2359\n",
      "           1       0.88      1.00      0.93      9522\n",
      "\n",
      "    accuracy                           0.89     11881\n",
      "   macro avg       0.94      0.72      0.77     11881\n",
      "weighted avg       0.90      0.89      0.87     11881\n",
      "\n"
     ]
    }
   ],
   "source": [
    "print(confusion_matrix(y_test,pred))\n",
    "print('\\n')\n",
    "print(classification_report(y_test,pred)) "
   ]
  },
  {
   "cell_type": "code",
   "execution_count": 147,
   "id": "4b5dbe06",
   "metadata": {},
   "outputs": [
    {
     "data": {
      "text/plain": [
       "Text(0.5, 1.0, 'Confusion Matrix in percentuali')"
      ]
     },
     "execution_count": 147,
     "metadata": {},
     "output_type": "execute_result"
    },
    {
     "data": {
      "image/png": "[encoded data removed]",
      "text/plain": [
       "<Figure size 432x288 with 2 Axes>"
      ]
     },
     "metadata": {
      "needs_background": "light"
     },
     "output_type": "display_data"
    }
   ],
   "source": [
    "conf_mat = confusion_matrix(y_test,pred)\n",
    "conf_mat = 100*(conf_mat.astype('float')/conf_mat.sum(axis=1)[:,np.newaxis])\n",
    "\n",
    "sns.heatmap(conf_mat,annot=True,cmap='Reds',fmt='.1f',annot_kws={'size':20})\n",
    "plt.xlabel('Classe Prevista')\n",
    "plt.ylabel('Classe Reale')\n",
    "plt.title('Confusion Matrix in percentuali')"
   ]
  },
  {
   "cell_type": "markdown",
   "id": "5b54ca66",
   "metadata": {},
   "source": [
    "**Il modello ha performato bene, ma per la categoria 0, ovvero quella in cui il debito non verrà ripagato, non molto. La causa potrebbe essere attribuita allo sbilanciamento del dataset, si potrebbe migliorare andando a modificare vari parametri nel modello. Si ricorda però che la quantità da ottimizzare dipende sempre dal contesto.**\n",
    "\n",
    "Si verifica che il modello abbia performato almeno meglio del \"weighted guessing\" e si proverà a vedere che riesca a prevedere se un nuovo borrower estinguerà il debito o meno. "
   ]
  },
  {
   "cell_type": "code",
   "execution_count": 151,
   "id": "c1a241f0",
   "metadata": {},
   "outputs": [],
   "source": [
    "loan_sample = pd.DataFrame(data=y,columns=['loan_status'])"
   ]
  },
  {
   "cell_type": "code",
   "execution_count": 153,
   "id": "2c41e053",
   "metadata": {},
   "outputs": [
    {
     "data": {
      "text/plain": [
       "39603"
      ]
     },
     "execution_count": 153,
     "metadata": {},
     "output_type": "execute_result"
    }
   ],
   "source": [
    "len(loan_sample)"
   ]
  },
  {
   "cell_type": "code",
   "execution_count": 152,
   "id": "8dcb9c53",
   "metadata": {},
   "outputs": [
    {
     "data": {
      "text/plain": [
       "<AxesSubplot:xlabel='loan_status', ylabel='count'>"
      ]
     },
     "execution_count": 152,
     "metadata": {},
     "output_type": "execute_result"
    },
    {
     "data": {
      "image/png": "[encoded data removed]",
      "text/plain": [
       "<Figure size 432x288 with 1 Axes>"
      ]
     },
     "metadata": {
      "needs_background": "light"
     },
     "output_type": "display_data"
    }
   ],
   "source": [
    "sns.countplot(data=loan_sample,x='loan_status')"
   ]
  },
  {
   "cell_type": "code",
   "execution_count": 149,
   "id": "e10e8aae",
   "metadata": {},
   "outputs": [
    {
     "name": "stdout",
     "output_type": "stream",
     "text": [
      "Percentuale di prestiti estinti nel dataset: 80.3\n",
      "Percentuale di prestiti non estinti nel dataset: 19.7\n"
     ]
    }
   ],
   "source": [
    "print('Percentuale di prestiti estinti nel dataset:',round((loan['loan_status']==1).sum()/len(loan)*100,ndigits=1))\n",
    "print('Percentuale di prestiti non estinti nel dataset:',round((loan['loan_status']==0).sum()/len(loan)*100,ndigits=1))"
   ]
  },
  {
   "cell_type": "markdown",
   "id": "f4a6c25e",
   "metadata": {},
   "source": [
    "**Effettivamente il modello performa meglio di una weighted guess in entrambe le categorie, ma per la categoria 0 si fa peggio di un random guess.**"
   ]
  },
  {
   "cell_type": "markdown",
   "id": "a6b82d21",
   "metadata": {},
   "source": [
    "Si \"genera\" un nuovo borrower."
   ]
  },
  {
   "cell_type": "code",
   "execution_count": 154,
   "id": "d65c88a9",
   "metadata": {},
   "outputs": [
    {
     "data": {
      "text/plain": [
       "loan_amnt       2000.00\n",
       "int_rate           7.90\n",
       "installment       62.59\n",
       "annual_inc     20400.00\n",
       "dti               25.88\n",
       "                 ...   \n",
       "30723              0.00\n",
       "48052              0.00\n",
       "70466              0.00\n",
       "86630              1.00\n",
       "93700              0.00\n",
       "Name: 87921, Length: 77, dtype: float64"
      ]
     },
     "execution_count": 154,
     "metadata": {},
     "output_type": "execute_result"
    }
   ],
   "source": [
    "import random\n",
    "random.seed(101)\n",
    "random_ind = random.randint(0,len(loan))\n",
    "\n",
    "new_customer = loan.drop('loan_status',axis=1).iloc[random_ind]\n",
    "new_customer"
   ]
  },
  {
   "cell_type": "code",
   "execution_count": 155,
   "id": "7c6eb494",
   "metadata": {},
   "outputs": [
    {
     "name": "stdout",
     "output_type": "stream",
     "text": [
      "1/1 [==============================] - 4s 4s/step\n"
     ]
    },
    {
     "data": {
      "text/plain": [
       "array([[0]])"
      ]
     },
     "execution_count": 155,
     "metadata": {},
     "output_type": "execute_result"
    }
   ],
   "source": [
    "(model.predict(scaler.transform(new_customer.values.reshape(1,77)))>0.5)*1"
   ]
  },
  {
   "cell_type": "code",
   "execution_count": 156,
   "id": "b47e2afa",
   "metadata": {},
   "outputs": [
    {
     "data": {
      "text/plain": [
       "0.0"
      ]
     },
     "execution_count": 156,
     "metadata": {},
     "output_type": "execute_result"
    }
   ],
   "source": [
    "loan.iloc[random_ind]['loan_status'] "
   ]
  },
  {
   "cell_type": "markdown",
   "id": "bde7e8ca",
   "metadata": {},
   "source": [
    "**Il modello è riuscito, con un po' di fortuna, a predire correttamente che questo nuovo borrower non estinguerà il debito.**"
   ]
  },
  {
   "cell_type": "markdown",
   "id": "6fd19527",
   "metadata": {},
   "source": [
    "E così si conclude il progetto portfolio sul Deep Learning, in cui si sono trattati Missing Data, si è fatto un po' di feature engineering e si è costruita una rete neurale densa con early stopping callback e dropout layers per evitare l'overfitting. "
   ]
  }
 ],
 "metadata": {
  "kernelspec": {
   "display_name": "Python 3 (ipykernel)",
   "language": "python",
   "name": "python3"
  },
  "language_info": {
   "codemirror_mode": {
    "name": "ipython",
    "version": 3
   },
   "file_extension": ".py",
   "mimetype": "text/x-python",
   "name": "python",
   "nbconvert_exporter": "python",
   "pygments_lexer": "ipython3",
   "version": "3.9.12"
  }
 },
 "nbformat": 4,
 "nbformat_minor": 5
}
