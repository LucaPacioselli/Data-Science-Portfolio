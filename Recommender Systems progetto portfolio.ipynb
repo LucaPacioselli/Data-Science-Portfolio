{
 "cells": [
  {
   "cell_type": "markdown",
   "id": "c8972b53",
   "metadata": {},
   "source": [
    "# Recommender Systems: Progetto Portfolio"
   ]
  },
  {
   "cell_type": "markdown",
   "id": "0f8a3f1b",
   "metadata": {},
   "source": [
    "In questo progetto portfolio si implementerà un sistema di raccomandazioni basato sul Collaborative-Filtering (CF) a partire dal dataset MovieLens, comune quando si testano e implementano recommender engines. Si proverà un CF Memory-Based calcolando il coseno di similitudine (**cosine similarity**) e un CF Model-Based con la Decomposizione ai valori singolari (**Singular Value Decomposition** o **SVD**)."
   ]
  },
  {
   "cell_type": "markdown",
   "id": "735fe653",
   "metadata": {},
   "source": [
    "## Importare librerie"
   ]
  },
  {
   "cell_type": "code",
   "execution_count": 1,
   "id": "672f5f5c",
   "metadata": {},
   "outputs": [],
   "source": [
    "import numpy as np\n",
    "import pandas as pd"
   ]
  },
  {
   "cell_type": "code",
   "execution_count": 2,
   "id": "d290d2a4",
   "metadata": {},
   "outputs": [],
   "source": [
    "import matplotlib.pyplot as plt\n",
    "import seaborn as sns\n",
    "sns.set_style('whitegrid')\n",
    "%matplotlib inline"
   ]
  },
  {
   "cell_type": "markdown",
   "id": "00804d87",
   "metadata": {},
   "source": [
    "## Ottenere i dati"
   ]
  },
  {
   "cell_type": "markdown",
   "id": "58f6c887",
   "metadata": {},
   "source": [
    "Una descrizione sommaria del dataset si ha a questo [link](http://files.grouplens.org/datasets/movielens/ml-100k-README.txt)."
   ]
  },
  {
   "cell_type": "code",
   "execution_count": 3,
   "id": "7d92b921",
   "metadata": {},
   "outputs": [],
   "source": [
    "column_names = ['user_id','item_id','rating','timestamp']\n",
    "movies_df = pd.read_csv('u.data',sep='\\t',names=column_names) # il dataset è separato da tabulazioni"
   ]
  },
  {
   "cell_type": "code",
   "execution_count": 4,
   "id": "d2ed618a",
   "metadata": {},
   "outputs": [
    {
     "name": "stdout",
     "output_type": "stream",
     "text": [
      "<class 'pandas.core.frame.DataFrame'>\n",
      "RangeIndex: 100003 entries, 0 to 100002\n",
      "Data columns (total 4 columns):\n",
      " #   Column     Non-Null Count   Dtype\n",
      "---  ------     --------------   -----\n",
      " 0   user_id    100003 non-null  int64\n",
      " 1   item_id    100003 non-null  int64\n",
      " 2   rating     100003 non-null  int64\n",
      " 3   timestamp  100003 non-null  int64\n",
      "dtypes: int64(4)\n",
      "memory usage: 3.1 MB\n"
     ]
    }
   ],
   "source": [
    "movies_df.info()"
   ]
  },
  {
   "cell_type": "code",
   "execution_count": 5,
   "id": "1b6eac67",
   "metadata": {},
   "outputs": [
    {
     "data": {
      "text/html": [
       "<div>\n",
       "<style scoped>\n",
       "    .dataframe tbody tr th:only-of-type {\n",
       "        vertical-align: middle;\n",
       "    }\n",
       "\n",
       "    .dataframe tbody tr th {\n",
       "        vertical-align: top;\n",
       "    }\n",
       "\n",
       "    .dataframe thead th {\n",
       "        text-align: right;\n",
       "    }\n",
       "</style>\n",
       "<table border=\"1\" class=\"dataframe\">\n",
       "  <thead>\n",
       "    <tr style=\"text-align: right;\">\n",
       "      <th></th>\n",
       "      <th>user_id</th>\n",
       "      <th>item_id</th>\n",
       "      <th>rating</th>\n",
       "      <th>timestamp</th>\n",
       "    </tr>\n",
       "  </thead>\n",
       "  <tbody>\n",
       "    <tr>\n",
       "      <th>0</th>\n",
       "      <td>0</td>\n",
       "      <td>50</td>\n",
       "      <td>5</td>\n",
       "      <td>881250949</td>\n",
       "    </tr>\n",
       "    <tr>\n",
       "      <th>1</th>\n",
       "      <td>0</td>\n",
       "      <td>172</td>\n",
       "      <td>5</td>\n",
       "      <td>881250949</td>\n",
       "    </tr>\n",
       "    <tr>\n",
       "      <th>2</th>\n",
       "      <td>0</td>\n",
       "      <td>133</td>\n",
       "      <td>1</td>\n",
       "      <td>881250949</td>\n",
       "    </tr>\n",
       "    <tr>\n",
       "      <th>3</th>\n",
       "      <td>196</td>\n",
       "      <td>242</td>\n",
       "      <td>3</td>\n",
       "      <td>881250949</td>\n",
       "    </tr>\n",
       "    <tr>\n",
       "      <th>4</th>\n",
       "      <td>186</td>\n",
       "      <td>302</td>\n",
       "      <td>3</td>\n",
       "      <td>891717742</td>\n",
       "    </tr>\n",
       "  </tbody>\n",
       "</table>\n",
       "</div>"
      ],
      "text/plain": [
       "   user_id  item_id  rating  timestamp\n",
       "0        0       50       5  881250949\n",
       "1        0      172       5  881250949\n",
       "2        0      133       1  881250949\n",
       "3      196      242       3  881250949\n",
       "4      186      302       3  891717742"
      ]
     },
     "execution_count": 5,
     "metadata": {},
     "output_type": "execute_result"
    }
   ],
   "source": [
    "movies_df.head()"
   ]
  },
  {
   "cell_type": "markdown",
   "id": "c8901799",
   "metadata": {},
   "source": [
    "Dato che non si hanno i nomi dei film, ma i loro relativi id, utilizziamo il file csv 'Movie_ID_Titles'."
   ]
  },
  {
   "cell_type": "code",
   "execution_count": 6,
   "id": "dc369574",
   "metadata": {},
   "outputs": [
    {
     "data": {
      "text/html": [
       "<div>\n",
       "<style scoped>\n",
       "    .dataframe tbody tr th:only-of-type {\n",
       "        vertical-align: middle;\n",
       "    }\n",
       "\n",
       "    .dataframe tbody tr th {\n",
       "        vertical-align: top;\n",
       "    }\n",
       "\n",
       "    .dataframe thead th {\n",
       "        text-align: right;\n",
       "    }\n",
       "</style>\n",
       "<table border=\"1\" class=\"dataframe\">\n",
       "  <thead>\n",
       "    <tr style=\"text-align: right;\">\n",
       "      <th></th>\n",
       "      <th>item_id</th>\n",
       "      <th>title</th>\n",
       "    </tr>\n",
       "  </thead>\n",
       "  <tbody>\n",
       "    <tr>\n",
       "      <th>0</th>\n",
       "      <td>1</td>\n",
       "      <td>Toy Story (1995)</td>\n",
       "    </tr>\n",
       "    <tr>\n",
       "      <th>1</th>\n",
       "      <td>2</td>\n",
       "      <td>GoldenEye (1995)</td>\n",
       "    </tr>\n",
       "    <tr>\n",
       "      <th>2</th>\n",
       "      <td>3</td>\n",
       "      <td>Four Rooms (1995)</td>\n",
       "    </tr>\n",
       "    <tr>\n",
       "      <th>3</th>\n",
       "      <td>4</td>\n",
       "      <td>Get Shorty (1995)</td>\n",
       "    </tr>\n",
       "    <tr>\n",
       "      <th>4</th>\n",
       "      <td>5</td>\n",
       "      <td>Copycat (1995)</td>\n",
       "    </tr>\n",
       "  </tbody>\n",
       "</table>\n",
       "</div>"
      ],
      "text/plain": [
       "   item_id              title\n",
       "0        1   Toy Story (1995)\n",
       "1        2   GoldenEye (1995)\n",
       "2        3  Four Rooms (1995)\n",
       "3        4  Get Shorty (1995)\n",
       "4        5     Copycat (1995)"
      ]
     },
     "execution_count": 6,
     "metadata": {},
     "output_type": "execute_result"
    }
   ],
   "source": [
    "titles = pd.read_csv('Movie_Id_Titles')\n",
    "titles.head()"
   ]
  },
  {
   "cell_type": "code",
   "execution_count": 7,
   "id": "2b5d9412",
   "metadata": {},
   "outputs": [
    {
     "data": {
      "text/html": [
       "<div>\n",
       "<style scoped>\n",
       "    .dataframe tbody tr th:only-of-type {\n",
       "        vertical-align: middle;\n",
       "    }\n",
       "\n",
       "    .dataframe tbody tr th {\n",
       "        vertical-align: top;\n",
       "    }\n",
       "\n",
       "    .dataframe thead th {\n",
       "        text-align: right;\n",
       "    }\n",
       "</style>\n",
       "<table border=\"1\" class=\"dataframe\">\n",
       "  <thead>\n",
       "    <tr style=\"text-align: right;\">\n",
       "      <th></th>\n",
       "      <th>user_id</th>\n",
       "      <th>item_id</th>\n",
       "      <th>rating</th>\n",
       "      <th>timestamp</th>\n",
       "      <th>title</th>\n",
       "    </tr>\n",
       "  </thead>\n",
       "  <tbody>\n",
       "    <tr>\n",
       "      <th>0</th>\n",
       "      <td>0</td>\n",
       "      <td>50</td>\n",
       "      <td>5</td>\n",
       "      <td>881250949</td>\n",
       "      <td>Star Wars (1977)</td>\n",
       "    </tr>\n",
       "    <tr>\n",
       "      <th>1</th>\n",
       "      <td>290</td>\n",
       "      <td>50</td>\n",
       "      <td>5</td>\n",
       "      <td>880473582</td>\n",
       "      <td>Star Wars (1977)</td>\n",
       "    </tr>\n",
       "    <tr>\n",
       "      <th>2</th>\n",
       "      <td>79</td>\n",
       "      <td>50</td>\n",
       "      <td>4</td>\n",
       "      <td>891271545</td>\n",
       "      <td>Star Wars (1977)</td>\n",
       "    </tr>\n",
       "    <tr>\n",
       "      <th>3</th>\n",
       "      <td>2</td>\n",
       "      <td>50</td>\n",
       "      <td>5</td>\n",
       "      <td>888552084</td>\n",
       "      <td>Star Wars (1977)</td>\n",
       "    </tr>\n",
       "    <tr>\n",
       "      <th>4</th>\n",
       "      <td>8</td>\n",
       "      <td>50</td>\n",
       "      <td>5</td>\n",
       "      <td>879362124</td>\n",
       "      <td>Star Wars (1977)</td>\n",
       "    </tr>\n",
       "  </tbody>\n",
       "</table>\n",
       "</div>"
      ],
      "text/plain": [
       "   user_id  item_id  rating  timestamp             title\n",
       "0        0       50       5  881250949  Star Wars (1977)\n",
       "1      290       50       5  880473582  Star Wars (1977)\n",
       "2       79       50       4  891271545  Star Wars (1977)\n",
       "3        2       50       5  888552084  Star Wars (1977)\n",
       "4        8       50       5  879362124  Star Wars (1977)"
      ]
     },
     "execution_count": 7,
     "metadata": {},
     "output_type": "execute_result"
    }
   ],
   "source": [
    "movies_df = pd.merge(movies_df,titles,on='item_id')\n",
    "movies_df.head()"
   ]
  },
  {
   "cell_type": "markdown",
   "id": "b350e408",
   "metadata": {},
   "source": [
    "Si indaga il numero di utenti e film unici nel dataset."
   ]
  },
  {
   "cell_type": "code",
   "execution_count": 9,
   "id": "a9233d95",
   "metadata": {},
   "outputs": [
    {
     "name": "stdout",
     "output_type": "stream",
     "text": [
      "Numero utenti unici:  944\n",
      "Numero film unici:  1682\n"
     ]
    }
   ],
   "source": [
    "n_users= movies_df['user_id'].nunique()\n",
    "n_items = movies_df['item_id'].nunique()\n",
    "\n",
    "print('Numero utenti unici: ',n_users)\n",
    "print('Numero film unici: ',n_items)"
   ]
  },
  {
   "cell_type": "markdown",
   "id": "a9ecc545",
   "metadata": {},
   "source": [
    "## EDA"
   ]
  },
  {
   "cell_type": "markdown",
   "id": "fdc57ec7",
   "metadata": {},
   "source": [
    "Si visualizza brevemente il contenuto del dataset e i film con rating migliore."
   ]
  },
  {
   "cell_type": "code",
   "execution_count": 11,
   "id": "140425bc",
   "metadata": {},
   "outputs": [
    {
     "data": {
      "text/plain": [
       "title\n",
       "They Made Me a Criminal (1939)                            5.000000\n",
       "Marlene Dietrich: Shadow and Light (1996)                 5.000000\n",
       "Saint of Fort Washington, The (1993)                      5.000000\n",
       "Someone Else's America (1995)                             5.000000\n",
       "Star Kid (1997)                                           5.000000\n",
       "Great Day in Harlem, A (1994)                             5.000000\n",
       "Aiqing wansui (1994)                                      5.000000\n",
       "Santa with Muscles (1996)                                 5.000000\n",
       "Prefontaine (1997)                                        5.000000\n",
       "Entertaining Angels: The Dorothy Day Story (1996)         5.000000\n",
       "Pather Panchali (1955)                                    4.625000\n",
       "Some Mother's Son (1996)                                  4.500000\n",
       "Maya Lin: A Strong Clear Vision (1994)                    4.500000\n",
       "Anna (1996)                                               4.500000\n",
       "Everest (1998)                                            4.500000\n",
       "Close Shave, A (1995)                                     4.491071\n",
       "Schindler's List (1993)                                   4.466443\n",
       "Wrong Trousers, The (1993)                                4.466102\n",
       "Casablanca (1942)                                         4.456790\n",
       "Wallace & Gromit: The Best of Aardman Animation (1996)    4.447761\n",
       "Name: rating, dtype: float64"
      ]
     },
     "execution_count": 11,
     "metadata": {},
     "output_type": "execute_result"
    }
   ],
   "source": [
    "# Primi 20 film ordinati per miglior media rating \n",
    "movies_df.groupby('title')['rating'].mean().sort_values(ascending=False).head(20)"
   ]
  },
  {
   "cell_type": "markdown",
   "id": "ddd6c0f1",
   "metadata": {},
   "source": [
    "**Alcuni dei primi film per rating non sono molto conosciuti, questo perché non si sta considerando il numero assoluto di recensioni relative ai film. Probabilmente molti film con media rating 5.0 ma sconosciuti ai più hanno una recensione.**"
   ]
  },
  {
   "cell_type": "code",
   "execution_count": 12,
   "id": "fb7441e1",
   "metadata": {},
   "outputs": [
    {
     "data": {
      "text/plain": [
       "title\n",
       "Star Wars (1977)                    584\n",
       "Contact (1997)                      509\n",
       "Fargo (1996)                        508\n",
       "Return of the Jedi (1983)           507\n",
       "Liar Liar (1997)                    485\n",
       "English Patient, The (1996)         481\n",
       "Scream (1996)                       478\n",
       "Toy Story (1995)                    452\n",
       "Air Force One (1997)                431\n",
       "Independence Day (ID4) (1996)       429\n",
       "Raiders of the Lost Ark (1981)      420\n",
       "Godfather, The (1972)               413\n",
       "Pulp Fiction (1994)                 394\n",
       "Twelve Monkeys (1995)               392\n",
       "Silence of the Lambs, The (1991)    390\n",
       "Jerry Maguire (1996)                384\n",
       "Chasing Amy (1997)                  379\n",
       "Rock, The (1996)                    378\n",
       "Empire Strikes Back, The (1980)     368\n",
       "Star Trek: First Contact (1996)     365\n",
       "Name: rating, dtype: int64"
      ]
     },
     "execution_count": 12,
     "metadata": {},
     "output_type": "execute_result"
    }
   ],
   "source": [
    "# Primi 20 film per numero di recensioni lasciate\n",
    "movies_df.groupby('title')['rating'].count().sort_values(ascending=False).head(20)"
   ]
  },
  {
   "cell_type": "markdown",
   "id": "33549dd1",
   "metadata": {},
   "source": [
    "Si cerca di rimediare a questo problema creando un dataframe con media rating e numero di recensioni."
   ]
  },
  {
   "cell_type": "code",
   "execution_count": 21,
   "id": "2e94e492",
   "metadata": {},
   "outputs": [
    {
     "data": {
      "text/html": [
       "<div>\n",
       "<style scoped>\n",
       "    .dataframe tbody tr th:only-of-type {\n",
       "        vertical-align: middle;\n",
       "    }\n",
       "\n",
       "    .dataframe tbody tr th {\n",
       "        vertical-align: top;\n",
       "    }\n",
       "\n",
       "    .dataframe thead th {\n",
       "        text-align: right;\n",
       "    }\n",
       "</style>\n",
       "<table border=\"1\" class=\"dataframe\">\n",
       "  <thead>\n",
       "    <tr style=\"text-align: right;\">\n",
       "      <th></th>\n",
       "      <th>mean_rating</th>\n",
       "      <th>num_of_ratings</th>\n",
       "    </tr>\n",
       "    <tr>\n",
       "      <th>title</th>\n",
       "      <th></th>\n",
       "      <th></th>\n",
       "    </tr>\n",
       "  </thead>\n",
       "  <tbody>\n",
       "    <tr>\n",
       "      <th>'Til There Was You (1997)</th>\n",
       "      <td>2.333333</td>\n",
       "      <td>9</td>\n",
       "    </tr>\n",
       "    <tr>\n",
       "      <th>1-900 (1994)</th>\n",
       "      <td>2.600000</td>\n",
       "      <td>5</td>\n",
       "    </tr>\n",
       "    <tr>\n",
       "      <th>101 Dalmatians (1996)</th>\n",
       "      <td>2.908257</td>\n",
       "      <td>109</td>\n",
       "    </tr>\n",
       "    <tr>\n",
       "      <th>12 Angry Men (1957)</th>\n",
       "      <td>4.344000</td>\n",
       "      <td>125</td>\n",
       "    </tr>\n",
       "    <tr>\n",
       "      <th>187 (1997)</th>\n",
       "      <td>3.024390</td>\n",
       "      <td>41</td>\n",
       "    </tr>\n",
       "    <tr>\n",
       "      <th>2 Days in the Valley (1996)</th>\n",
       "      <td>3.225806</td>\n",
       "      <td>93</td>\n",
       "    </tr>\n",
       "    <tr>\n",
       "      <th>20,000 Leagues Under the Sea (1954)</th>\n",
       "      <td>3.500000</td>\n",
       "      <td>72</td>\n",
       "    </tr>\n",
       "    <tr>\n",
       "      <th>2001: A Space Odyssey (1968)</th>\n",
       "      <td>3.969112</td>\n",
       "      <td>259</td>\n",
       "    </tr>\n",
       "    <tr>\n",
       "      <th>3 Ninjas: High Noon At Mega Mountain (1998)</th>\n",
       "      <td>1.000000</td>\n",
       "      <td>5</td>\n",
       "    </tr>\n",
       "    <tr>\n",
       "      <th>39 Steps, The (1935)</th>\n",
       "      <td>4.050847</td>\n",
       "      <td>59</td>\n",
       "    </tr>\n",
       "  </tbody>\n",
       "</table>\n",
       "</div>"
      ],
      "text/plain": [
       "                                             mean_rating  num_of_ratings\n",
       "title                                                                   \n",
       "'Til There Was You (1997)                       2.333333               9\n",
       "1-900 (1994)                                    2.600000               5\n",
       "101 Dalmatians (1996)                           2.908257             109\n",
       "12 Angry Men (1957)                             4.344000             125\n",
       "187 (1997)                                      3.024390              41\n",
       "2 Days in the Valley (1996)                     3.225806              93\n",
       "20,000 Leagues Under the Sea (1954)             3.500000              72\n",
       "2001: A Space Odyssey (1968)                    3.969112             259\n",
       "3 Ninjas: High Noon At Mega Mountain (1998)     1.000000               5\n",
       "39 Steps, The (1935)                            4.050847              59"
      ]
     },
     "execution_count": 21,
     "metadata": {},
     "output_type": "execute_result"
    }
   ],
   "source": [
    "ratings = pd.DataFrame({'mean_rating': movies_df.groupby('title')['rating'].mean(),\n",
    "                        'num_of_ratings': movies_df.groupby('title')['rating'].count()})\n",
    "ratings.head(10)"
   ]
  },
  {
   "cell_type": "markdown",
   "id": "4f17f182",
   "metadata": {},
   "source": [
    "Si fa un po' di EDA su questo dataframe."
   ]
  },
  {
   "cell_type": "code",
   "execution_count": 28,
   "id": "54aac777",
   "metadata": {},
   "outputs": [
    {
     "data": {
      "text/plain": [
       "<AxesSubplot:>"
      ]
     },
     "execution_count": 28,
     "metadata": {},
     "output_type": "execute_result"
    },
    {
     "data": {
      "image/png": "[encoded data removed]",
      "text/plain": [
       "<Figure size 864x576 with 1 Axes>"
      ]
     },
     "metadata": {
      "needs_background": "light"
     },
     "output_type": "display_data"
    }
   ],
   "source": [
    "# Distribuzione numero di recensioni per film\n",
    "plt.figure(figsize=(12,8))\n",
    "ratings['num_of_ratings'].hist(bins=60)"
   ]
  },
  {
   "cell_type": "markdown",
   "id": "0c05f8fa",
   "metadata": {},
   "source": [
    "**La distribuzione di numero di rating per film è assolutamente centrata a piccoli valori tendenente all'1, che è un andamento comprensibile. Questo però potrebbe essere problematico per un recommender engine, soprattutto se molto semplice, infatti il modello verrebbe molto deviato da voti a film fatti da pochissime persone.**"
   ]
  },
  {
   "cell_type": "code",
   "execution_count": 60,
   "id": "387e50ca",
   "metadata": {},
   "outputs": [
    {
     "data": {
      "text/plain": [
       "<AxesSubplot:xlabel='mean_rating', ylabel='Count'>"
      ]
     },
     "execution_count": 60,
     "metadata": {},
     "output_type": "execute_result"
    },
    {
     "data": {
      "image/png": "[encoded data removed]",
      "text/plain": [
       "<Figure size 864x576 with 1 Axes>"
      ]
     },
     "metadata": {
      "needs_background": "light"
     },
     "output_type": "display_data"
    }
   ],
   "source": [
    "# Distribuzione media rating per film \n",
    "plt.figure(figsize=(12,8))\n",
    "sns.histplot(data=ratings,x=ratings['mean_rating'],kde=True,bins=60,color='DarkBlue')"
   ]
  },
  {
   "cell_type": "markdown",
   "id": "c80604e0",
   "metadata": {},
   "source": [
    "**La distribuzione delle medie rating presentano dei picchi per i valori interi della scala di voti, questo ha senso perché nel dataset ci saranno molti film con poche recensioni e magari con lo stesso voto.**"
   ]
  },
  {
   "cell_type": "markdown",
   "id": "fdb63fb7",
   "metadata": {},
   "source": [
    "Si confrontano le due distribuzioni con un jointplot."
   ]
  },
  {
   "cell_type": "code",
   "execution_count": 61,
   "id": "d7a908e3",
   "metadata": {},
   "outputs": [
    {
     "data": {
      "text/plain": [
       "<seaborn.axisgrid.JointGrid at 0x7f082f017220>"
      ]
     },
     "execution_count": 61,
     "metadata": {},
     "output_type": "execute_result"
    },
    {
     "data": {
      "image/png": "[encoded data removed]",
      "text/plain": [
       "<Figure size 432x432 with 3 Axes>"
      ]
     },
     "metadata": {
      "needs_background": "light"
     },
     "output_type": "display_data"
    }
   ],
   "source": [
    "sns.jointplot(data=ratings,x='mean_rating',y='num_of_ratings',kind='hist',color='DarkBlue')"
   ]
  },
  {
   "cell_type": "markdown",
   "id": "374f155e",
   "metadata": {},
   "source": [
    "**Si notano i picchi di media rating interi che corrispondono a poche recensioni come preannunciato. Si può vedere come per maggior numero di recensioni la media rating tenda a valori intermedi tra l'1 e il 5, in particolare tra 2.5 e 4.5 per numero recensioni maggiori di 100.**"
   ]
  },
  {
   "cell_type": "markdown",
   "id": "ca5034db",
   "metadata": {},
   "source": [
    "## Training & Test Data"
   ]
  },
  {
   "cell_type": "markdown",
   "id": "b2f748df",
   "metadata": {},
   "source": [
    "Invece che splittare il dataset in X_train, y_train, X_test, y_test come di solito si fa, si divide il dataset in due segmenti."
   ]
  },
  {
   "cell_type": "code",
   "execution_count": 62,
   "id": "c7d81470",
   "metadata": {},
   "outputs": [],
   "source": [
    "from sklearn.model_selection import train_test_split"
   ]
  },
  {
   "cell_type": "code",
   "execution_count": 63,
   "id": "e8243615",
   "metadata": {},
   "outputs": [],
   "source": [
    "train_data, test_data = train_test_split(movies_df,test_size=0.3,random_state=42)"
   ]
  },
  {
   "cell_type": "markdown",
   "id": "1d785ae6",
   "metadata": {},
   "source": [
    "## Memory-Based CF: cosine similarity"
   ]
  },
  {
   "cell_type": "markdown",
   "id": "04e4a60e",
   "metadata": {},
   "source": [
    "Come primo approccio si utilizzerà il coseno di similitudine per generare un recommender engine. Si farà un filtro user-item, che suggerisce items piaciuti agli users simili ad un particolare utente, e uno item-item, che invece consiglia items piaciuti ad users che hanno un particolare item piaciuto in comune."
   ]
  },
  {
   "cell_type": "markdown",
   "id": "42016934",
   "metadata": {},
   "source": [
    "Si crea una matrice user-item per il training e una per il testing."
   ]
  },
  {
   "cell_type": "code",
   "execution_count": 83,
   "id": "c92dacb2",
   "metadata": {},
   "outputs": [],
   "source": [
    "train_data_mat = np.zeros((n_users,n_items))"
   ]
  },
  {
   "cell_type": "code",
   "execution_count": 84,
   "id": "4d1cde54",
   "metadata": {},
   "outputs": [],
   "source": [
    "# Si riempie la precedente matrice con i rating di un user a un particolare item\n",
    "for line in train_data.itertuples():\n",
    "    train_data_mat[line[1]-1,line[2]-1] = line[3]"
   ]
  },
  {
   "cell_type": "code",
   "execution_count": 85,
   "id": "57812fce",
   "metadata": {},
   "outputs": [
    {
     "data": {
      "text/plain": [
       "array([[5., 3., 4., ..., 0., 0., 0.],\n",
       "       [4., 0., 0., ..., 0., 0., 0.],\n",
       "       [0., 0., 0., ..., 0., 0., 0.],\n",
       "       ...,\n",
       "       [0., 0., 0., ..., 0., 0., 0.],\n",
       "       [0., 5., 0., ..., 0., 0., 0.],\n",
       "       [0., 0., 0., ..., 0., 0., 0.]])"
      ]
     },
     "execution_count": 85,
     "metadata": {},
     "output_type": "execute_result"
    }
   ],
   "source": [
    "train_data_mat"
   ]
  },
  {
   "cell_type": "markdown",
   "id": "0416a732",
   "metadata": {},
   "source": [
    "**È una cosiddetta matrice sparsa, infatti è altamente improbabile che molti utenti abbiano visto e recensito la maggior parte di film del dataset.**"
   ]
  },
  {
   "cell_type": "code",
   "execution_count": 86,
   "id": "03bf5dea",
   "metadata": {},
   "outputs": [],
   "source": [
    "test_data_mat = np.zeros((n_users,n_items))\n",
    "for line in test_data.itertuples():\n",
    "    test_data_mat[line[1]-1,line[2]-1] = line[3]"
   ]
  },
  {
   "cell_type": "markdown",
   "id": "4ad17ef9",
   "metadata": {},
   "source": [
    "Si calcola il coseno di similitudine con una funzione di scikit-learn."
   ]
  },
  {
   "cell_type": "code",
   "execution_count": 87,
   "id": "dc20ea85",
   "metadata": {},
   "outputs": [],
   "source": [
    "from sklearn.metrics.pairwise import pairwise_distances"
   ]
  },
  {
   "cell_type": "code",
   "execution_count": 89,
   "id": "77f17c3d",
   "metadata": {},
   "outputs": [],
   "source": [
    "user_similarity = pairwise_distances(train_data_mat, metric='cosine')\n",
    "item_similarity = pairwise_distances(train_data_mat.T, metric='cosine')"
   ]
  },
  {
   "cell_type": "markdown",
   "id": "d1992a04",
   "metadata": {},
   "source": [
    "Ora che si hanno i coseni di similitudine, si devono fare delle previsioni."
   ]
  },
  {
   "cell_type": "markdown",
   "id": "02771ede",
   "metadata": {},
   "source": [
    "### User-based CF"
   ]
  },
  {
   "cell_type": "markdown",
   "id": "03785a39",
   "metadata": {},
   "source": [
    "Si applica la seguente formula per le previsioni sul filtro user-item:\n",
    "\n",
    "<img class=\"aligncenter size-thumbnail img-responsive\" src=\"https://latex.codecogs.com/gif.latex?\\hat{x}_{k,m}&space;=&space;\\bar{x}_{k}&space;&plus;&space;\\frac{\\sum\\limits_{u_a}&space;sim_u(u_k,&space;u_a)&space;(x_{a,m}&space;-&space;\\bar{x_{u_a}})}{\\sum\\limits_{u_a}|sim_u(u_k,&space;u_a)|}\"/>\n",
    "\n",
    "Per prevedere il rating di un utente *k* all'item *m* si somma alla media delle recensioni dell'utente *k* la somma, su tutti gli altri utenti *u_a*, la differenza fra il voto dato dall'utente *a* all'item *m* e la sua media voto pesata dal coseno di similitudine fra utente *k* e *a*, normalizzando il tutto per il valore assoluto dello stesso coseno di similitudine così da mantenere il rating dell'utente *k* all'item *m* tra 1 e 5."
   ]
  },
  {
   "cell_type": "code",
   "execution_count": 99,
   "id": "6c7040e5",
   "metadata": {},
   "outputs": [],
   "source": [
    "mean_user_rating = train_data_mat.mean(axis=1)\n",
    "diff_rating = (train_data_mat - mean_user_rating[:,np.newaxis])\n",
    "user_pred = mean_user_rating[:,np.newaxis] + user_similarity.dot(diff_rating)/np.array([np.abs(user_similarity).sum(axis=1)]).T"
   ]
  },
  {
   "cell_type": "markdown",
   "id": "6ab508e7",
   "metadata": {},
   "source": [
    "### Item-based CF"
   ]
  },
  {
   "cell_type": "markdown",
   "id": "1d0cb083",
   "metadata": {},
   "source": [
    "Si applica la seguente formula per le previsioni sul filtro item-item:\n",
    "\n",
    "<img class=\"aligncenter size-thumbnail img-responsive\" src=\"https://latex.codecogs.com/gif.latex?\\hat{x}_{k,m}&space;=&space;\\frac{\\sum\\limits_{i_b}&space;sim_i(i_m,&space;i_b)&space;(x_{k,b})&space;}{\\sum\\limits_{i_b}|sim_i(i_m,&space;i_b)|}\"/>\n",
    "\n",
    "La formula è totalmente analoga a quella precedente, con l'unica differenza data dal fatto che non servono più le correzioni dei voti medi degli utenti perché impliciti nei coseni di similitudine basati sugli item."
   ]
  },
  {
   "cell_type": "code",
   "execution_count": 116,
   "id": "d63e1e9f",
   "metadata": {},
   "outputs": [],
   "source": [
    "item_pred = train_data_mat.dot(item_similarity)/np.array([np.abs(item_similarity).sum(axis=1)])     "
   ]
  },
  {
   "cell_type": "markdown",
   "id": "52731c45",
   "metadata": {},
   "source": [
    "## Performance del Modello"
   ]
  },
  {
   "cell_type": "markdown",
   "id": "e4771b2f",
   "metadata": {},
   "source": [
    "Si valuta il potere predittivo del modello Memory-Based CF calcolando il Root Mean Squared Error (RMSE)."
   ]
  },
  {
   "cell_type": "code",
   "execution_count": 117,
   "id": "74a84f91",
   "metadata": {},
   "outputs": [],
   "source": [
    "from sklearn.metrics import mean_squared_error"
   ]
  },
  {
   "cell_type": "code",
   "execution_count": 129,
   "id": "e0c6f9d4",
   "metadata": {},
   "outputs": [
    {
     "data": {
      "text/plain": [
       "array([0.44978625, 0.30219553, 1.23250423, ..., 0.21803109, 0.30231016,\n",
       "       0.26056874])"
      ]
     },
     "execution_count": 129,
     "metadata": {},
     "output_type": "execute_result"
    }
   ],
   "source": [
    "user_prediction = user_pred[test_data_mat.nonzero()]\n",
    "user_prediction"
   ]
  },
  {
   "cell_type": "code",
   "execution_count": 130,
   "id": "cb2ba498",
   "metadata": {},
   "outputs": [
    {
     "data": {
      "text/plain": [
       "array([0.36944399, 0.39138662, 0.33644471, ..., 0.23861006, 0.24411384,\n",
       "       0.233369  ])"
      ]
     },
     "execution_count": 130,
     "metadata": {},
     "output_type": "execute_result"
    }
   ],
   "source": [
    "item_prediction = item_pred[test_data_mat.nonzero()]\n",
    "item_prediction"
   ]
  },
  {
   "cell_type": "code",
   "execution_count": 158,
   "id": "cfde688f",
   "metadata": {},
   "outputs": [
    {
     "data": {
      "text/plain": [
       "array([3., 5., 4., ..., 1., 2., 4.])"
      ]
     },
     "execution_count": 158,
     "metadata": {},
     "output_type": "execute_result"
    }
   ],
   "source": [
    "test_data_mat_nonzero = test_data_mat[test_data_mat.nonzero()]\n",
    "test_data_mat_nonzero"
   ]
  },
  {
   "cell_type": "code",
   "execution_count": 159,
   "id": "86e518ae",
   "metadata": {},
   "outputs": [
    {
     "name": "stdout",
     "output_type": "stream",
     "text": [
      "RMSE dell'User-based CF: 3.161679578914151\n",
      "RMSE dell'Item-based CF: 3.4670906022955386\n"
     ]
    }
   ],
   "source": [
    "print('RMSE dell\\'User-based CF:',np.sqrt(mean_squared_error(user_prediction,test_data_mat_nonzero)))\n",
    "print('RMSE dell\\'Item-based CF:',np.sqrt(mean_squared_error(item_prediction,test_data_mat_nonzero)))"
   ]
  },
  {
   "cell_type": "markdown",
   "id": "4bc0e070",
   "metadata": {},
   "source": [
    "**Gli algoritmi Memory-based CF sono abbastanza facili da implementare e producono buone previsioni, il problema è che non sono scalabili a problemi del mondo reale e non risolvono il problema del cold-start, ovvero quando un nuovo user o item entrano nel sistema. Invece i metodi Model-based CF sono scalabili e riescono a trattare matrici sparse che i Memory-based non sostengono dopo un certo livello, purtroppo anch'essi soffrono del cold-start che viene risolto solo da algoritmi ibridi Collaborative-Filtering e Content-Based.** "
   ]
  },
  {
   "cell_type": "markdown",
   "id": "2c07b3da",
   "metadata": {},
   "source": [
    "## Model-Based CF: SVD"
   ]
  },
  {
   "cell_type": "markdown",
   "id": "33db9495",
   "metadata": {},
   "source": [
    "Il Model-based CF si basa sulla decomposizione matriciale (MF), utilizzata spesso come metodo di unsupervised learning per la riduzione dimensionale e la decomposizione in variabili latenti. Un metodo di MF molto noto, per via soprattutto del *Netflix Prize*, è la Decomposizione ai valori singolari o, dall'inglese Singular Value Decomposition, **SVD**. \n",
    "\n",
    "L'equazione generale della SVD è la seguente:\n",
    "<img src=\"https://latex.codecogs.com/gif.latex?X=USV^T\" title=\"X=USV^T\" />\n",
    "\n",
    "\n",
    "Dove la matrice data *X*, da approssimare con la SVD, è *(m x n)*:\n",
    "* *U* è una matrice ortogonale *(m x r)*\n",
    "* *S* è una matrice diagonale *(r x r)* con numeri reali non negativi\n",
    "* *V^T* è una matrice ortogonale *(r x n)* \n",
    "\n",
    "Gli elementi sulla diagonale di *S* sono noti come **valori singolari** di *X*, che rappresentano le variabili nascoste per ordine crescente di importanza.\n",
    "\n",
    "La matrice *U* rappresenta i vettori feature relativi agli user nello spazio delle feature nascoste, mentre la matrice *V* rappresenta i vettori feature relativi agli item nello spazio delle feature nascoste."
   ]
  },
  {
   "cell_type": "markdown",
   "id": "caa21c49",
   "metadata": {},
   "source": [
    "Si valuta il livello di sparsity del dataset MovieLens."
   ]
  },
  {
   "cell_type": "code",
   "execution_count": 173,
   "id": "2a229133",
   "metadata": {},
   "outputs": [
    {
     "name": "stdout",
     "output_type": "stream",
     "text": [
      "Il livello di sparsity di MovieLens è: 93.7018 %\n"
     ]
    }
   ],
   "source": [
    "sparsity = round(1.0-len(movies_df)/float(n_users*n_items),6)\n",
    "print('Il livello di sparsity di MovieLens è:', sparsity*100, '%')"
   ]
  },
  {
   "cell_type": "markdown",
   "id": "7913ca1b",
   "metadata": {},
   "source": [
    "## Performance del Modello"
   ]
  },
  {
   "cell_type": "markdown",
   "id": "463a0f5a",
   "metadata": {},
   "source": [
    "Si indaga se l'algortimo Model-Based CF con SVD dia risultati migliori del Memory-Based confrontando gli RMSE."
   ]
  },
  {
   "cell_type": "code",
   "execution_count": 144,
   "id": "9b1fde7d",
   "metadata": {},
   "outputs": [],
   "source": [
    "import scipy.sparse as sp\n",
    "from scipy.sparse.linalg import svds"
   ]
  },
  {
   "cell_type": "markdown",
   "id": "ab155daa",
   "metadata": {},
   "source": [
    "Si ottimizza la scelta del parametro *k* in svds()."
   ]
  },
  {
   "cell_type": "code",
   "execution_count": 257,
   "id": "e74ea14a",
   "metadata": {},
   "outputs": [],
   "source": [
    "rmse = []\n",
    "for i in range(1,100):\n",
    "    u, s, vt = svds(train_data_mat,k=i)\n",
    "    s_diag_matrix = np.diag(s)\n",
    "    X_pred = np.dot(np.dot(u, s_diag_matrix), vt)\n",
    "    X_predictions = X_pred[test_data_mat.nonzero()]\n",
    "    rmse.append(np.sqrt(mean_squared_error(X_predictions,test_data_mat_nonzero)))"
   ]
  },
  {
   "cell_type": "code",
   "execution_count": 258,
   "id": "a5b96e83",
   "metadata": {},
   "outputs": [
    {
     "data": {
      "text/plain": [
       "Text(0, 0.5, 'RMSE')"
      ]
     },
     "execution_count": 258,
     "metadata": {},
     "output_type": "execute_result"
    },
    {
     "data": {
      "image/png": "[encoded data removed]",
      "text/plain": [
       "<Figure size 864x576 with 1 Axes>"
      ]
     },
     "metadata": {
      "needs_background": "light"
     },
     "output_type": "display_data"
    }
   ],
   "source": [
    "plt.figure(figsize=(12,8))\n",
    "plt.plot(range(1,100),rmse,color='blue',ls='--',marker='o',\n",
    "         markerfacecolor='red',markersize=10)\n",
    "plt.title('RMSE vs K Value')\n",
    "plt.xlabel('K')\n",
    "plt.ylabel('RMSE')"
   ]
  },
  {
   "cell_type": "markdown",
   "id": "6eb1ebac",
   "metadata": {},
   "source": [
    "**È evidente un bel minimo per k=10, oltre si tende all'overfitting.**"
   ]
  },
  {
   "cell_type": "code",
   "execution_count": 279,
   "id": "de4232e6",
   "metadata": {},
   "outputs": [
    {
     "name": "stdout",
     "output_type": "stream",
     "text": [
      "RMSE del Model-Based CF con SVD: 2.7435919378781684\n"
     ]
    }
   ],
   "source": [
    "u, s, vt = svds(train_data_mat,k=10)\n",
    "s_diag_matrix = np.diag(s)\n",
    "X_pred = np.dot(np.dot(u, s_diag_matrix), vt)\n",
    "X_predictions = X_pred[test_data_mat.nonzero()]\n",
    "print('RMSE del Model-Based CF con SVD:',np.sqrt(mean_squared_error(X_predictions,test_data_mat_nonzero)))"
   ]
  },
  {
   "cell_type": "markdown",
   "id": "f7f4df28",
   "metadata": {},
   "source": [
    "**Il recommender engine Model-Based CF con SVD pare performare meglio di quelli Memory-Based CF in questo caso.**"
   ]
  },
  {
   "cell_type": "markdown",
   "id": "05b6acfa",
   "metadata": {},
   "source": [
    "E qui si conclude il progetto portfolio sui Recommender Systems in cui si sono implementati algoritmi basati sul coseno di similitudine e sul SVD."
   ]
  }
 ],
 "metadata": {
  "kernelspec": {
   "display_name": "Python 3 (ipykernel)",
   "language": "python",
   "name": "python3"
  },
  "language_info": {
   "codemirror_mode": {
    "name": "ipython",
    "version": 3
   },
   "file_extension": ".py",
   "mimetype": "text/x-python",
   "name": "python",
   "nbconvert_exporter": "python",
   "pygments_lexer": "ipython3",
   "version": "3.9.12"
  }
 },
 "nbformat": 4,
 "nbformat_minor": 5
}
